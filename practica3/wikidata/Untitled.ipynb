{
 "cells": [
  {
   "cell_type": "code",
   "execution_count": null,
   "metadata": {},
   "outputs": [],
   "source": []
  },
  {
   "cell_type": "markdown",
   "metadata": {},
   "source": [
    "## Consulta 1\n",
    "Hans Zimmer (Q76364) es un famoso compositor de muchas bandas sonoras de películas. Vamos a comenzar por averiguar su fecha y lugar de nacimiento"
   ]
  },
  {
   "cell_type": "raw",
   "metadata": {},
   "source": [
    "SELECT ?date ?place ?placeLabel \n",
    "WHERE{\n",
    "    wd:Q76364 wdt:P569 ?date; #Fecha de nacimiento \n",
    "              wdt:P19 ?place. #Lugar de nacimiento \n",
    "            # Hans Zimmer tine como fecha de nacimiento y lugar de nacimiento\n",
    "    \n",
    "  SERVICE wikibase:label { bd:serviceParam wikibase:language \"[AUTO_LANGUAGE],en\". }\n",
    "  \n",
    "  \n",
    "}"
   ]
  },
  {
   "cell_type": "markdown",
   "metadata": {},
   "source": [
    "<html><head><meta charset=\"utf-8\"></head><body><table><thead><tr><th>date</th><th>dateLabel</th><th>place</th><th>placeLabel</th></tr></thead><tbody><tr><td>1957-09-12T00:00:00Z</td><td>1957-09-12T00:00:00Z</td><td>http://www.wikidata.org/entity/Q1794</td><td>Fráncfort del Meno</td></tr></tbody></table></body></html>"
   ]
  },
  {
   "cell_type": "markdown",
   "metadata": {},
   "source": [
    "## Consulta 2\n",
    "A continuación, vamos a averiguar los instrumentos que toca. Queremos obtener los resultados ordenados alfabéticamente por el nombre del instrumento."
   ]
  },
  {
   "cell_type": "raw",
   "metadata": {},
   "source": [
    "SELECT ?instrumento ?instrumentoLabel WHERE {\n",
    "  wd:Q76364 wdt:P1303 ?instrumento. #Consulta para ver que instrumentos toca \n",
    "  SERVICE wikibase:label { bd:serviceParam wikibase:language \"[AUTO_LANGUAGE],en\". }\n",
    "}\n",
    "ORDER BY ASC(?instrumentoLabel)# Sirve para ordenar poe orden alfabetico, ASC (ascendente) \n"
   ]
  },
  {
   "cell_type": "markdown",
   "metadata": {},
   "source": [
    "<html><head><meta charset=\"utf-8\"></head><body><table><thead><tr><th>instrumento</th><th>instrumentoLabel</th></tr></thead><tbody><tr><td>http://www.wikidata.org/entity/Q258896</td><td>banjo</td></tr><tr><td>http://www.wikidata.org/entity/Q6607</td><td>guitarra</td></tr><tr><td>http://www.wikidata.org/entity/Q46185</td><td>guitarra bajo</td></tr><tr><td>http://www.wikidata.org/entity/Q5994</td><td>piano</td></tr><tr><td>http://www.wikidata.org/entity/Q163829</td><td>sintetizador</td></tr><tr><td>http://www.wikidata.org/entity/Q52954</td><td>teclado</td></tr></tbody></table></body></html>"
   ]
  },
  {
   "cell_type": "markdown",
   "metadata": {},
   "source": [
    "## Consulta 3\n",
    "¿Cuales de los instrumentos que toca son instrumentos de cuerda? Ten en cuenta que los instrumentos pueden ser indirectamente de cuerda a través de varias relaciones subclase."
   ]
  },
  {
   "cell_type": "code",
   "execution_count": null,
   "metadata": {},
   "outputs": [],
   "source": []
  },
  {
   "cell_type": "markdown",
   "metadata": {},
   "source": [
    "## Consulta 4\n",
    "Zimmer ha recibido muchas nominaciones y premios a lo largo de su carrera. Queremos obtener una lista de nominaciones y para cada una de ellas el trabajo por el cual fue nominado. Para resolver esta consulta necesitarás acceder a los cualificadores de nodos sentencia y necesitarás entender los prefijos que usa Wikidata."
   ]
  },
  {
   "cell_type": "raw",
   "metadata": {},
   "source": [
    "SELECT ?nominado ?premiado_por_la_obra ?premiado_por_la_obraLabel WHERE {\n",
    "  wd:Q76364 p:P1411 ?nominado. #p hace que apunetemos al nodo de declaracion, haciendolo como sujeto de la otra\n",
    "  #terna\n",
    "  ?nominado pq:P1686 ?premiado_por_la_obra.# con pq apuntanos a los calificativos(propiedades) del nodo \n",
    "\n",
    "  SERVICE wikibase:label { bd:serviceParam wikibase:language \"[AUTO_LANGUAGE],en\". }\n",
    "  #OPTIONAL { ?nominado wdt:P1686 ?premiado_por_la_obra. }"
   ]
  },
  {
   "cell_type": "markdown",
   "metadata": {},
   "source": [
    "<html><head><meta charset=\"utf-8\"></head><body><table><thead><tr><th>nominado</th><th>premiado_por_la_obra</th><th>premiado_por_la_obraLabel</th></tr></thead><tbody><tr><td>http://www.wikidata.org/entity/statement/Q76364-116B32CC-5026-4A18-988D-6C679FC6E433</td><td>http://www.wikidata.org/entity/Q221594</td><td>Mejor... imposible</td></tr><tr><td>http://www.wikidata.org/entity/statement/Q76364-477B905D-C071-43DF-BA2B-E7DD5753CA67</td><td>http://www.wikidata.org/entity/Q1475674</td><td>The Preacher's Wife</td></tr><tr><td>http://www.wikidata.org/entity/statement/Q76364-81463029-57BB-4202-AF87-B715EF8C7F13</td><td>http://www.wikidata.org/entity/Q36479</td><td>El rey león</td></tr><tr><td>http://www.wikidata.org/entity/statement/Q76364-82289452-7980-47C5-B4DA-15B8A6A89015</td><td>http://www.wikidata.org/entity/Q221491</td><td>La delgada línea roja</td></tr><tr><td>http://www.wikidata.org/entity/statement/Q76364-957037E9-4B85-469B-96DD-2153B475FF81</td><td>http://www.wikidata.org/entity/Q200396</td><td>Sherlock Holmes</td></tr><tr><td>http://www.wikidata.org/entity/statement/Q76364-A642A997-C4D8-48BF-B10B-2D4C59499D67</td><td>http://www.wikidata.org/entity/Q245227</td><td>El príncipe de Egipto</td></tr><tr><td>http://www.wikidata.org/entity/statement/Q76364-C9970895-779B-449C-BEB1-C1C9556DF631</td><td>http://www.wikidata.org/entity/Q25188</td><td>Inception</td></tr><tr><td>http://www.wikidata.org/entity/statement/Q76364-E32D2389-DE0D-4096-A712-97F2BD74582C</td><td>http://www.wikidata.org/entity/Q128518</td><td>Gladiator</td></tr><tr><td>http://www.wikidata.org/entity/statement/Q76364-EEE7DBD7-FACC-44F9-9B9D-CBB1096D04A5</td><td>http://www.wikidata.org/entity/Q188845</td><td>Rain Man</td></tr><tr><td>http://www.wikidata.org/entity/statement/Q76364-F2384BF2-46FA-488B-B84B-C18EB19DC643</td><td>http://www.wikidata.org/entity/Q13417189</td><td>Interstellar</td></tr></tbody></table></body></html>"
   ]
  },
  {
   "cell_type": "markdown",
   "metadata": {},
   "source": [
    "## Consulta 5\n",
    "Ahora queremos conocer el título de todas las películas en las que Zimmer ha colaborado como compositor. Se mostrarán ordenadas alfabéticamente y debes tener cuidado de no mostrar resultados repetidos."
   ]
  },
  {
   "cell_type": "code",
   "execution_count": null,
   "metadata": {},
   "outputs": [],
   "source": []
  },
  {
   "cell_type": "markdown",
   "metadata": {},
   "source": [
    "## Consulta 6\n",
    "Zimmer es sin duda un compositor prolífico. ¿Exactamente en cuentas películas ha participado como compositor?"
   ]
  },
  {
   "cell_type": "code",
   "execution_count": null,
   "metadata": {},
   "outputs": [],
   "source": []
  },
  {
   "cell_type": "markdown",
   "metadata": {},
   "source": [
    "## Consulta 7\n",
    "Es importante que las películas tengan una duración adecuada, ni muy cortas ni demasiado largas. De todas las películas en las que ha colaborado Zimmer como compositor, ¿cuáles duran entre 90 y 120 minutos? Muestra los resultados ordenados alfabéticamente. Para cada película muestra el título y la duración.\n",
    "Algunas películas (como Salto al peligro) pueden tener varias duraciones (supongo que son distintas versiones de la película). En este apartado no importa si aparecen varias veces en los resultados.\n"
   ]
  },
  {
   "cell_type": "code",
   "execution_count": null,
   "metadata": {},
   "outputs": [],
   "source": []
  },
  {
   "cell_type": "markdown",
   "metadata": {},
   "source": [
    "## Consulta 8\n",
    "Vamos a recuperar ahora las películas más actuales en las que Zimmer ha colaborado como compositor. Estamos interesados específicamente en películas que se hayan estrenado a partir de 2005.\n",
    "Seguramente, en tu primer intento verás que cada película aparece repetida varias veces con fechas distintas porque Wikidata contiene las fechas de estreno en cada país. Vamos a considerar que la fecha real de estreno de la película es la fecha más antigua de todas ellas.\n",
    "Para que cada película aparezca sólo una vez con la fecha correcta necesitarás agrupar las respuestas por película y título, y aplicar una función de agregación sobre las fechas de publicación. Los resultados se tienen que mostrar ordenados alfabéticamente.\n"
   ]
  },
  {
   "cell_type": "code",
   "execution_count": null,
   "metadata": {},
   "outputs": [],
   "source": []
  },
  {
   "cell_type": "markdown",
   "metadata": {},
   "source": [
    "## Consulta 9\n",
    "En una película pueden colaborar varios músicos. ¿Qué otros compositores han compuesto junto a Zimmer en una película? Para cada uno de ellos muestra su nombre, la fecha de nacimiento y (si ha fallecido) la fecha de defunción. Los resultados deben aparecer ordenados alfabéticamente."
   ]
  },
  {
   "cell_type": "code",
   "execution_count": null,
   "metadata": {},
   "outputs": [],
   "source": []
  },
  {
   "cell_type": "markdown",
   "metadata": {},
   "source": [
    "## Consulta 10\n",
    "¿Cuántos asertos hay sobre Zimmer en Wikidata? Ten en cuenta que Zimmer puede aparecer tanto como sujeto como objeto de cada tripleta."
   ]
  },
  {
   "cell_type": "code",
   "execution_count": null,
   "metadata": {},
   "outputs": [],
   "source": []
  }
 ],
 "metadata": {
  "kernelspec": {
   "display_name": "Python 3",
   "language": "python",
   "name": "python3"
  },
  "language_info": {
   "codemirror_mode": {
    "name": "ipython",
    "version": 3
   },
   "file_extension": ".py",
   "mimetype": "text/x-python",
   "name": "python",
   "nbconvert_exporter": "python",
   "pygments_lexer": "ipython3",
   "version": "3.7.4"
  }
 },
 "nbformat": 4,
 "nbformat_minor": 4
}
