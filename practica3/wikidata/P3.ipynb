{
 "cells": [
  {
   "cell_type": "code",
   "execution_count": null,
   "metadata": {},
   "outputs": [],
   "source": []
  },
  {
   "cell_type": "markdown",
   "metadata": {},
   "source": [
    "## Consulta 1\n",
    "Hans Zimmer (Q76364) es un famoso compositor de muchas bandas sonoras de películas. Vamos a comenzar por averiguar su fecha y lugar de nacimiento"
   ]
  },
  {
   "cell_type": "raw",
   "metadata": {},
   "source": [
    "SELECT ?date ?place ?placeLabel \n",
    "WHERE{\n",
    "    wd:Q76364 wdt:P569 ?date; #Fecha de nacimiento \n",
    "              wdt:P19 ?place. #Lugar de nacimiento \n",
    "            # Hans Zimmer tine como fecha de nacimiento y lugar de nacimiento\n",
    "    \n",
    "  SERVICE wikibase:label { bd:serviceParam wikibase:language \"[AUTO_LANGUAGE],en\". }\n",
    "  \n",
    "  \n",
    "}"
   ]
  },
  {
   "cell_type": "markdown",
   "metadata": {},
   "source": [
    "<html><head><meta charset=\"utf-8\"></head><body><table><thead><tr><th>date</th><th>dateLabel</th><th>place</th><th>placeLabel</th></tr></thead><tbody><tr><td>1957-09-12T00:00:00Z</td><td>1957-09-12T00:00:00Z</td><td>http://www.wikidata.org/entity/Q1794</td><td>Fráncfort del Meno</td></tr></tbody></table></body></html>"
   ]
  },
  {
   "cell_type": "markdown",
   "metadata": {},
   "source": [
    "## Consulta 2\n",
    "A continuación, vamos a averiguar los instrumentos que toca. Queremos obtener los resultados ordenados alfabéticamente por el nombre del instrumento."
   ]
  },
  {
   "cell_type": "raw",
   "metadata": {},
   "source": [
    "SELECT ?instrumento ?instrumentoLabel WHERE {\n",
    "  wd:Q76364 wdt:P1303 ?instrumento. #Consulta para ver que instrumentos toca \n",
    "  SERVICE wikibase:label { bd:serviceParam wikibase:language \"[AUTO_LANGUAGE],en\". }\n",
    "}\n",
    "ORDER BY ASC(?instrumentoLabel)# Sirve para ordenar poe orden alfabetico, ASC (ascendente) \n"
   ]
  },
  {
   "cell_type": "markdown",
   "metadata": {},
   "source": [
    "<html><head><meta charset=\"utf-8\"></head><body><table><thead><tr><th>instrumento</th><th>instrumentoLabel</th></tr></thead><tbody><tr><td>http://www.wikidata.org/entity/Q258896</td><td>banjo</td></tr><tr><td>http://www.wikidata.org/entity/Q6607</td><td>guitarra</td></tr><tr><td>http://www.wikidata.org/entity/Q46185</td><td>guitarra bajo</td></tr><tr><td>http://www.wikidata.org/entity/Q5994</td><td>piano</td></tr><tr><td>http://www.wikidata.org/entity/Q163829</td><td>sintetizador</td></tr><tr><td>http://www.wikidata.org/entity/Q52954</td><td>teclado</td></tr></tbody></table></body></html>"
   ]
  },
  {
   "cell_type": "markdown",
   "metadata": {},
   "source": [
    "## Consulta 3\n",
    "¿Cuales de los instrumentos que toca son instrumentos de cuerda? Ten en cuenta que los instrumentos pueden ser indirectamente de cuerda a través de varias relaciones subclase."
   ]
  },
  {
   "cell_type": "raw",
   "metadata": {},
   "source": [
    "SELECT ?instrument ?instrumentLabel\n",
    "WHERE\n",
    "{\n",
    "  wd:Q76364 wdt:P1303 ?instrument. #Sacamos todos los instrumetos que toca Hans Zimmer \n",
    "  ?instrument wdt:P279* wd:Q1798603.#De esos instrumetos vemos si estan contenidos en la subclase de isntrumetos \n",
    "  # de cuerda(Q1798603), para ello usamos P279* \n",
    "  \n",
    "  SERVICE wikibase:label { bd:serviceParam wikibase:language \"[AUTO_LANGUAGE]\". }\n",
    "}"
   ]
  },
  {
   "cell_type": "markdown",
   "metadata": {},
   "source": [
    "<html><head><meta charset=\"utf-8\"></head><body><table><thead><tr><th>instrument</th><th>instrumentLabel</th></tr></thead><tbody><tr><td>http://www.wikidata.org/entity/Q5994</td><td>piano</td></tr><tr><td>http://www.wikidata.org/entity/Q258896</td><td>banjo</td></tr><tr><td>http://www.wikidata.org/entity/Q6607</td><td>guitarra</td></tr><tr><td>http://www.wikidata.org/entity/Q46185</td><td>guitarra bajo</td></tr></tbody></table></body></html>"
   ]
  },
  {
   "cell_type": "markdown",
   "metadata": {},
   "source": [
    "## Consulta 4\n",
    "Zimmer ha recibido muchas nominaciones y premios a lo largo de su carrera. Queremos obtener una lista de nominaciones y para cada una de ellas el trabajo por el cual fue nominado. Para resolver esta consulta necesitarás acceder a los cualificadores de nodos sentencia y necesitarás entender los prefijos que usa Wikidata."
   ]
  },
  {
   "cell_type": "raw",
   "metadata": {},
   "source": [
    "SELECT ?nominado ?premiado_por_la_obra ?premiado_por_la_obraLabel WHERE {\n",
    "  wd:Q76364 p:P1411 ?nominado. #p hace que apunetemos al nodo de declaracion, haciendolo como sujeto de la otra\n",
    "  #terna\n",
    "  ?nominado pq:P1686 ?premiado_por_la_obra.# con pq apuntanos a los calificativos(propiedades) del nodo \n",
    "\n",
    "  SERVICE wikibase:label { bd:serviceParam wikibase:language \"[AUTO_LANGUAGE],en\". }\n",
    "  #OPTIONAL { ?nominado wdt:P1686 ?premiado_por_la_obra. }"
   ]
  },
  {
   "cell_type": "markdown",
   "metadata": {},
   "source": [
    "<html><head><meta charset=\"utf-8\"></head><body><table><thead><tr><th>film</th><th>filmLabel</th></tr></thead><tbody><tr><td>http://www.wikidata.org/entity/Q1192764</td><td>Q1192764</td></tr><tr><td>http://www.wikidata.org/entity/Q129288</td><td>Q129288</td></tr><tr><td>http://www.wikidata.org/entity/Q1472370</td><td>Q1472370</td></tr><tr><td>http://www.wikidata.org/entity/Q14947421</td><td>Q14947421</td></tr><tr><td>http://www.wikidata.org/entity/Q16155083</td><td>Q16155083</td></tr><tr><td>http://www.wikidata.org/entity/Q1753610</td><td>Q1753610</td></tr><tr><td>http://www.wikidata.org/entity/Q18511204</td><td>Q18511204</td></tr><tr><td>http://www.wikidata.org/entity/Q2406188</td><td>Q2406188</td></tr><tr><td>http://www.wikidata.org/entity/Q27958082</td><td>Q27958082</td></tr><tr><td>http://www.wikidata.org/entity/Q2963312</td><td>Q2963312</td></tr><tr><td>http://www.wikidata.org/entity/Q3402011</td><td>Q3402011</td></tr><tr><td>http://www.wikidata.org/entity/Q3936037</td><td>Q3936037</td></tr><tr><td>http://www.wikidata.org/entity/Q3964671</td><td>Q3964671</td></tr><tr><td>http://www.wikidata.org/entity/Q4096517</td><td>Q4096517</td></tr><tr><td>http://www.wikidata.org/entity/Q4286601</td><td>Q4286601</td></tr><tr><td>http://www.wikidata.org/entity/Q4327979</td><td>Q4327979</td></tr><tr><td>http://www.wikidata.org/entity/Q4376535</td><td>Q4376535</td></tr><tr><td>http://www.wikidata.org/entity/Q4424430</td><td>Q4424430</td></tr><tr><td>http://www.wikidata.org/entity/Q4689527</td><td>Q4689527</td></tr><tr><td>http://www.wikidata.org/entity/Q47069744</td><td>Q47069744</td></tr><tr><td>http://www.wikidata.org/entity/Q4749984</td><td>Q4749984</td></tr><tr><td>http://www.wikidata.org/entity/Q571014</td><td>Q571014</td></tr><tr><td>http://www.wikidata.org/entity/Q57983078</td><td>Q57983078</td></tr><tr><td>http://www.wikidata.org/entity/Q583623</td><td>Q583623</td></tr><tr><td>http://www.wikidata.org/entity/Q65090738</td><td>Q65090738</td></tr><tr><td>http://www.wikidata.org/entity/Q6928990</td><td>Q6928990</td></tr><tr><td>http://www.wikidata.org/entity/Q7702661</td><td>Q7702661</td></tr><tr><td>http://www.wikidata.org/entity/Q7735390</td><td>Q7735390</td></tr><tr><td>http://www.wikidata.org/entity/Q7858914</td><td>Q7858914</td></tr><tr><td>http://www.wikidata.org/entity/Q853425</td><td>Q853425</td></tr><tr><td>http://www.wikidata.org/entity/Q85520081</td><td>Q85520081</td></tr><tr><td>http://www.wikidata.org/entity/Q85530211</td><td>Q85530211</td></tr><tr><td>http://www.wikidata.org/entity/Q85536881</td><td>Q85536881</td></tr><tr><td>http://www.wikidata.org/entity/Q86458113</td><td>Q86458113</td></tr><tr><td>http://www.wikidata.org/entity/Q3023357</td><td>12 Años de esclavitud</td></tr><tr><td>http://www.wikidata.org/entity/Q1306472</td><td>A League of Their Own</td></tr><tr><td>http://www.wikidata.org/entity/Q499371</td><td>Backdraft</td></tr><tr><td>http://www.wikidata.org/entity/Q166262</td><td>Batman Begins</td></tr><tr><td>http://www.wikidata.org/entity/Q14772351</td><td>Batman v Superman: El Amanecer De La Justicia</td></tr><tr><td>http://www.wikidata.org/entity/Q135347</td><td>Bird on a Wire</td></tr><tr><td>http://www.wikidata.org/entity/Q221384</td><td>Black Hawk Down</td></tr><tr><td>http://www.wikidata.org/entity/Q1048085</td><td>Black Rain</td></tr><tr><td>http://www.wikidata.org/entity/Q21500755</td><td>Blade Runner 2049</td></tr><tr><td>http://www.wikidata.org/entity/Q61450772</td><td>Bob Esponja al Rescate</td></tr><tr><td>http://www.wikidata.org/entity/Q21534241</td><td>Bond 25</td></tr><tr><td>http://www.wikidata.org/entity/Q18619153</td><td>Boss Baby</td></tr><tr><td>http://www.wikidata.org/entity/Q392915</td><td>Broken Arrow</td></tr><tr><td>http://www.wikidata.org/entity/Q15209986</td><td>Chappie</td></tr><tr><td>http://www.wikidata.org/entity/Q135491</td><td>Colmillo blanco</td></tr><tr><td>http://www.wikidata.org/entity/Q282748</td><td>Cool Runnings</td></tr><tr><td>http://www.wikidata.org/entity/Q603696</td><td>Days of Thunder</td></tr><tr><td>http://www.wikidata.org/entity/Q211373</td><td>Driving Miss Daisy</td></tr><tr><td>http://www.wikidata.org/entity/Q60834962</td><td>Dune</td></tr><tr><td>http://www.wikidata.org/entity/Q21935651</td><td>Dunkirk</td></tr><tr><td>http://www.wikidata.org/entity/Q1148079</td><td>El Inquilino o De Repente, un Extraño.</td></tr><tr><td>http://www.wikidata.org/entity/Q160560</td><td>El código Da Vinci</td></tr><tr><td>http://www.wikidata.org/entity/Q622769</td><td>El hombre de acero</td></tr><tr><td>http://www.wikidata.org/entity/Q60296</td><td>El hombre del tiempo</td></tr><tr><td>http://www.wikidata.org/entity/Q1141706</td><td>El pacificador</td></tr><tr><td>http://www.wikidata.org/entity/Q16386722</td><td>El principito</td></tr><tr><td>http://www.wikidata.org/entity/Q245227</td><td>El príncipe de Egipto</td></tr><tr><td>http://www.wikidata.org/entity/Q337090</td><td>El rey Arturo (película de 2004)</td></tr><tr><td>http://www.wikidata.org/entity/Q27044293</td><td>El rey león</td></tr><tr><td>http://www.wikidata.org/entity/Q36479</td><td>El rey león</td></tr><tr><td>http://www.wikidata.org/entity/Q207130</td><td>El último samurái</td></tr><tr><td>http://www.wikidata.org/entity/Q390299</td><td>Fanático</td></tr><tr><td>http://www.wikidata.org/entity/Q18210299</td><td>Freeheld</td></tr><tr><td>http://www.wikidata.org/entity/Q2066933</td><td>Freeheld</td></tr><tr><td>http://www.wikidata.org/entity/Q691672</td><td>Frost/Nixon</td></tr><tr><td>http://www.wikidata.org/entity/Q128518</td><td>Gladiator</td></tr><tr><td>http://www.wikidata.org/entity/Q505135</td><td>Green card</td></tr><tr><td>http://www.wikidata.org/entity/Q722682</td><td>Hannibal</td></tr><tr><td>http://www.wikidata.org/entity/Q23755544</td><td>Hidden Figures</td></tr><tr><td>http://www.wikidata.org/entity/Q15137718</td><td>Hijo de Dios</td></tr><tr><td>http://www.wikidata.org/entity/Q523197</td><td>How Do You Know</td></tr><tr><td>http://www.wikidata.org/entity/Q25188</td><td>Inception</td></tr><tr><td>http://www.wikidata.org/entity/Q18192306</td><td>Inferno</td></tr><tr><td>http://www.wikidata.org/entity/Q13417189</td><td>Interstellar</td></tr><tr><td>http://www.wikidata.org/entity/Q640762</td><td>Invencible</td></tr><tr><td>http://www.wikidata.org/entity/Q843950</td><td>It's Complicated</td></tr><tr><td>http://www.wikidata.org/entity/Q129193</td><td>Kung Fu Panda</td></tr><tr><td>http://www.wikidata.org/entity/Q487447</td><td>Kung Fu Panda 2</td></tr><tr><td>http://www.wikidata.org/entity/Q15055043</td><td>Kung Fu Panda 3</td></tr><tr><td>http://www.wikidata.org/entity/Q216720</td><td>La Roca</td></tr><tr><td>http://www.wikidata.org/entity/Q7717444</td><td>La biblia</td></tr><tr><td>http://www.wikidata.org/entity/Q312394</td><td>La casa de los espíritus</td></tr><tr><td>http://www.wikidata.org/entity/Q17184103</td><td>La dama de oro</td></tr><tr><td>http://www.wikidata.org/entity/Q221491</td><td>La delgada línea roja</td></tr><tr><td>http://www.wikidata.org/entity/Q329603</td><td>La estrella de Laura</td></tr><tr><td>http://www.wikidata.org/entity/Q182254</td><td>Los Simpson: la película</td></tr><tr><td>http://www.wikidata.org/entity/Q174555</td><td>Madagascar</td></tr><tr><td>http://www.wikidata.org/entity/Q188474</td><td>Madagascar 2: Escape de África</td></tr><tr><td>http://www.wikidata.org/entity/Q244247</td><td>Madagascar 3: Europe's Most Wanted</td></tr><tr><td>http://www.wikidata.org/entity/Q1140085</td><td>Marea roja</td></tr><tr><td>http://www.wikidata.org/entity/Q4536</td><td>Matchstick Men</td></tr><tr><td>http://www.wikidata.org/entity/Q81205</td><td>Megamind</td></tr><tr><td>http://www.wikidata.org/entity/Q221594</td><td>Mejor... imposible</td></tr><tr><td>http://www.wikidata.org/entity/Q505790</td><td>Misión: Imposible II</td></tr><tr><td>http://www.wikidata.org/entity/Q1788520</td><td>Muppet Treasure Island</td></tr><tr><td>http://www.wikidata.org/entity/Q955389</td><td>Nueve meses</td></tr><tr><td>http://www.wikidata.org/entity/Q194413</td><td>Pearl Harbor</td></tr><tr><td>http://www.wikidata.org/entity/Q10350033</td><td>Piratas del Caribe: La venganza de Salazar</td></tr><tr><td>http://www.wikidata.org/entity/Q54274</td><td>Piratas del Caribe: en el fin del mundo</td></tr><tr><td>http://www.wikidata.org/entity/Q161087</td><td>Pirates of the Caribbean: Dead Man's Chest</td></tr><tr><td>http://www.wikidata.org/entity/Q183555</td><td>Pirates of the Caribbean: On Stranger Tides</td></tr><tr><td>http://www.wikidata.org/entity/Q46717</td><td>Pirates of the Caribbean: The Curse of the Black Pearl</td></tr><tr><td>http://www.wikidata.org/entity/Q577469</td><td>Point of No Return</td></tr><tr><td>http://www.wikidata.org/entity/Q12128282</td><td>Radio Flyer</td></tr><tr><td>http://www.wikidata.org/entity/Q188845</td><td>Rain Man</td></tr><tr><td>http://www.wikidata.org/entity/Q275432</td><td>Rango</td></tr><tr><td>http://www.wikidata.org/entity/Q603865</td><td>Regarding Henry</td></tr><tr><td>http://www.wikidata.org/entity/Q1313530</td><td>Riding in Cars with Boys</td></tr><tr><td>http://www.wikidata.org/entity/Q1768437</td><td>Rush</td></tr><tr><td>http://www.wikidata.org/entity/Q1058489</td><td>Sadako 3D</td></tr><tr><td>http://www.wikidata.org/entity/Q1260289</td><td>Salto al peligro</td></tr><tr><td>http://www.wikidata.org/entity/Q120367</td><td>Shark Tale</td></tr><tr><td>http://www.wikidata.org/entity/Q200396</td><td>Sherlock Holmes</td></tr><tr><td>http://www.wikidata.org/entity/Q243643</td><td>Sherlock Holmes: juego de sombras</td></tr><tr><td>http://www.wikidata.org/entity/Q1544085</td><td>Something to Talk About</td></tr><tr><td>http://www.wikidata.org/entity/Q584766</td><td>Something's Gotta Give</td></tr><tr><td>http://www.wikidata.org/entity/Q56850065</td><td>Space Jam: A New Legacy</td></tr><tr><td>http://www.wikidata.org/entity/Q1367647</td><td>Spanglish</td></tr><tr><td>http://www.wikidata.org/entity/Q641315</td><td>Spirit: el corcel indomable</td></tr><tr><td>http://www.wikidata.org/entity/Q459889</td><td>Tears of the Sun</td></tr><tr><td>http://www.wikidata.org/entity/Q4254026</td><td>The Amazing Spider-Man 2: Rise of Electro</td></tr><tr><td>http://www.wikidata.org/entity/Q856805</td><td>The Boat That Rocked</td></tr><tr><td>http://www.wikidata.org/entity/Q163872</td><td>The Dark Knight</td></tr><tr><td>http://www.wikidata.org/entity/Q189330</td><td>The Dark Knight Rises</td></tr><tr><td>http://www.wikidata.org/entity/Q1210206</td><td>The Dilemma</td></tr><tr><td>http://www.wikidata.org/entity/Q478748</td><td>The Holiday</td></tr><tr><td>http://www.wikidata.org/entity/Q18151554</td><td>The Last Face</td></tr><tr><td>http://www.wikidata.org/entity/Q191803</td><td>The Lion King II: Simba's Pride</td></tr><tr><td>http://www.wikidata.org/entity/Q548919</td><td>The Lone Ranger</td></tr><tr><td>http://www.wikidata.org/entity/Q255309</td><td>The Longest Daycare</td></tr><tr><td>http://www.wikidata.org/entity/Q150949</td><td>The Power of One</td></tr><tr><td>http://www.wikidata.org/entity/Q1475674</td><td>The Preacher's Wife</td></tr><tr><td>http://www.wikidata.org/entity/Q1354326</td><td>The Punisher: Dirty Laundry</td></tr><tr><td>http://www.wikidata.org/entity/Q212804</td><td>The Ring</td></tr><tr><td>http://www.wikidata.org/entity/Q866358</td><td>The Road to El Dorado</td></tr><tr><td>http://www.wikidata.org/entity/Q18844656</td><td>The Secret Life of Pets</td></tr><tr><td>http://www.wikidata.org/entity/Q658041</td><td>Thelma y Louise</td></tr><tr><td>http://www.wikidata.org/entity/Q31202708</td><td>Top Gun: Maverick</td></tr><tr><td>http://www.wikidata.org/entity/Q1849238</td><td>Toys</td></tr><tr><td>http://www.wikidata.org/entity/Q1127709</td><td>True Romance</td></tr><tr><td>http://www.wikidata.org/entity/Q232130</td><td>Un mundo aparte</td></tr><tr><td>http://www.wikidata.org/entity/Q29163736</td><td>Viudas</td></tr><tr><td>http://www.wikidata.org/entity/Q3569395</td><td>Winter's Tale</td></tr><tr><td>http://www.wikidata.org/entity/Q33408623</td><td>Wonder Woman 1984</td></tr><tr><td>http://www.wikidata.org/entity/Q31188935</td><td>X-Men: Dark Phoenix</td></tr><tr><td>http://www.wikidata.org/entity/Q192934</td><td>Ángeles y demonios</td></tr></tbody></table></body></html>"
   ]
  },
  {
   "cell_type": "markdown",
   "metadata": {},
   "source": [
    "## Consulta 5\n",
    "Ahora queremos conocer el título de todas las películas en las que Zimmer ha colaborado como compositor. Se mostrarán ordenadas alfabéticamente y debes tener cuidado de no mostrar resultados repetidos."
   ]
  },
  {
   "cell_type": "markdown",
   "metadata": {},
   "source": [
    "Aqui mostramos solo aqullos resultados que sean instancia de la clase pelicula"
   ]
  },
  {
   "cell_type": "raw",
   "metadata": {},
   "source": [
    "SELECT DISTINCT ?film ?filmLabel\n",
    "WHERE\n",
    "{\n",
    "   ?film wdt:P86 wd:Q76364.#Sacamos todo lo que ha compusto \n",
    "   ?film wdt:P31 wd:Q11424.#Lo filtramos para sacas solo aquello que sea de la clase pelicula \n",
    "   \n",
    "  SERVICE wikibase:label { bd:serviceParam wikibase:language \"[AUTO_LANGUAGE]\". }\n",
    "}\n",
    "ORDER BY ASC (?filmLabel)#Ordenamos alfabeticamente"
   ]
  },
  {
   "cell_type": "markdown",
   "metadata": {},
   "source": [
    "<html><head><meta charset=\"utf-8\"></head><body><table><thead><tr><th>film</th><th>filmLabel</th></tr></thead><tbody><tr><td>http://www.wikidata.org/entity/Q1192764</td><td>Q1192764</td></tr><tr><td>http://www.wikidata.org/entity/Q129288</td><td>Q129288</td></tr><tr><td>http://www.wikidata.org/entity/Q1472370</td><td>Q1472370</td></tr><tr><td>http://www.wikidata.org/entity/Q16155083</td><td>Q16155083</td></tr><tr><td>http://www.wikidata.org/entity/Q1753610</td><td>Q1753610</td></tr><tr><td>http://www.wikidata.org/entity/Q18511204</td><td>Q18511204</td></tr><tr><td>http://www.wikidata.org/entity/Q2406188</td><td>Q2406188</td></tr><tr><td>http://www.wikidata.org/entity/Q27958082</td><td>Q27958082</td></tr><tr><td>http://www.wikidata.org/entity/Q2963312</td><td>Q2963312</td></tr><tr><td>http://www.wikidata.org/entity/Q3402011</td><td>Q3402011</td></tr><tr><td>http://www.wikidata.org/entity/Q3964671</td><td>Q3964671</td></tr><tr><td>http://www.wikidata.org/entity/Q4096517</td><td>Q4096517</td></tr><tr><td>http://www.wikidata.org/entity/Q4327979</td><td>Q4327979</td></tr><tr><td>http://www.wikidata.org/entity/Q4376535</td><td>Q4376535</td></tr><tr><td>http://www.wikidata.org/entity/Q4424430</td><td>Q4424430</td></tr><tr><td>http://www.wikidata.org/entity/Q47069744</td><td>Q47069744</td></tr><tr><td>http://www.wikidata.org/entity/Q4749984</td><td>Q4749984</td></tr><tr><td>http://www.wikidata.org/entity/Q571014</td><td>Q571014</td></tr><tr><td>http://www.wikidata.org/entity/Q57983078</td><td>Q57983078</td></tr><tr><td>http://www.wikidata.org/entity/Q583623</td><td>Q583623</td></tr><tr><td>http://www.wikidata.org/entity/Q6928990</td><td>Q6928990</td></tr><tr><td>http://www.wikidata.org/entity/Q7702661</td><td>Q7702661</td></tr><tr><td>http://www.wikidata.org/entity/Q7735390</td><td>Q7735390</td></tr><tr><td>http://www.wikidata.org/entity/Q7858914</td><td>Q7858914</td></tr><tr><td>http://www.wikidata.org/entity/Q853425</td><td>Q853425</td></tr><tr><td>http://www.wikidata.org/entity/Q85530211</td><td>Q85530211</td></tr><tr><td>http://www.wikidata.org/entity/Q3023357</td><td>12 Años de esclavitud</td></tr><tr><td>http://www.wikidata.org/entity/Q1306472</td><td>A League of Their Own</td></tr><tr><td>http://www.wikidata.org/entity/Q499371</td><td>Backdraft</td></tr><tr><td>http://www.wikidata.org/entity/Q166262</td><td>Batman Begins</td></tr><tr><td>http://www.wikidata.org/entity/Q14772351</td><td>Batman v Superman: El Amanecer De La Justicia</td></tr><tr><td>http://www.wikidata.org/entity/Q135347</td><td>Bird on a Wire</td></tr><tr><td>http://www.wikidata.org/entity/Q221384</td><td>Black Hawk Down</td></tr><tr><td>http://www.wikidata.org/entity/Q1048085</td><td>Black Rain</td></tr><tr><td>http://www.wikidata.org/entity/Q21500755</td><td>Blade Runner 2049</td></tr><tr><td>http://www.wikidata.org/entity/Q61450772</td><td>Bob Esponja al Rescate</td></tr><tr><td>http://www.wikidata.org/entity/Q21534241</td><td>Bond 25</td></tr><tr><td>http://www.wikidata.org/entity/Q392915</td><td>Broken Arrow</td></tr><tr><td>http://www.wikidata.org/entity/Q15209986</td><td>Chappie</td></tr><tr><td>http://www.wikidata.org/entity/Q603696</td><td>Days of Thunder</td></tr><tr><td>http://www.wikidata.org/entity/Q211373</td><td>Driving Miss Daisy</td></tr><tr><td>http://www.wikidata.org/entity/Q60834962</td><td>Dune</td></tr><tr><td>http://www.wikidata.org/entity/Q21935651</td><td>Dunkirk</td></tr><tr><td>http://www.wikidata.org/entity/Q1148079</td><td>El Inquilino o De Repente, un Extraño.</td></tr><tr><td>http://www.wikidata.org/entity/Q160560</td><td>El código Da Vinci</td></tr><tr><td>http://www.wikidata.org/entity/Q622769</td><td>El hombre de acero</td></tr><tr><td>http://www.wikidata.org/entity/Q60296</td><td>El hombre del tiempo</td></tr><tr><td>http://www.wikidata.org/entity/Q1141706</td><td>El pacificador</td></tr><tr><td>http://www.wikidata.org/entity/Q337090</td><td>El rey Arturo (película de 2004)</td></tr><tr><td>http://www.wikidata.org/entity/Q27044293</td><td>El rey león</td></tr><tr><td>http://www.wikidata.org/entity/Q207130</td><td>El último samurái</td></tr><tr><td>http://www.wikidata.org/entity/Q390299</td><td>Fanático</td></tr><tr><td>http://www.wikidata.org/entity/Q18210299</td><td>Freeheld</td></tr><tr><td>http://www.wikidata.org/entity/Q691672</td><td>Frost/Nixon</td></tr><tr><td>http://www.wikidata.org/entity/Q128518</td><td>Gladiator</td></tr><tr><td>http://www.wikidata.org/entity/Q505135</td><td>Green card</td></tr><tr><td>http://www.wikidata.org/entity/Q722682</td><td>Hannibal</td></tr><tr><td>http://www.wikidata.org/entity/Q23755544</td><td>Hidden Figures</td></tr><tr><td>http://www.wikidata.org/entity/Q15137718</td><td>Hijo de Dios</td></tr><tr><td>http://www.wikidata.org/entity/Q523197</td><td>How Do You Know</td></tr><tr><td>http://www.wikidata.org/entity/Q25188</td><td>Inception</td></tr><tr><td>http://www.wikidata.org/entity/Q18192306</td><td>Inferno</td></tr><tr><td>http://www.wikidata.org/entity/Q13417189</td><td>Interstellar</td></tr><tr><td>http://www.wikidata.org/entity/Q640762</td><td>Invencible</td></tr><tr><td>http://www.wikidata.org/entity/Q843950</td><td>It's Complicated</td></tr><tr><td>http://www.wikidata.org/entity/Q216720</td><td>La Roca</td></tr><tr><td>http://www.wikidata.org/entity/Q312394</td><td>La casa de los espíritus</td></tr><tr><td>http://www.wikidata.org/entity/Q17184103</td><td>La dama de oro</td></tr><tr><td>http://www.wikidata.org/entity/Q221491</td><td>La delgada línea roja</td></tr><tr><td>http://www.wikidata.org/entity/Q1140085</td><td>Marea roja</td></tr><tr><td>http://www.wikidata.org/entity/Q4536</td><td>Matchstick Men</td></tr><tr><td>http://www.wikidata.org/entity/Q221594</td><td>Mejor... imposible</td></tr><tr><td>http://www.wikidata.org/entity/Q505790</td><td>Misión: Imposible II</td></tr><tr><td>http://www.wikidata.org/entity/Q955389</td><td>Nueve meses</td></tr><tr><td>http://www.wikidata.org/entity/Q194413</td><td>Pearl Harbor</td></tr><tr><td>http://www.wikidata.org/entity/Q161087</td><td>Pirates of the Caribbean: Dead Man's Chest</td></tr><tr><td>http://www.wikidata.org/entity/Q46717</td><td>Pirates of the Caribbean: The Curse of the Black Pearl</td></tr><tr><td>http://www.wikidata.org/entity/Q577469</td><td>Point of No Return</td></tr><tr><td>http://www.wikidata.org/entity/Q12128282</td><td>Radio Flyer</td></tr><tr><td>http://www.wikidata.org/entity/Q188845</td><td>Rain Man</td></tr><tr><td>http://www.wikidata.org/entity/Q603865</td><td>Regarding Henry</td></tr><tr><td>http://www.wikidata.org/entity/Q1313530</td><td>Riding in Cars with Boys</td></tr><tr><td>http://www.wikidata.org/entity/Q1768437</td><td>Rush</td></tr><tr><td>http://www.wikidata.org/entity/Q1058489</td><td>Sadako 3D</td></tr><tr><td>http://www.wikidata.org/entity/Q1260289</td><td>Salto al peligro</td></tr><tr><td>http://www.wikidata.org/entity/Q200396</td><td>Sherlock Holmes</td></tr><tr><td>http://www.wikidata.org/entity/Q243643</td><td>Sherlock Holmes: juego de sombras</td></tr><tr><td>http://www.wikidata.org/entity/Q1544085</td><td>Something to Talk About</td></tr><tr><td>http://www.wikidata.org/entity/Q584766</td><td>Something's Gotta Give</td></tr><tr><td>http://www.wikidata.org/entity/Q1367647</td><td>Spanglish</td></tr><tr><td>http://www.wikidata.org/entity/Q459889</td><td>Tears of the Sun</td></tr><tr><td>http://www.wikidata.org/entity/Q4254026</td><td>The Amazing Spider-Man 2: Rise of Electro</td></tr><tr><td>http://www.wikidata.org/entity/Q856805</td><td>The Boat That Rocked</td></tr><tr><td>http://www.wikidata.org/entity/Q163872</td><td>The Dark Knight</td></tr><tr><td>http://www.wikidata.org/entity/Q189330</td><td>The Dark Knight Rises</td></tr><tr><td>http://www.wikidata.org/entity/Q1210206</td><td>The Dilemma</td></tr><tr><td>http://www.wikidata.org/entity/Q478748</td><td>The Holiday</td></tr><tr><td>http://www.wikidata.org/entity/Q18151554</td><td>The Last Face</td></tr><tr><td>http://www.wikidata.org/entity/Q150949</td><td>The Power of One</td></tr><tr><td>http://www.wikidata.org/entity/Q1475674</td><td>The Preacher's Wife</td></tr><tr><td>http://www.wikidata.org/entity/Q212804</td><td>The Ring</td></tr><tr><td>http://www.wikidata.org/entity/Q658041</td><td>Thelma y Louise</td></tr><tr><td>http://www.wikidata.org/entity/Q31202708</td><td>Top Gun: Maverick</td></tr><tr><td>http://www.wikidata.org/entity/Q1849238</td><td>Toys</td></tr><tr><td>http://www.wikidata.org/entity/Q1127709</td><td>True Romance</td></tr><tr><td>http://www.wikidata.org/entity/Q232130</td><td>Un mundo aparte</td></tr><tr><td>http://www.wikidata.org/entity/Q29163736</td><td>Viudas</td></tr><tr><td>http://www.wikidata.org/entity/Q3569395</td><td>Winter's Tale</td></tr><tr><td>http://www.wikidata.org/entity/Q33408623</td><td>Wonder Woman 1984</td></tr><tr><td>http://www.wikidata.org/entity/Q31188935</td><td>X-Men: Dark Phoenix</td></tr><tr><td>http://www.wikidata.org/entity/Q192934</td><td>Ángeles y demonios</td></tr></tbody></table></body></html>"
   ]
  },
  {
   "cell_type": "markdown",
   "metadata": {},
   "source": [
    "## Consulta 6\n",
    "Zimmer es sin duda un compositor prolífico. ¿Exactamente en cuentas películas ha participado como compositor?"
   ]
  },
  {
   "cell_type": "raw",
   "metadata": {},
   "source": [
    "SELECT DISTINCT(count(?film) as ?count)\n",
    "WHERE\n",
    "{\n",
    "  ?film wdt:P86 wd:Q76364. #Sacamos todo lo que ha hecho(compusto) Hans Zimmer \n",
    "  ?film wdt:P31/wdt:P279* wd:Q11424.#filtramos las peliculas diciendo que tienen que ser instancia \n",
    "  #de la clase pelicula \n",
    "   \n",
    "  SERVICE wikibase:label { bd:serviceParam wikibase:language \"[AUTO_LANGUAGE]\". }\n",
    "}"
   ]
  },
  {
   "cell_type": "markdown",
   "metadata": {},
   "source": [
    "Usamos wdt:P31/wdt:P279* porque asi tambien nos arrojos los cortos que pertenecen a la clase peliculas. \n",
    "Si hacemos wdt:P31 (Instancia de pelicula) arroja 111 resultados. "
   ]
  },
  {
   "cell_type": "markdown",
   "metadata": {},
   "source": [
    "<html><head><meta charset=\"utf-8\"></head><body><table><thead><tr><th>count</th></tr></thead><tbody><tr><td>167</td></tr></tbody></table></body></html>"
   ]
  },
  {
   "cell_type": "markdown",
   "metadata": {},
   "source": [
    "## Consulta 7\n",
    "Es importante que las películas tengan una duración adecuada, ni muy cortas ni demasiado largas. De todas las películas en las que ha colaborado Zimmer como compositor, ¿cuáles duran entre 90 y 120 minutos? Muestra los resultados ordenados alfabéticamente. Para cada película muestra el título y la duración.\n",
    "Algunas películas (como Salto al peligro) pueden tener varias duraciones (supongo que son distintas versiones de la película). En este apartado no importa si aparecen varias veces en los resultados.\n"
   ]
  },
  {
   "cell_type": "raw",
   "metadata": {},
   "source": [
    "SELECT DISTINCT ?film ?filmLabel ?duration\n",
    "WHERE\n",
    "{\n",
    "   ?film wdt:P86 wd:Q76364;\n",
    "   {select ?film ?duration where{\n",
    "     ?film wdt:P2047 ?duration;}}\n",
    "        FILTER(?duration > 90 && ?duration < 120)\n",
    "  SERVICE wikibase:label { bd:serviceParam wikibase:language \"[AUTO_LANGUAGE]\". }\n",
    "}\n",
    "ORDER BY ASC (?filmLabel)\n"
   ]
  },
  {
   "cell_type": "markdown",
   "metadata": {},
   "source": [
    "<html><head><meta charset=\"utf-8\"></head><body><table><thead><tr><th>film</th><th>filmLabel</th><th>duration</th></tr></thead><tbody><tr><td>http://www.wikidata.org/entity/Q1192764</td><td>Q1192764</td><td>101</td></tr><tr><td>http://www.wikidata.org/entity/Q129288</td><td>Q129288</td><td>117</td></tr><tr><td>http://www.wikidata.org/entity/Q1753610</td><td>Q1753610</td><td>95</td></tr><tr><td>http://www.wikidata.org/entity/Q18511204</td><td>Q18511204</td><td>96</td></tr><tr><td>http://www.wikidata.org/entity/Q2406188</td><td>Q2406188</td><td>92</td></tr><tr><td>http://www.wikidata.org/entity/Q2963312</td><td>Q2963312</td><td>103</td></tr><tr><td>http://www.wikidata.org/entity/Q4424430</td><td>Q4424430</td><td>93</td></tr><tr><td>http://www.wikidata.org/entity/Q4749984</td><td>Q4749984</td><td>108</td></tr><tr><td>http://www.wikidata.org/entity/Q6928990</td><td>Q6928990</td><td>116</td></tr><tr><td>http://www.wikidata.org/entity/Q7858914</td><td>Q7858914</td><td>102</td></tr><tr><td>http://www.wikidata.org/entity/Q853425</td><td>Q853425</td><td>115</td></tr><tr><td>http://www.wikidata.org/entity/Q135347</td><td>Bird on a Wire</td><td>110</td></tr><tr><td>http://www.wikidata.org/entity/Q18619153</td><td>Boss Baby</td><td>97</td></tr><tr><td>http://www.wikidata.org/entity/Q392915</td><td>Broken Arrow</td><td>110</td></tr><tr><td>http://www.wikidata.org/entity/Q135491</td><td>Colmillo blanco</td><td>104</td></tr><tr><td>http://www.wikidata.org/entity/Q282748</td><td>Cool Runnings</td><td>98</td></tr><tr><td>http://www.wikidata.org/entity/Q603696</td><td>Days of Thunder</td><td>107</td></tr><tr><td>http://www.wikidata.org/entity/Q211373</td><td>Driving Miss Daisy</td><td>99</td></tr><tr><td>http://www.wikidata.org/entity/Q21935651</td><td>Dunkirk</td><td>106</td></tr><tr><td>http://www.wikidata.org/entity/Q1148079</td><td>El Inquilino o De Repente, un Extraño.</td><td>103</td></tr><tr><td>http://www.wikidata.org/entity/Q60296</td><td>El hombre del tiempo</td><td>102</td></tr><tr><td>http://www.wikidata.org/entity/Q1141706</td><td>El pacificador</td><td>118</td></tr><tr><td>http://www.wikidata.org/entity/Q16386722</td><td>El principito</td><td>108</td></tr><tr><td>http://www.wikidata.org/entity/Q245227</td><td>El príncipe de Egipto</td><td>99</td></tr><tr><td>http://www.wikidata.org/entity/Q27044293</td><td>El rey león</td><td>118</td></tr><tr><td>http://www.wikidata.org/entity/Q390299</td><td>Fanático</td><td>111</td></tr><tr><td>http://www.wikidata.org/entity/Q18210299</td><td>Freeheld</td><td>103</td></tr><tr><td>http://www.wikidata.org/entity/Q505135</td><td>Green card</td><td>102</td></tr><tr><td>http://www.wikidata.org/entity/Q523197</td><td>How Do You Know</td><td>116</td></tr><tr><td>http://www.wikidata.org/entity/Q843950</td><td>It's Complicated</td><td>118</td></tr><tr><td>http://www.wikidata.org/entity/Q129193</td><td>Kung Fu Panda</td><td>92</td></tr><tr><td>http://www.wikidata.org/entity/Q487447</td><td>Kung Fu Panda 2</td><td>91</td></tr><tr><td>http://www.wikidata.org/entity/Q15055043</td><td>Kung Fu Panda 3</td><td>95</td></tr><tr><td>http://www.wikidata.org/entity/Q17184103</td><td>La dama de oro</td><td>109</td></tr><tr><td>http://www.wikidata.org/entity/Q244247</td><td>Madagascar 3: Europe's Most Wanted</td><td>93</td></tr><tr><td>http://www.wikidata.org/entity/Q1140085</td><td>Marea roja</td><td>111</td></tr><tr><td>http://www.wikidata.org/entity/Q4536</td><td>Matchstick Men</td><td>111</td></tr><tr><td>http://www.wikidata.org/entity/Q81205</td><td>Megamind</td><td>96</td></tr><tr><td>http://www.wikidata.org/entity/Q1788520</td><td>Muppet Treasure Island</td><td>99</td></tr><tr><td>http://www.wikidata.org/entity/Q955389</td><td>Nueve meses</td><td>103</td></tr><tr><td>http://www.wikidata.org/entity/Q577469</td><td>Point of No Return</td><td>103</td></tr><tr><td>http://www.wikidata.org/entity/Q12128282</td><td>Radio Flyer</td><td>114</td></tr><tr><td>http://www.wikidata.org/entity/Q275432</td><td>Rango</td><td>107</td></tr><tr><td>http://www.wikidata.org/entity/Q603865</td><td>Regarding Henry</td><td>108</td></tr><tr><td>http://www.wikidata.org/entity/Q1058489</td><td>Sadako 3D</td><td>96</td></tr><tr><td>http://www.wikidata.org/entity/Q1260289</td><td>Salto al peligro</td><td>98</td></tr><tr><td>http://www.wikidata.org/entity/Q1260289</td><td>Salto al peligro</td><td>101</td></tr><tr><td>http://www.wikidata.org/entity/Q1260289</td><td>Salto al peligro</td><td>102</td></tr><tr><td>http://www.wikidata.org/entity/Q1544085</td><td>Something to Talk About</td><td>106</td></tr><tr><td>http://www.wikidata.org/entity/Q1210206</td><td>The Dilemma</td><td>111</td></tr><tr><td>http://www.wikidata.org/entity/Q1475674</td><td>The Preacher's Wife</td><td>119</td></tr><tr><td>http://www.wikidata.org/entity/Q212804</td><td>The Ring</td><td>116</td></tr><tr><td>http://www.wikidata.org/entity/Q1849238</td><td>Toys</td><td>116</td></tr><tr><td>http://www.wikidata.org/entity/Q232130</td><td>Un mundo aparte</td><td>112</td></tr><tr><td>http://www.wikidata.org/entity/Q3569395</td><td>Winter's Tale</td><td>118</td></tr><tr><td>http://www.wikidata.org/entity/Q31188935</td><td>X-Men: Dark Phoenix</td><td>114</td></tr></tbody></table></body></html>"
   ]
  },
  {
   "cell_type": "markdown",
   "metadata": {},
   "source": [
    "## Consulta 8\n",
    "Vamos a recuperar ahora las películas más actuales en las que Zimmer ha colaborado como compositor. Estamos interesados específicamente en películas que se hayan estrenado a partir de 2005.\n",
    "Seguramente, en tu primer intento verás que cada película aparece repetida varias veces con fechas distintas porque Wikidata contiene las fechas de estreno en cada país. Vamos a considerar que la fecha real de estreno de la película es la fecha más antigua de todas ellas.\n",
    "Para que cada película aparezca sólo una vez con la fecha correcta necesitarás agrupar las respuestas por película y título, y aplicar una función de agregación sobre las fechas de publicación. Los resultados se tienen que mostrar ordenados alfabéticamente.\n"
   ]
  },
  {
   "cell_type": "raw",
   "metadata": {},
   "source": [
    "SELECT ?film ?filmLabel ((MIN(?estreno)) as ?FechaEstreno)# de las peliculas repetidas cogemos la menor\n",
    "WHERE\n",
    "{\n",
    "    ?film wdt:P86 wd:Q76364. # Selenccionamos las peliculas pertenecientes a Hans Zimmer \n",
    "    ?film wdt:P31 wd:Q11424. # Filtramos solo las que son peliculas \n",
    "    ?film wdt:P577 ?estreno. # Sacamos las fechas de estreno \n",
    "    FILTER(YEAR(?estreno) >= 2005). # Seleecionamos todas aquellas que se hayan estrenado en/despues de 2005\n",
    "  SERVICE wikibase:label { bd:serviceParam wikibase:language \"[AUTO_LANGUAGE]\". }\n",
    "}\n",
    "GROUP BY ?film ?filmLabel #Agrupamos para quitar las repeticiones \n",
    "ORDER BY ASC (?filmLabel) #Ordenamos por orden alfabetico \n",
    "\n"
   ]
  },
  {
   "cell_type": "markdown",
   "metadata": {},
   "source": [
    "<html><head><meta charset=\"utf-8\"></head><body><table><thead><tr><th>film</th><th>filmLabel</th><th>FechaEstreno</th></tr></thead><tbody><tr><td>http://www.wikidata.org/entity/Q16155083</td><td>Q16155083</td><td>2015-01-01T00:00:00Z</td></tr><tr><td>http://www.wikidata.org/entity/Q3964671</td><td>Q3964671</td><td>2011-01-01T00:00:00Z</td></tr><tr><td>http://www.wikidata.org/entity/Q47069744</td><td>Q47069744</td><td>2018-01-01T00:00:00Z</td></tr><tr><td>http://www.wikidata.org/entity/Q6928990</td><td>Q6928990</td><td>2013-06-01T00:00:00Z</td></tr><tr><td>http://www.wikidata.org/entity/Q3023357</td><td>12 Años de esclavitud</td><td>2013-08-30T00:00:00Z</td></tr><tr><td>http://www.wikidata.org/entity/Q166262</td><td>Batman Begins</td><td>2005-06-15T00:00:00Z</td></tr><tr><td>http://www.wikidata.org/entity/Q14772351</td><td>Batman v Superman: El Amanecer De La Justicia</td><td>2016-03-23T00:00:00Z</td></tr><tr><td>http://www.wikidata.org/entity/Q21500755</td><td>Blade Runner 2049</td><td>2017-10-03T00:00:00Z</td></tr><tr><td>http://www.wikidata.org/entity/Q61450772</td><td>Bob Esponja al Rescate</td><td>2020-01-01T00:00:00Z</td></tr><tr><td>http://www.wikidata.org/entity/Q21534241</td><td>Bond 25</td><td>2020-11-12T00:00:00Z</td></tr><tr><td>http://www.wikidata.org/entity/Q15209986</td><td>Chappie</td><td>2015-03-05T00:00:00Z</td></tr><tr><td>http://www.wikidata.org/entity/Q60834962</td><td>Dune</td><td>2020-01-01T00:00:00Z</td></tr><tr><td>http://www.wikidata.org/entity/Q21935651</td><td>Dunkirk</td><td>2017-07-13T00:00:00Z</td></tr><tr><td>http://www.wikidata.org/entity/Q160560</td><td>El código Da Vinci</td><td>2006-05-17T00:00:00Z</td></tr><tr><td>http://www.wikidata.org/entity/Q622769</td><td>El hombre de acero</td><td>2013-06-10T00:00:00Z</td></tr><tr><td>http://www.wikidata.org/entity/Q60296</td><td>El hombre del tiempo</td><td>2005-01-01T00:00:00Z</td></tr><tr><td>http://www.wikidata.org/entity/Q27044293</td><td>El rey león</td><td>2019-07-17T00:00:00Z</td></tr><tr><td>http://www.wikidata.org/entity/Q18210299</td><td>Freeheld</td><td>2015-01-01T00:00:00Z</td></tr><tr><td>http://www.wikidata.org/entity/Q691672</td><td>Frost/Nixon</td><td>2008-10-15T00:00:00Z</td></tr><tr><td>http://www.wikidata.org/entity/Q23755544</td><td>Hidden Figures</td><td>2016-12-26T00:00:00Z</td></tr><tr><td>http://www.wikidata.org/entity/Q15137718</td><td>Hijo de Dios</td><td>2014-02-28T00:00:00Z</td></tr><tr><td>http://www.wikidata.org/entity/Q523197</td><td>How Do You Know</td><td>2010-01-01T00:00:00Z</td></tr><tr><td>http://www.wikidata.org/entity/Q25188</td><td>Inception</td><td>2010-07-08T00:00:00Z</td></tr><tr><td>http://www.wikidata.org/entity/Q18192306</td><td>Inferno</td><td>2016-10-13T00:00:00Z</td></tr><tr><td>http://www.wikidata.org/entity/Q13417189</td><td>Interstellar</td><td>2014-10-26T00:00:00Z</td></tr><tr><td>http://www.wikidata.org/entity/Q843950</td><td>It's Complicated</td><td>2009-12-24T00:00:00Z</td></tr><tr><td>http://www.wikidata.org/entity/Q17184103</td><td>La dama de oro</td><td>2015-02-09T00:00:00Z</td></tr><tr><td>http://www.wikidata.org/entity/Q161087</td><td>Pirates of the Caribbean: Dead Man's Chest</td><td>2006-07-07T00:00:00Z</td></tr><tr><td>http://www.wikidata.org/entity/Q1768437</td><td>Rush</td><td>2013-09-02T00:00:00Z</td></tr><tr><td>http://www.wikidata.org/entity/Q1058489</td><td>Sadako 3D</td><td>2012-05-12T00:00:00Z</td></tr><tr><td>http://www.wikidata.org/entity/Q200396</td><td>Sherlock Holmes</td><td>2009-12-24T00:00:00Z</td></tr><tr><td>http://www.wikidata.org/entity/Q243643</td><td>Sherlock Holmes: juego de sombras</td><td>2011-12-16T00:00:00Z</td></tr><tr><td>http://www.wikidata.org/entity/Q1367647</td><td>Spanglish</td><td>2005-04-07T00:00:00Z</td></tr><tr><td>http://www.wikidata.org/entity/Q4254026</td><td>The Amazing Spider-Man 2: Rise of Electro</td><td>2014-04-17T00:00:00Z</td></tr><tr><td>http://www.wikidata.org/entity/Q856805</td><td>The Boat That Rocked</td><td>2009-01-01T00:00:00Z</td></tr><tr><td>http://www.wikidata.org/entity/Q163872</td><td>The Dark Knight</td><td>2008-07-18T00:00:00Z</td></tr><tr><td>http://www.wikidata.org/entity/Q189330</td><td>The Dark Knight Rises</td><td>2012-07-20T00:00:00Z</td></tr><tr><td>http://www.wikidata.org/entity/Q1210206</td><td>The Dilemma</td><td>2011-01-01T00:00:00Z</td></tr><tr><td>http://www.wikidata.org/entity/Q478748</td><td>The Holiday</td><td>2006-12-05T00:00:00Z</td></tr><tr><td>http://www.wikidata.org/entity/Q18151554</td><td>The Last Face</td><td>2015-01-01T00:00:00Z</td></tr><tr><td>http://www.wikidata.org/entity/Q31202708</td><td>Top Gun: Maverick</td><td>2020-07-15T00:00:00Z</td></tr><tr><td>http://www.wikidata.org/entity/Q29163736</td><td>Viudas</td><td>2018-11-06T00:00:00Z</td></tr><tr><td>http://www.wikidata.org/entity/Q3569395</td><td>Winter's Tale</td><td>2014-02-10T00:00:00Z</td></tr><tr><td>http://www.wikidata.org/entity/Q33408623</td><td>Wonder Woman 1984</td><td>2020-06-05T00:00:00Z</td></tr><tr><td>http://www.wikidata.org/entity/Q31188935</td><td>X-Men: Dark Phoenix</td><td>2019-06-05T00:00:00Z</td></tr><tr><td>http://www.wikidata.org/entity/Q192934</td><td>Ángeles y demonios</td><td>2009-01-01T00:00:00Z</td></tr></tbody></table></body></html>"
   ]
  },
  {
   "cell_type": "markdown",
   "metadata": {},
   "source": [
    "## Consulta 9\n",
    "En una película pueden colaborar varios músicos. ¿Qué otros compositores han compuesto junto a Zimmer en una película? Para cada uno de ellos muestra su nombre, la fecha de nacimiento y (si ha fallecido) la fecha de defunción. Los resultados deben aparecer ordenados alfabéticamente."
   ]
  },
  {
   "cell_type": "raw",
   "metadata": {},
   "source": [
    "SELECT DISTINCT ?film ?filmLabel ?compositor ?compositorLabel ?fechaNacimiento ?fechaDefuncion \n",
    "WHERE\n",
    "{\n",
    "   ?film wdt:P86 wd:Q76364. \n",
    "   ?film wdt:P31 wd:Q11424.\n",
    "  #Con lo de arriba sacamos las peliculas hechas por Hans Zimmer \n",
    "   ?film wdt:P86 ?compositor. # Dadas esas peliculas sacamos los compositores que participan \n",
    "   FILTER(?compositor != wd:Q76364) #Quitamos a Hans Zimmer y sacamos los otros\n",
    "   ?compositor wdt:P569 ?fechaNacimiento; # sacamos la fecha de nacimiento \n",
    "   OPTIONAL {?compositor wdt:P570 ?fechaDefuncion.} # como no todos han muerto usamos OPTIONAL\n",
    "    \n",
    "  SERVICE wikibase:label { bd:serviceParam wikibase:language \"[AUTO_LANGUAGE]\". }\n",
    "}\n"
   ]
  },
  {
   "cell_type": "markdown",
   "metadata": {},
   "source": [
    "<html><head><meta charset=\"utf-8\"></head><body><table><thead><tr><th>film</th><th>filmLabel</th><th>compositor</th><th>compositorLabel</th><th>fechaNacimiento</th><th>fechaDefuncion</th></tr></thead><tbody><tr><td>http://www.wikidata.org/entity/Q4254026</td><td>The Amazing Spider-Man 2: Rise of Electro</td><td>http://www.wikidata.org/entity/Q266429</td><td>Junkie XL</td><td>1967-12-08T00:00:00Z</td><td></td></tr><tr><td>http://www.wikidata.org/entity/Q1058489</td><td>Sadako 3D</td><td>http://www.wikidata.org/entity/Q443712</td><td>Kenji Kawai</td><td>1957-04-23T00:00:00Z</td><td></td></tr><tr><td>http://www.wikidata.org/entity/Q166262</td><td>Batman Begins</td><td>http://www.wikidata.org/entity/Q213869</td><td>James Newton Howard</td><td>1951-06-09T00:00:00Z</td><td></td></tr><tr><td>http://www.wikidata.org/entity/Q128518</td><td>Gladiator</td><td>http://www.wikidata.org/entity/Q40580</td><td>Lisa Gerrard</td><td>1961-04-12T00:00:00Z</td><td></td></tr><tr><td>http://www.wikidata.org/entity/Q640762</td><td>Invencible</td><td>http://www.wikidata.org/entity/Q57833</td><td>Klaus Badelt</td><td>1967-06-12T00:00:00Z</td><td></td></tr><tr><td>http://www.wikidata.org/entity/Q216720</td><td>La Roca</td><td>http://www.wikidata.org/entity/Q1383645</td><td>Nick Glennie-Smith</td><td>1951-10-03T00:00:00Z</td><td></td></tr><tr><td>http://www.wikidata.org/entity/Q23755544</td><td>Hidden Figures</td><td>http://www.wikidata.org/entity/Q6056440</td><td>Benjamin Wallfisch</td><td>1979-08-07T00:00:00Z</td><td></td></tr><tr><td>http://www.wikidata.org/entity/Q18511204</td><td>Q18511204</td><td>http://www.wikidata.org/entity/Q730252</td><td>Stanley Myers</td><td>1930-10-06T00:00:00Z</td><td>1993-11-09T00:00:00Z</td></tr><tr><td>http://www.wikidata.org/entity/Q29163736</td><td>Viudas</td><td>http://www.wikidata.org/entity/Q319996</td><td>Thomas Newman</td><td>1955-10-20T00:00:00Z</td><td></td></tr><tr><td>http://www.wikidata.org/entity/Q14772351</td><td>Batman v Superman: El Amanecer De La Justicia</td><td>http://www.wikidata.org/entity/Q266429</td><td>Junkie XL</td><td>1967-12-08T00:00:00Z</td><td></td></tr><tr><td>http://www.wikidata.org/entity/Q21500755</td><td>Blade Runner 2049</td><td>http://www.wikidata.org/entity/Q6056440</td><td>Benjamin Wallfisch</td><td>1979-08-07T00:00:00Z</td><td></td></tr><tr><td>http://www.wikidata.org/entity/Q128518</td><td>Gladiator</td><td>http://www.wikidata.org/entity/Q471537</td><td>Dzhiván Gasparián</td><td>1928-10-12T00:00:00Z</td><td></td></tr><tr><td>http://www.wikidata.org/entity/Q23755544</td><td>Hidden Figures</td><td>http://www.wikidata.org/entity/Q14313</td><td>Pharrell Williams</td><td>1973-04-05T00:00:00Z</td><td></td></tr><tr><td>http://www.wikidata.org/entity/Q163872</td><td>The Dark Knight</td><td>http://www.wikidata.org/entity/Q213869</td><td>James Newton Howard</td><td>1951-06-09T00:00:00Z</td><td></td></tr><tr><td>http://www.wikidata.org/entity/Q46717</td><td>Pirates of the Caribbean: The Curse of the Black Pearl</td><td>http://www.wikidata.org/entity/Q57833</td><td>Klaus Badelt</td><td>1967-06-12T00:00:00Z</td><td></td></tr><tr><td>http://www.wikidata.org/entity/Q1140085</td><td>Marea roja</td><td>http://www.wikidata.org/entity/Q352722</td><td>Alfredo Catalani</td><td>1854-06-19T00:00:00Z</td><td>1893-08-07T00:00:00Z</td></tr><tr><td>http://www.wikidata.org/entity/Q31202708</td><td>Top Gun: Maverick</td><td>http://www.wikidata.org/entity/Q372489</td><td>Harold Faltermeyer</td><td>1952-10-05T00:00:00Z</td><td></td></tr></tbody></table></body></html>"
   ]
  },
  {
   "cell_type": "markdown",
   "metadata": {},
   "source": [
    "## Consulta 10\n",
    "¿Cuántos asertos hay sobre Zimmer en Wikidata? Ten en cuenta que Zimmer puede aparecer tanto como sujeto como objeto de cada tripleta."
   ]
  },
  {
   "cell_type": "code",
   "execution_count": null,
   "metadata": {},
   "outputs": [],
   "source": []
  }
 ],
 "metadata": {
  "kernelspec": {
   "display_name": "Python 3",
   "language": "python",
   "name": "python3"
  },
  "language_info": {
   "codemirror_mode": {
    "name": "ipython",
    "version": 3
   },
   "file_extension": ".py",
   "mimetype": "text/x-python",
   "name": "python",
   "nbconvert_exporter": "python",
   "pygments_lexer": "ipython3",
   "version": "3.7.4"
  }
 },
 "nbformat": 4,
 "nbformat_minor": 4
}
