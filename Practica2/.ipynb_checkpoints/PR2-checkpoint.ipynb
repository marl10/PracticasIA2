{
 "cells": [
  {
   "cell_type": "markdown",
   "metadata": {},
   "source": [
    "# Parte 1. Análisis de sentimiento"
   ]
  },
  {
   "cell_type": "markdown",
   "metadata": {},
   "source": [
    "## Apartado a)"
   ]
  },
  {
   "cell_type": "code",
   "execution_count": 3,
   "metadata": {},
   "outputs": [],
   "source": [
    "from sklearn.feature_extraction.text import CountVectorizer\n",
    "from sklearn.model_selection import train_test_split\n",
    "\n",
    "\n",
    "file = open(\"./Datos/yelp_labelled.txt\")\n",
    "dic = {'data':[], 'target':[]}\n",
    "\n",
    "corpus = file.readlines() \n",
    "\n",
    "for i in range (len(corpus)): \n",
    "    dic.get('data').append(corpus[i].split(\"\\t\")[0]) #agrega solo las frase\n",
    "    #[0] ya que divide en una lista de dos elementos y queremos coger donde esta la frase \n",
    "    #[1] esta el numero \n",
    "    dic.get('target').append(int(corpus[i].split(\"\\t\")[1].split(\"\\n\")[0]))\n",
    "    #cogemos el numero, al hacer una nueva separacion nos devuelve una lista cons dos elementos \n",
    "    #el numero esta en la pos 0 \n",
    "\n",
    "X_train, x_test, y_train, y_test = train_test_split(dic.get('data'), dic.get('target'), test_size = 0.25)\n"
   ]
  },
  {
   "cell_type": "code",
   "execution_count": 244,
   "metadata": {},
   "outputs": [],
   "source": [
    "from sklearn import metrics\n",
    "import pandas as pd\n",
    "import matplotlib.pyplot as plt"
   ]
  },
  {
   "cell_type": "code",
   "execution_count": 333,
   "metadata": {},
   "outputs": [],
   "source": [
    "clasificadoresNB = [] #para guardar los resultados"
   ]
  },
  {
   "cell_type": "code",
   "execution_count": 334,
   "metadata": {},
   "outputs": [],
   "source": [
    "clasificadoresAD = []"
   ]
  },
  {
   "cell_type": "code",
   "execution_count": 335,
   "metadata": {},
   "outputs": [],
   "source": [
    "df_NB = pd.DataFrame({'Nombre': [], 'Exactitud': [], 'Recall': [], 'Especificidad': []})"
   ]
  },
  {
   "cell_type": "code",
   "execution_count": 336,
   "metadata": {},
   "outputs": [],
   "source": [
    "df_AD = pd.DataFrame({'Nombre': [], 'Exactitud': [], 'Recall': [], 'Especificidad': []})"
   ]
  },
  {
   "cell_type": "code",
   "execution_count": 337,
   "metadata": {},
   "outputs": [],
   "source": [
    "reportNB = []\n"
   ]
  },
  {
   "cell_type": "code",
   "execution_count": 338,
   "metadata": {},
   "outputs": [],
   "source": [
    "reportAD = []"
   ]
  },
  {
   "cell_type": "markdown",
   "metadata": {},
   "source": [
    "### Bolsa de palabras binaria con monograma"
   ]
  },
  {
   "cell_type": "code",
   "execution_count": 339,
   "metadata": {},
   "outputs": [],
   "source": [
    "#PRIMERO: \n",
    "#Obtenemos la frecuencia de palabras, mediante el diccionario estandar\n",
    "vecBM = CountVectorizer(stop_words = \"english\", binary = True, ngram_range = (1,1))\n",
    "\n",
    "train_vecBM = vecBM.fit_transform(X_train).toarray() # SOLO para conjunto de entrenamiento "
   ]
  },
  {
   "cell_type": "code",
   "execution_count": null,
   "metadata": {},
   "outputs": [],
   "source": []
  },
  {
   "cell_type": "markdown",
   "metadata": {},
   "source": [
    "#### Clasificador NaiveBayes"
   ]
  },
  {
   "cell_type": "code",
   "execution_count": 340,
   "metadata": {},
   "outputs": [],
   "source": [
    "from sklearn.naive_bayes import BernoulliNB\n",
    "# Util para clasificar documentos cortos\n",
    "\n",
    "from sklearn.metrics import confusion_matrix\n",
    "\n",
    "from sklearn.metrics import classification_report "
   ]
  },
  {
   "cell_type": "code",
   "execution_count": 341,
   "metadata": {},
   "outputs": [
    {
     "name": "stdout",
     "output_type": "stream",
     "text": [
      "Accuracy: 0.78\n",
      "\n",
      "\n",
      "Matriz de confusion: \n",
      "[[ 85  23]\n",
      " [ 32 110]]\n"
     ]
    }
   ],
   "source": [
    "algoritmo = BernoulliNB()\n",
    "\n",
    "#Entrenamos al modelo \n",
    "algoritmo.fit(train_vecBM, y_train)\n",
    "\n",
    "#Realizo una prediccion \n",
    "\n",
    "#Importante: transform SOLO para conjunto de test \n",
    "y_pred = algoritmo.predict(vecBM.transform(x_test))\n",
    "\n",
    "matriz = confusion_matrix(y_test, y_pred)\n",
    "\n",
    "precNB_bin_mon = metrics.accuracy_score(y_test, y_pred)\n",
    "\n",
    "report = classification_report(y_test, y_pred)\n",
    "\n",
    "reportNB.append((matriz, report, \"NB binario con monograma\"))\n",
    "\n",
    "print(\"Accuracy:\", precNB_bin_mon)\n",
    "clasificadoresNB.append((\"NB binario con monograma:\",precNB_bin_mon, metrics.precision_score(y_test, y_pred),metrics.recall_score(y_test, y_pred),algoritmo))\n",
    "\n",
    "print(\"\\n\")\n",
    "print(\"Matriz de confusion: \")\n",
    "print(matriz)\n"
   ]
  },
  {
   "cell_type": "markdown",
   "metadata": {},
   "source": [
    "La diagonal compuesta por [95, 105] corresponde con __verdaderos positivos__ y __verdaderos negativos__, es decir, hay 200 datos predichos correctamente. \n",
    "Mientras que la otra diagonal formada por [10,40], corresponden con __falsos positivos__ y __falsos negativos__ y por lo tanto hay 50 datos que no se han predecido de forma incorrecta"
   ]
  },
  {
   "cell_type": "markdown",
   "metadata": {},
   "source": [
    "#### Árbol de decisión"
   ]
  },
  {
   "cell_type": "code",
   "execution_count": 342,
   "metadata": {},
   "outputs": [],
   "source": [
    "from sklearn import tree"
   ]
  },
  {
   "cell_type": "code",
   "execution_count": 343,
   "metadata": {},
   "outputs": [
    {
     "name": "stdout",
     "output_type": "stream",
     "text": [
      "Accuracy: 0.748\n",
      "\n",
      "\n",
      "Matriz de confusion: \n",
      "[[95 13]\n",
      " [50 92]]\n"
     ]
    }
   ],
   "source": [
    "cad = tree.DecisionTreeClassifier()\n",
    "cad = cad.fit(train_vecBM,y_train)\n",
    "\n",
    "y_pred = cad.predict(vecBM.transform(x_test))\n",
    "\n",
    "precAD_bin_mon = metrics.accuracy_score(y_test, y_pred)\n",
    "\n",
    "matriz = confusion_matrix(y_test, y_pred)\n",
    "\n",
    "report = classification_report(y_test, y_pred)\n",
    "\n",
    "reportAD.append((matriz, report, \"AD binario con monograma\"))\n",
    "                       \n",
    "print(\"Accuracy:\", precAD_bin_mon)\n",
    "clasificadoresAD.append((\"AD binario con monograma:\",precAD_bin_mon,metrics.precision_score(y_test, y_pred),metrics.recall_score(y_test, y_pred),cad))\n",
    "\n",
    "print(\"\\n\")\n",
    "print(\"Matriz de confusion: \")\n",
    "print(matriz)\n"
   ]
  },
  {
   "cell_type": "markdown",
   "metadata": {},
   "source": [
    "### Bolsa de palabras binaria con bigrama"
   ]
  },
  {
   "cell_type": "code",
   "execution_count": 344,
   "metadata": {},
   "outputs": [],
   "source": [
    "vecBB = CountVectorizer(stop_words = \"english\", binary = True, ngram_range = (1,2))\n",
    "train_vecBBarr = vecBB.fit_transform(X_train).toarray()"
   ]
  },
  {
   "cell_type": "markdown",
   "metadata": {},
   "source": [
    "#### Clasificador NaiveBayes"
   ]
  },
  {
   "cell_type": "code",
   "execution_count": 345,
   "metadata": {},
   "outputs": [
    {
     "name": "stdout",
     "output_type": "stream",
     "text": [
      "Accuracy: 0.788\n",
      "\n",
      "\n",
      "Matriz de confusion: \n",
      "[[ 94  14]\n",
      " [ 39 103]]\n"
     ]
    }
   ],
   "source": [
    "algoritmo = BernoulliNB()\n",
    "\n",
    "#Entrenamos al modelo \n",
    "algoritmo.fit(train_vecBBarr, y_train)\n",
    "\n",
    "#Realizo una prediccion \n",
    "\n",
    "#Importante: transform SOLO para conjunto de test \n",
    "y_pred = algoritmo.predict(vecBB.transform(x_test))\n",
    "\n",
    "matriz = confusion_matrix(y_test, y_pred)\n",
    "\n",
    "precNB_bin_bin = metrics.accuracy_score(y_test, y_pred)\n",
    "\n",
    "report = classification_report(y_test, y_pred)\n",
    "\n",
    "reportNB.append((matriz, report, \"NB binario con bigrama\"))\n",
    "\n",
    "print(\"Accuracy:\",precNB_bin_bin)\n",
    "clasificadoresNB.append((\"NB binario con bigrama:\",precNB_bin_bin,metrics.precision_score(y_test, y_pred),metrics.recall_score(y_test, y_pred), algoritmo))\n",
    "\n",
    "print(\"\\n\")\n",
    "print(\"Matriz de confusion: \")\n",
    "print(matriz)\n",
    "\n"
   ]
  },
  {
   "cell_type": "markdown",
   "metadata": {},
   "source": [
    "En este caso usando una bolsa de palabras __binaria con bigrama__ se obtiene un precisión del __0,792__. Con 198 datos predichos de forma correcta y 52 incorrectos. "
   ]
  },
  {
   "cell_type": "markdown",
   "metadata": {},
   "source": [
    "#### Árbol de decisión "
   ]
  },
  {
   "cell_type": "code",
   "execution_count": 346,
   "metadata": {},
   "outputs": [
    {
     "name": "stdout",
     "output_type": "stream",
     "text": [
      "Accuracy: 0.732\n",
      "\n",
      "\n",
      "Matriz de confusion: \n",
      "[[97 11]\n",
      " [56 86]]\n"
     ]
    }
   ],
   "source": [
    "cad = tree.DecisionTreeClassifier()\n",
    "cad = cad.fit(train_vecBBarr,y_train)\n",
    "\n",
    "y_pred = cad.predict(vecBB.transform(x_test))\n",
    "\n",
    "matriz = confusion_matrix(y_test, y_pred)\n",
    "\n",
    "precAD_bin_bin = metrics.accuracy_score(y_test, y_pred)\n",
    "\n",
    "report = classification_report(y_test, y_pred)\n",
    "\n",
    "reportAD.append((matriz, report, \"AD binario con bigrama\"))\n",
    "\n",
    "                       \n",
    "print(\"Accuracy:\",precAD_bin_bin)\n",
    "clasificadoresAD.append((\"AD binario con bigrama:\",precAD_bin_bin,metrics.precision_score(y_test, y_pred),metrics.recall_score(y_test, y_pred), cad))\n",
    "print(\"\\n\")\n",
    "print(\"Matriz de confusion: \")\n",
    "print(matriz)\n"
   ]
  },
  {
   "cell_type": "markdown",
   "metadata": {},
   "source": [
    "### Bolsa de palabras TF/IDF con monograma"
   ]
  },
  {
   "cell_type": "code",
   "execution_count": 347,
   "metadata": {},
   "outputs": [],
   "source": [
    "\n",
    "from sklearn.feature_extraction.text import CountVectorizer\n",
    "from sklearn.feature_extraction.text import TfidfTransformer"
   ]
  },
  {
   "cell_type": "markdown",
   "metadata": {},
   "source": [
    "#### Clasificador NaiveBayes"
   ]
  },
  {
   "cell_type": "code",
   "execution_count": 348,
   "metadata": {},
   "outputs": [],
   "source": [
    "vec = CountVectorizer(stop_words = \"english\", binary = False, ngram_range = (1,1))\n",
    "\n",
    "train_vec_data = vec.fit_transform(X_train)\n",
    "\n",
    "tfidfer = TfidfTransformer()\n",
    "\n",
    "train_vecIDF = tfidfer.fit_transform(train_vec_data) # obtenemos el IDF \n",
    "\n"
   ]
  },
  {
   "cell_type": "code",
   "execution_count": 349,
   "metadata": {},
   "outputs": [],
   "source": [
    "test_vec_data = vec.transform(x_test)\n",
    "\n",
    "tes_vec_IDF = tfidfer.transform(test_vec_data)"
   ]
  },
  {
   "cell_type": "code",
   "execution_count": 350,
   "metadata": {},
   "outputs": [
    {
     "name": "stdout",
     "output_type": "stream",
     "text": [
      "Accuracy: 0.78\n",
      "\n",
      "\n",
      "Matriz de confusion: \n",
      "[[ 85  23]\n",
      " [ 32 110]]\n"
     ]
    }
   ],
   "source": [
    "algoritmo = BernoulliNB()\n",
    "\n",
    "#Entrenamos al modelo \n",
    "algoritmo.fit(train_vecIDF, y_train)\n",
    "\n",
    "#Realizo una prediccion \n",
    "\n",
    "#Importante: transform SOLO para conjunto de test \n",
    "y_pred = algoritmo.predict(tes_vec_IDF)\n",
    "\n",
    "matriz = confusion_matrix(y_test, y_pred)\n",
    "\n",
    "report = classification_report(y_test, y_pred)\n",
    "\n",
    "reportNB.append((matriz, report, \"NB TFIDF con monograma\"))\n",
    "\n",
    "precNB_IDF_mon = metrics.accuracy_score(y_test, y_pred)\n",
    "\n",
    "print(\"Accuracy:\",precNB_IDF_mon)\n",
    "clasificadoresNB.append((\"NB TFIDF con monograma:\",precNB_IDF_mon,metrics.precision_score(y_test, y_pred),metrics.recall_score(y_test, y_pred) ,algoritmo))\n",
    "\n",
    "print(\"\\n\")\n",
    "print(\"Matriz de confusion: \")\n",
    "print(matriz)\n"
   ]
  },
  {
   "cell_type": "markdown",
   "metadata": {},
   "source": [
    "#### Árbol de decisión "
   ]
  },
  {
   "cell_type": "code",
   "execution_count": 351,
   "metadata": {},
   "outputs": [
    {
     "name": "stdout",
     "output_type": "stream",
     "text": [
      "Accuracy: 0.74\n",
      "\n",
      "\n",
      "Matriz de confusion: \n",
      "[[ 83  25]\n",
      " [ 40 102]]\n"
     ]
    }
   ],
   "source": [
    "cad = tree.DecisionTreeClassifier()\n",
    "cad = cad.fit(train_vecIDF,y_train)\n",
    "\n",
    "y_pred = cad.predict(tes_vec_IDF)\n",
    "\n",
    "matriz = confusion_matrix(y_test, y_pred)\n",
    "\n",
    "precAD_IDF_mon = metrics.accuracy_score(y_test, y_pred)\n",
    "\n",
    "report = classification_report(y_test, y_result)\n",
    "\n",
    "reportAD.append((matriz, report, \"AD TFIDF con monograma\"))\n",
    "                       \n",
    "print(\"Accuracy:\",precAD_IDF_mon)\n",
    "clasificadoresAD.append((\"AD TFIDF con monograma:\",precAD_IDF_mon,metrics.precision_score(y_test, y_pred),metrics.recall_score(y_test, y_pred) , cad))\n",
    "\n",
    "print(\"\\n\")\n",
    "print(\"Matriz de confusion: \")\n",
    "print(matriz)"
   ]
  },
  {
   "cell_type": "markdown",
   "metadata": {},
   "source": [
    "### Bolsa de palabras TF/IDF con bigrama"
   ]
  },
  {
   "cell_type": "markdown",
   "metadata": {},
   "source": [
    "#### Clasificador NaiveBayes"
   ]
  },
  {
   "cell_type": "code",
   "execution_count": 352,
   "metadata": {},
   "outputs": [],
   "source": [
    "vecBi = CountVectorizer(stop_words = \"english\", binary = False, ngram_range = (1,2))\n",
    "\n",
    "train_vec_dataBi = vecBi.fit_transform(X_train)\n",
    "\n",
    "tfidfer = TfidfTransformer()\n",
    "\n",
    "train_vecIDF_Bi = tfidfer.fit_transform(train_vec_dataBi)\n",
    "\n"
   ]
  },
  {
   "cell_type": "code",
   "execution_count": 353,
   "metadata": {},
   "outputs": [],
   "source": [
    "test_vec_data_Bi = vecBi.transform(x_test)\n",
    "\n",
    "tes_vec_IDF_Bi = tfidfer.transform(test_vec_data_Bi)"
   ]
  },
  {
   "cell_type": "code",
   "execution_count": 354,
   "metadata": {},
   "outputs": [
    {
     "name": "stdout",
     "output_type": "stream",
     "text": [
      "Accuracy: 0.788\n",
      "\n",
      "\n",
      "Matriz de confusion: \n",
      "[[ 94  14]\n",
      " [ 39 103]]\n"
     ]
    }
   ],
   "source": [
    "algoritmo = BernoulliNB()\n",
    "\n",
    "#Entrenamos al modelo \n",
    "algoritmo.fit(train_vecIDF_Bi, y_train)\n",
    "\n",
    "#Realizo una prediccion \n",
    "\n",
    "#Importante: transform SOLO para conjunto de test \n",
    "y_pred = algoritmo.predict(tes_vec_IDF_Bi)\n",
    "\n",
    "matriz = confusion_matrix(y_test, y_pred)\n",
    "\n",
    "report = classification_report(y_test, y_pred)\n",
    "\n",
    "reportNB.append((matriz, report, \"NB TFIDF con bigrama\"))\n",
    "\n",
    "precNB_IDF_bin = metrics.accuracy_score(y_test, y_pred)\n",
    "\n",
    "print(\"Accuracy:\",precNB_IDF_bin)\n",
    "clasificadoresNB.append((\"NB TFIDF con bigrama:\",precNB_IDF_bin,metrics.precision_score(y_test, y_pred),metrics.recall_score(y_test, y_pred) ,algoritmo))\n",
    "\n",
    "print(\"\\n\")\n",
    "print(\"Matriz de confusion: \")\n",
    "print(matriz)\n"
   ]
  },
  {
   "cell_type": "markdown",
   "metadata": {},
   "source": [
    "#### Árbol de decisión "
   ]
  },
  {
   "cell_type": "code",
   "execution_count": 355,
   "metadata": {},
   "outputs": [
    {
     "name": "stdout",
     "output_type": "stream",
     "text": [
      "Accuracy: 0.724\n",
      "\n",
      "\n",
      "Matriz de confusion: \n",
      "[[84 24]\n",
      " [45 97]]\n"
     ]
    }
   ],
   "source": [
    "cad = tree.DecisionTreeClassifier()\n",
    "cad = cad.fit(train_vecIDF_Bi,y_train)\n",
    "\n",
    "y_pred = cad.predict(tes_vec_IDF_Bi)\n",
    "\n",
    "matriz = confusion_matrix(y_test, y_pred)\n",
    "\n",
    "precAD_IDF_bin = metrics.accuracy_score(y_test, y_pred)\n",
    "\n",
    "report = classification_report(y_test, y_pred)\n",
    "\n",
    "reportAD.append((matriz, report, \"AD TFIDF con bigrama\"))\n",
    "\n",
    "                       \n",
    "print(\"Accuracy:\",precAD_IDF_bin)\n",
    "clasificadoresAD.append((\"AD TFIDF con bigrama:\",precAD_IDF_bin,metrics.precision_score(y_test, y_pred),metrics.recall_score(y_test, y_pred) ,cad))\n",
    "\n",
    "print(\"\\n\")\n",
    "print(\"Matriz de confusion: \")\n",
    "print(matriz)\n"
   ]
  },
  {
   "cell_type": "markdown",
   "metadata": {},
   "source": [
    "## RESULTADOS"
   ]
  },
  {
   "cell_type": "code",
   "execution_count": 356,
   "metadata": {},
   "outputs": [],
   "source": [
    "for i in range (len(clasificadoresNB)): \n",
    "    #print(clasificadoresNB[i][0], clasificadoresNB[i][1])\n",
    "    df_NB = df_NB.append({\"Nombre\":clasificadoresNB[i][0] ,\"Exactitud\":clasificadoresNB[i][1], \"Recall\": clasificadoresNB[i][3], \"Especificidad\": clasificadoresNB[i][2]}, ignore_index=True)\n",
    "\n",
    "#print(\"-------------------------------\")\n",
    "\n",
    "for j in range (len(clasificadoresAD)): \n",
    "   #print(clasificadoresAD[j][0], clasificadoresAD[j][1])\n",
    "    df_AD = df_AD.append({\"Nombre\":clasificadoresAD[j][0] ,\"Exactitud\":clasificadoresAD[j][1], \"Recall\": clasificadoresAD[i][3], \"Especificidad\": clasificadoresAD[i][2]}, ignore_index=True)\n"
   ]
  },
  {
   "cell_type": "markdown",
   "metadata": {},
   "source": [
    "#### __Naïve Bayes__"
   ]
  },
  {
   "cell_type": "code",
   "execution_count": 357,
   "metadata": {},
   "outputs": [
    {
     "name": "stdout",
     "output_type": "stream",
     "text": [
      "Reporte medias clasificación, NB binario con monograma\n",
      "              precision    recall  f1-score   support\n",
      "\n",
      "           0       0.73      0.79      0.76       108\n",
      "           1       0.83      0.77      0.80       142\n",
      "\n",
      "    accuracy                           0.78       250\n",
      "   macro avg       0.78      0.78      0.78       250\n",
      "weighted avg       0.78      0.78      0.78       250\n",
      "\n",
      "Matriz de confusión\n",
      "[[ 85  23]\n",
      " [ 32 110]]\n",
      "----------------------------------------------------------\n",
      "Reporte medias clasificación, NB binario con bigrama\n",
      "              precision    recall  f1-score   support\n",
      "\n",
      "           0       0.71      0.87      0.78       108\n",
      "           1       0.88      0.73      0.80       142\n",
      "\n",
      "    accuracy                           0.79       250\n",
      "   macro avg       0.79      0.80      0.79       250\n",
      "weighted avg       0.81      0.79      0.79       250\n",
      "\n",
      "Matriz de confusión\n",
      "[[ 94  14]\n",
      " [ 39 103]]\n",
      "----------------------------------------------------------\n",
      "Reporte medias clasificación, NB TFIDF con monograma\n",
      "              precision    recall  f1-score   support\n",
      "\n",
      "           0       0.73      0.79      0.76       108\n",
      "           1       0.83      0.77      0.80       142\n",
      "\n",
      "    accuracy                           0.78       250\n",
      "   macro avg       0.78      0.78      0.78       250\n",
      "weighted avg       0.78      0.78      0.78       250\n",
      "\n",
      "Matriz de confusión\n",
      "[[ 85  23]\n",
      " [ 32 110]]\n",
      "----------------------------------------------------------\n",
      "Reporte medias clasificación, NB TFIDF con bigrama\n",
      "              precision    recall  f1-score   support\n",
      "\n",
      "           0       0.71      0.87      0.78       108\n",
      "           1       0.88      0.73      0.80       142\n",
      "\n",
      "    accuracy                           0.79       250\n",
      "   macro avg       0.79      0.80      0.79       250\n",
      "weighted avg       0.81      0.79      0.79       250\n",
      "\n",
      "Matriz de confusión\n",
      "[[ 94  14]\n",
      " [ 39 103]]\n",
      "----------------------------------------------------------\n"
     ]
    }
   ],
   "source": [
    "for i in range (len(reportNB)):\n",
    "    print(\"Reporte medias clasificación,\", reportNB[i][2])\n",
    "    print(reportNB[i][1])\n",
    "    print(\"Matriz de confusión\")\n",
    "    print(reportNB[i][0])\n",
    "    print(\"----------------------------------------------------------\")"
   ]
  },
  {
   "cell_type": "markdown",
   "metadata": {},
   "source": [
    "#### __Árbol de decisión__"
   ]
  },
  {
   "cell_type": "code",
   "execution_count": 358,
   "metadata": {},
   "outputs": [
    {
     "name": "stdout",
     "output_type": "stream",
     "text": [
      "Reporte medias clasificación, AD binario con monograma\n",
      "              precision    recall  f1-score   support\n",
      "\n",
      "           0       0.66      0.88      0.75       108\n",
      "           1       0.88      0.65      0.74       142\n",
      "\n",
      "    accuracy                           0.75       250\n",
      "   macro avg       0.77      0.76      0.75       250\n",
      "weighted avg       0.78      0.75      0.75       250\n",
      "\n",
      "Matriz de confusión\n",
      "[[95 13]\n",
      " [50 92]]\n",
      "----------------------------------------------------------\n",
      "Reporte medias clasificación, AD binario con bigrama\n",
      "              precision    recall  f1-score   support\n",
      "\n",
      "           0       0.63      0.90      0.74       108\n",
      "           1       0.89      0.61      0.72       142\n",
      "\n",
      "    accuracy                           0.73       250\n",
      "   macro avg       0.76      0.75      0.73       250\n",
      "weighted avg       0.78      0.73      0.73       250\n",
      "\n",
      "Matriz de confusión\n",
      "[[97 11]\n",
      " [56 86]]\n",
      "----------------------------------------------------------\n",
      "Reporte medias clasificación, AD TFIDF con monograma\n",
      "              precision    recall  f1-score   support\n",
      "\n",
      "           0       0.63      0.79      0.70       108\n",
      "           1       0.80      0.65      0.72       142\n",
      "\n",
      "    accuracy                           0.71       250\n",
      "   macro avg       0.71      0.72      0.71       250\n",
      "weighted avg       0.73      0.71      0.71       250\n",
      "\n",
      "Matriz de confusión\n",
      "[[ 83  25]\n",
      " [ 40 102]]\n",
      "----------------------------------------------------------\n",
      "Reporte medias clasificación, AD TFIDF con bigrama\n",
      "              precision    recall  f1-score   support\n",
      "\n",
      "           0       0.65      0.78      0.71       108\n",
      "           1       0.80      0.68      0.74       142\n",
      "\n",
      "    accuracy                           0.72       250\n",
      "   macro avg       0.73      0.73      0.72       250\n",
      "weighted avg       0.74      0.72      0.73       250\n",
      "\n",
      "Matriz de confusión\n",
      "[[84 24]\n",
      " [45 97]]\n",
      "----------------------------------------------------------\n"
     ]
    }
   ],
   "source": [
    "for i in range (len(reportAD)):\n",
    "    print(\"Reporte medias clasificación,\", reportAD[i][2])\n",
    "    print(reportAD[i][1])\n",
    "    print(\"Matriz de confusión\")\n",
    "    print(reportAD[i][0])\n",
    "    print(\"----------------------------------------------------------\")"
   ]
  },
  {
   "cell_type": "code",
   "execution_count": 361,
   "metadata": {},
   "outputs": [
    {
     "data": {
      "text/plain": [
       "<matplotlib.legend.Legend at 0x1a1ef7a890>"
      ]
     },
     "execution_count": 361,
     "metadata": {},
     "output_type": "execute_result"
    },
    {
     "data": {
      "image/png": "[encoded data removed]",
      "text/plain": [
       "<Figure size 432x288 with 1 Axes>"
      ]
     },
     "metadata": {
      "needs_background": "light"
     },
     "output_type": "display_data"
    }
   ],
   "source": [
    "#Recall \n",
    "datos = [list(df_NB[\"Recall\"]), list(df_AD[\"Recall\"])]\n",
    "\n",
    "X = np.arange(4)\n",
    "plt.bar(X + 0.00, datos[0], color = \"b\", width = 0.25, label = \"NB\")\n",
    "plt.bar(X + 0.25, datos[1], color = \"g\", width = 0.25, label = \"AD\")\n",
    "plt.xticks(X+0.38, [\"Binaria mono\",\"Binaria bi\",\"TF/IDF mono\" ,\"TF/IDF bi\"])\n",
    "plt.title(\"Tasa de verdaderos positivos o Recall\")\n",
    "plt.xlabel('Bolsa de palabras')\n",
    "plt.legend(loc=\"lower right\")"
   ]
  },
  {
   "cell_type": "code",
   "execution_count": 362,
   "metadata": {},
   "outputs": [
    {
     "data": {
      "text/plain": [
       "<matplotlib.legend.Legend at 0x1a1f0244d0>"
      ]
     },
     "execution_count": 362,
     "metadata": {},
     "output_type": "execute_result"
    },
    {
     "data": {
      "image/png": "[encoded data removed]",
      "text/plain": [
       "<Figure size 432x288 with 1 Axes>"
      ]
     },
     "metadata": {
      "needs_background": "light"
     },
     "output_type": "display_data"
    }
   ],
   "source": [
    "# tasa de verdaderos negativos o specificity\n",
    "datos = [list(df_NB[\"Especificidad\"]), list(df_AD[\"Especificidad\"])]\n",
    "\n",
    "X = np.arange(4)\n",
    "plt.bar(X + 0.00, datos[0], color = \"b\", width = 0.25, label = \"NB\")\n",
    "plt.bar(X + 0.25, datos[1], color = \"g\", width = 0.25, label = \"AD\")\n",
    "plt.xticks(X+0.38, [\"Binaria mono\",\"Binaria bi\",\"TF/IDF mono\" ,\"TF/IDF bi\"])\n",
    "plt.title(\"Tasa de verdaderos negativos o Specificity\")\n",
    "plt.xlabel('Bolsa de palabras')\n",
    "plt.legend(loc=\"lower right\")"
   ]
  },
  {
   "cell_type": "markdown",
   "metadata": {},
   "source": [
    "-----\n",
    "### Análisis de los resultados\n",
    "---"
   ]
  },
  {
   "cell_type": "markdown",
   "metadata": {},
   "source": [
    "### ¿Hay un clasificador que sea superior al otro? ¿por qué crees que sucede?\n",
    "\n",
    "Si, el clasificador Naïve Bayes proporciona mejores resultados que el Árbol de Decisión debido a que el primero hace uso de probabilidad mediante el Teorema de Bayes proporcionando mejores resultados mientras que el otro se basa en generar un arbol mediante los nodos que son los que oreguntan por los valores de una varaible tomando un camino aparentemente bueno pero que en etapas posteriores no es el mejor. \n"
   ]
  },
  {
   "cell_type": "markdown",
   "metadata": {},
   "source": [
    "### Para cada clasificador, ¿tiene un efecto positivo el añadir “complejidad” a la vectorización? Es decir, añadir bigramas y añadir tf-idf. ¿Por qué crees que sucede este efecto positivo o la falta del mismo?\n",
    "\n",
    "En lineas geberales presentan valores similares, por lo que no mejoran mucho los resultaods. Puede ser debido a que son corpus pequeños y de de jerga local. \n",
    "Podemos observar esa similitud en el digrama de exactitudes de las 4 bolsas de palabras con los dos clasificadores haciendo una comparación. Se puede ver como las barras son de una altura similar en las 4 bolsas de palabras"
   ]
  },
  {
   "cell_type": "code",
   "execution_count": 363,
   "metadata": {},
   "outputs": [
    {
     "data": {
      "text/plain": [
       "<matplotlib.legend.Legend at 0x1a1f1d7c10>"
      ]
     },
     "execution_count": 363,
     "metadata": {},
     "output_type": "execute_result"
    },
    {
     "data": {
      "image/png": "[encoded data removed]",
      "text/plain": [
       "<Figure size 432x288 with 1 Axes>"
      ]
     },
     "metadata": {
      "needs_background": "light"
     },
     "output_type": "display_data"
    }
   ],
   "source": [
    "#Exactitud \n",
    "exNB= list(df_NB[\"Exactitud\"])\n",
    "exAD = list(df_AD[\"Exactitud\"])\n",
    "\n",
    "datos = [exNB, exAD]\n",
    "\n",
    "X = np.arange(4)\n",
    "plt.bar(X + 0.00, datos[0], color = \"b\", width = 0.25, label = \"NB\")\n",
    "plt.bar(X + 0.25, datos[1], color = \"g\", width = 0.25, label = \"AD\")\n",
    "plt.xticks(X+0.38, [\"Binaria mono\",\"Binaria bi\",\"TF/IDF mono\" ,\"TF/IDF bi\"])\n",
    "plt.title(\"Exactitud\")\n",
    "plt.xlabel('Bolsa de palabras')\n",
    "plt.legend(loc=\"lower right\")"
   ]
  },
  {
   "cell_type": "code",
   "execution_count": null,
   "metadata": {},
   "outputs": [],
   "source": []
  },
  {
   "cell_type": "markdown",
   "metadata": {},
   "source": [
    "### Para cada clasificador, ¿tiene un comportamiento homogéneo a la hora de clasificar ambas clases? "
   ]
  },
  {
   "cell_type": "code",
   "execution_count": null,
   "metadata": {},
   "outputs": [],
   "source": []
  },
  {
   "cell_type": "markdown",
   "metadata": {},
   "source": [
    "### ¿Cuáles son las fortalezas y debilidades de cada uno de los clasificadores? "
   ]
  },
  {
   "cell_type": "code",
   "execution_count": null,
   "metadata": {},
   "outputs": [],
   "source": []
  },
  {
   "cell_type": "markdown",
   "metadata": {},
   "source": [
    "### ¿Hay algún clasificador que sea mejor que el otro en todo?  "
   ]
  },
  {
   "cell_type": "code",
   "execution_count": null,
   "metadata": {},
   "outputs": [],
   "source": []
  },
  {
   "cell_type": "markdown",
   "metadata": {},
   "source": [
    "### ¿Coinciden ambos clasificadores a la hora de clasificar mejor una clase que la otra? "
   ]
  },
  {
   "cell_type": "code",
   "execution_count": null,
   "metadata": {},
   "outputs": [],
   "source": []
  },
  {
   "cell_type": "markdown",
   "metadata": {},
   "source": [
    "## Pinta los 8 primeros niveles del árbol de decisión y comenta lo que ves. "
   ]
  },
  {
   "cell_type": "code",
   "execution_count": null,
   "metadata": {},
   "outputs": [],
   "source": [
    "from sklearn.tree import plot_tree\n",
    "import matplotlib.pyplot as plt\n",
    "\n",
    "plt.figure(figsize=(15,15))\n",
    "plot_tree(clf, filled=True, feature_names=iris.feature_names, class_names=iris.target_names, rounded=True)\n",
    "plt.show()"
   ]
  },
  {
   "cell_type": "markdown",
   "metadata": {},
   "source": [
    "### ¿Qué estructura tiene el árbol? "
   ]
  },
  {
   "cell_type": "markdown",
   "metadata": {},
   "source": [
    "### ¿Cómo interpretas los niveles que has pintado? ¿tienen algún sentido con respecto a la tasa de aciertos, o la precisión y exhaustividad del clasificador? "
   ]
  },
  {
   "cell_type": "markdown",
   "metadata": {},
   "source": [
    "### ¿Hay nodos impuros? "
   ]
  },
  {
   "cell_type": "code",
   "execution_count": null,
   "metadata": {},
   "outputs": [],
   "source": []
  },
  {
   "cell_type": "markdown",
   "metadata": {},
   "source": [
    "##  Por cada clasificador identifica 2 críticas que hayan sido falsas positivas (malas críticas calificadas como buenas) y 2 críticas que han sido falsas negativas (buenas críticas clasificadas como malas). Analiza tanto su texto original, como el vector de palabras resultante (solamente los términos activos)."
   ]
  },
  {
   "cell_type": "markdown",
   "metadata": {},
   "source": [
    "### ¿Por qué crees que ha fallado el clasificador en cada uno de los casos? "
   ]
  },
  {
   "cell_type": "markdown",
   "metadata": {},
   "source": [
    "### ¿Se te ocurre alguna idea sobre cómo mejorar el clasificador de sentimiento?"
   ]
  },
  {
   "cell_type": "markdown",
   "metadata": {},
   "source": [
    "# Parte 2. Recuperación de la información"
   ]
  },
  {
   "cell_type": "code",
   "execution_count": null,
   "metadata": {},
   "outputs": [],
   "source": [
    "prueba pull"
   ]
  },
  {
   "cell_type": "code",
   "execution_count": null,
   "metadata": {},
   "outputs": [],
   "source": [
    "holaaa"
   ]
  }
 ],
 "metadata": {
  "kernelspec": {
   "display_name": "Python 3",
   "language": "python",
   "name": "python3"
  },
  "language_info": {
   "codemirror_mode": {
    "name": "ipython",
    "version": 3
   },
   "file_extension": ".py",
   "mimetype": "text/x-python",
   "name": "python",
   "nbconvert_exporter": "python",
   "pygments_lexer": "ipython3",
   "version": "3.7.4"
  }
 },
 "nbformat": 4,
 "nbformat_minor": 4
}
