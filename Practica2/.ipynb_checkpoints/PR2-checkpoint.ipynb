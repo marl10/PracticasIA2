{
 "cells": [
  {
   "cell_type": "markdown",
   "metadata": {},
   "source": [
    "# Parte 1. Análisis de sentimiento"
   ]
  },
  {
   "cell_type": "markdown",
   "metadata": {},
   "source": [
    "---\n",
    "## __Apartado a)__\n",
    "---"
   ]
  },
  {
   "cell_type": "code",
   "execution_count": 4,
   "metadata": {},
   "outputs": [],
   "source": [
    "from sklearn.feature_extraction.text import CountVectorizer\n",
    "from sklearn.model_selection import train_test_split\n",
    "from sklearn import metrics\n",
    "import pandas as pd\n",
    "import matplotlib.pyplot as plt\n",
    "from sklearn.metrics import confusion_matrix\n",
    "from sklearn.metrics import classification_report \n",
    "\n",
    "#---------------------------\n",
    "# NAive Bayes \n",
    "#---------------------------\n",
    "from sklearn.naive_bayes import BernoulliNB\n",
    "# Util para clasificar documentos cortos\n",
    "from sklearn.naive_bayes import MultinomialNB\n",
    "\n",
    "\n",
    "from sklearn.tree import DecisionTreeClassifier\n"
   ]
  },
  {
   "cell_type": "code",
   "execution_count": 5,
   "metadata": {},
   "outputs": [],
   "source": [
    "file = open(\"./Datos/yelp_labelled.txt\")\n",
    "dic = {'data':[], 'target':[]}\n",
    "target_names = [\"Negativos\", \"Positivos\"]\n",
    "\n",
    "corpus = file.readlines() \n",
    "\n",
    "for i in range (len(corpus)): \n",
    "    dic.get('data').append(corpus[i].split(\"\\t\")[0]) #agrega solo las frase\n",
    "    #[0] ya que divide en una lista de dos elementos y queremos coger donde esta la frase \n",
    "    #[1] esta el numero \n",
    "    n = int(corpus[i].split(\"\\t\")[1].split(\"\\n\")[0])\n",
    "    dic.get('target').append(n)\n",
    "    \n",
    "    #cogemos el numero, al hacer una nueva separacion nos devuelve una lista cons dos elementos \n",
    "    #el numero esta en la pos 0 \n",
    "X_train, x_test, y_train, y_test = train_test_split(\n",
    "    dic.get('data'), dic.get('target'), test_size = 0.25,  random_state=42)"
   ]
  },
  {
   "cell_type": "code",
   "execution_count": 309,
   "metadata": {},
   "outputs": [
    {
     "data": {
      "text/plain": [
       "\"If you haven't gone here GO NOW!\""
      ]
     },
     "execution_count": 309,
     "metadata": {},
     "output_type": "execute_result"
    }
   ],
   "source": [
    "x_test[0]"
   ]
  },
  {
   "cell_type": "code",
   "execution_count": 310,
   "metadata": {},
   "outputs": [
    {
     "data": {
      "text/plain": [
       "1"
      ]
     },
     "execution_count": 310,
     "metadata": {},
     "output_type": "execute_result"
    }
   ],
   "source": [
    "y_test[0]"
   ]
  },
  {
   "cell_type": "code",
   "execution_count": 308,
   "metadata": {},
   "outputs": [
    {
     "data": {
      "text/plain": [
       "1"
      ]
     },
     "execution_count": 308,
     "metadata": {},
     "output_type": "execute_result"
    }
   ],
   "source": [
    "dic.get('data')[0]\n",
    "dic.get('target')[0]"
   ]
  },
  {
   "cell_type": "code",
   "execution_count": 256,
   "metadata": {},
   "outputs": [],
   "source": [
    "clasificadoresNB = [] \n",
    "clasificadoresAD = []"
   ]
  },
  {
   "cell_type": "code",
   "execution_count": 257,
   "metadata": {},
   "outputs": [],
   "source": [
    "clasificadoresAD_train = []"
   ]
  },
  {
   "cell_type": "code",
   "execution_count": 258,
   "metadata": {},
   "outputs": [],
   "source": [
    "#Orden de datos:  \n",
    "\n",
    "#reportNB[0] = Nombre de algoritmo y bolsa  \n",
    "#reportNB[1] = Exactitud \n",
    "#reportNB[2] = Recall\n",
    "#reportNB[3] = Especificidad\n",
    "#reportNB[4] = Matriz de confusion \n",
    "#reportNB[5] = Reporte de medidas'\n",
    "#reportNB[6] = Algoritmo\n",
    "#reportNB[7] = prediccion test "
   ]
  },
  {
   "cell_type": "code",
   "execution_count": 259,
   "metadata": {},
   "outputs": [],
   "source": [
    "df_NB = pd.DataFrame({'Nombre': [], 'Exactitud': [], 'Recall': [], 'Especificidad': []})\n",
    "df_AD = pd.DataFrame({'Nombre': [], 'Exactitud': [], 'Recall': [], 'Especificidad': []})"
   ]
  },
  {
   "cell_type": "markdown",
   "metadata": {},
   "source": [
    "***\n",
    "### Bolsa de palabras binaria con monograma\n"
   ]
  },
  {
   "cell_type": "code",
   "execution_count": 260,
   "metadata": {},
   "outputs": [],
   "source": [
    "#PRIMERO: \n",
    "#Obtenemos la frecuencia de palabras, mediante el diccionario estandar\n",
    "vecBM = CountVectorizer(stop_words = \"english\", binary = True, ngram_range = (1,1))\n",
    "train_vec_data = vecBM.fit_transform(X_train) # SOLO para conjunto de entrenamiento \n",
    "\n",
    "test_vec_data = vecBM.transform(x_test)"
   ]
  },
  {
   "cell_type": "markdown",
   "metadata": {},
   "source": [
    "#### ***Clasificador NaiveBayes***"
   ]
  },
  {
   "cell_type": "code",
   "execution_count": 261,
   "metadata": {},
   "outputs": [
    {
     "name": "stdout",
     "output_type": "stream",
     "text": [
      "Accuracy train:  0.948\n",
      "Accuracy test:  0.78\n"
     ]
    }
   ],
   "source": [
    "algoritmo = BernoulliNB()\n",
    "\n",
    "#Entrenamos al modelo \n",
    "algoritmo.fit(train_vec_data, y_train)\n",
    "\n",
    "#Realizo una prediccion \n",
    "#Importante: transform SOLO para conjunto de test \n",
    "y_pred_train = algoritmo.predict(train_vec_data)\n",
    "y_pred_test = algoritmo.predict(test_vec_data)\n",
    "\n",
    "\n",
    "accuracy_train = metrics.accuracy_score(y_train, y_pred_train)\n",
    "accuracy_test = metrics.accuracy_score(y_test, y_pred_test)\n",
    "\n",
    "matriz = confusion_matrix(y_test, y_pred_test)\n",
    "accuracy = metrics.accuracy_score(y_test, y_pred_test)\n",
    "report = classification_report(y_test, y_pred_test)\n",
    "\n",
    "precision = metrics.precision_score(y_test, y_pred_test)\n",
    "recall = metrics.recall_score(y_test, y_pred_test)\n",
    "\n",
    "clasificadoresNB.append(\n",
    "    (\"NB binario con monograma:\",accuracy, recall,precision, matriz, report, algoritmo, y_pred_test))\n",
    "\n",
    "print(\"Accuracy train: \", accuracy_train)\n",
    "print(\"Accuracy test: \", accuracy_test)\n"
   ]
  },
  {
   "cell_type": "code",
   "execution_count": 262,
   "metadata": {},
   "outputs": [
    {
     "name": "stdout",
     "output_type": "stream",
     "text": [
      "Accuracy train:  0.9506666666666667\n",
      "Accuracy test:  0.764\n"
     ]
    }
   ],
   "source": [
    "from sklearn.naive_bayes import MultinomialNB\n",
    "\n",
    "algoritmo = MultinomialNB()\n",
    "\n",
    "#Entrenamos al modelo \n",
    "algoritmo.fit(train_vec_data, y_train)\n",
    "\n",
    "#Realizo una prediccion \n",
    "#Importante: transform SOLO para conjunto de test \n",
    "y_pred_train = algoritmo.predict(train_vec_data)\n",
    "y_pred_test = algoritmo.predict(test_vec_data)\n",
    "\n",
    "\n",
    "accuracy_train = metrics.accuracy_score(y_train, y_pred_train)\n",
    "accuracy_test = metrics.accuracy_score(y_test, y_pred_test)\n",
    "\n",
    "print(\"Accuracy train: \", accuracy_train)\n",
    "print(\"Accuracy test: \", accuracy_test)\n"
   ]
  },
  {
   "cell_type": "markdown",
   "metadata": {},
   "source": [
    "#### ***Árbol de decisión***"
   ]
  },
  {
   "cell_type": "code",
   "execution_count": 263,
   "metadata": {},
   "outputs": [
    {
     "name": "stdout",
     "output_type": "stream",
     "text": [
      "Accuracy train:  0.9626666666666667\n",
      "Accuracy test:  0.696\n"
     ]
    }
   ],
   "source": [
    "algoritmo = DecisionTreeClassifier(criterion=\"gini\", \n",
    "                                   splitter=\"best\",\n",
    "                                   min_samples_split=10,\n",
    "                                   max_leaf_nodes=None)\n",
    "#Entrenamos al modelo \n",
    "algoritmo.fit(train_vec_data, y_train)\n",
    "#Realizo una prediccion \n",
    "#Importante: transform SOLO para conjunto de test \n",
    "y_pred_train = algoritmo.predict(train_vec_data)\n",
    "y_pred_test = algoritmo.predict(test_vec_data)\n",
    "\n",
    "accuracy_train = metrics.accuracy_score(y_train, y_pred_train)\n",
    "accuracy_test = metrics.accuracy_score(y_test, y_pred_test)\n",
    "\n",
    "matriz = confusion_matrix(y_test, y_pred_test)\n",
    "accuracy = metrics.accuracy_score(y_test, y_pred_test)\n",
    "report = classification_report(y_test, y_pred_test)\n",
    "report_train = classification_report(y_train, y_pred_train)\n",
    "\n",
    "precision = metrics.precision_score(y_test, y_pred_test)\n",
    "recall = metrics.recall_score(y_test, y_pred_test)\n",
    "\n",
    "clasificadoresAD.append(\n",
    "    (\"AD binario con monograma:\",accuracy, recall,precision, matriz, report, algoritmo, y_pred_test))\n",
    "    \n",
    "print(\"Accuracy train: \", accuracy_train)\n",
    "print(\"Accuracy test: \", accuracy_test)"
   ]
  },
  {
   "cell_type": "code",
   "execution_count": null,
   "metadata": {},
   "outputs": [],
   "source": []
  },
  {
   "cell_type": "code",
   "execution_count": 264,
   "metadata": {},
   "outputs": [
    {
     "name": "stdout",
     "output_type": "stream",
     "text": [
      "              precision    recall  f1-score   support\n",
      "\n",
      "           0       0.96      0.96      0.96       372\n",
      "           1       0.96      0.97      0.96       378\n",
      "\n",
      "    accuracy                           0.96       750\n",
      "   macro avg       0.96      0.96      0.96       750\n",
      "weighted avg       0.96      0.96      0.96       750\n",
      "\n"
     ]
    }
   ],
   "source": [
    "print(report_train)"
   ]
  },
  {
   "cell_type": "code",
   "execution_count": 265,
   "metadata": {},
   "outputs": [
    {
     "name": "stdout",
     "output_type": "stream",
     "text": [
      "Accuracy train:  0.9973333333333333\n",
      "Accuracy test:  0.692\n"
     ]
    }
   ],
   "source": [
    "algoritmo = DecisionTreeClassifier()\n",
    "#Entrenamos al modelo \n",
    "algoritmo.fit(train_vec_data, y_train)\n",
    "#Realizo una prediccion \n",
    "#Importante: transform SOLO para conjunto de test \n",
    "y_pred_train = algoritmo.predict(train_vec_data)\n",
    "y_pred_test = algoritmo.predict(test_vec_data)\n",
    "\n",
    "accuracy_train = metrics.accuracy_score(y_train, y_pred_train)\n",
    "accuracy_test = metrics.accuracy_score(y_test, y_pred_test)\n",
    "print(\"Accuracy train: \", accuracy_train)\n",
    "print(\"Accuracy test: \", accuracy_test)"
   ]
  },
  {
   "cell_type": "markdown",
   "metadata": {},
   "source": [
    "---\n",
    "### Bolsa de palabras binaria con bigrama"
   ]
  },
  {
   "cell_type": "code",
   "execution_count": 266,
   "metadata": {},
   "outputs": [],
   "source": [
    "vecBB = CountVectorizer(stop_words = \"english\", binary = True, ngram_range = (1,2))\n",
    "train_vec_data_bb = vecBB.fit_transform(X_train)\n",
    "\n",
    "test_vec_data_bb = vecBB.transform(x_test)"
   ]
  },
  {
   "cell_type": "markdown",
   "metadata": {},
   "source": [
    "#### ***Clasificador NaiveBayes***"
   ]
  },
  {
   "cell_type": "code",
   "execution_count": 267,
   "metadata": {},
   "outputs": [
    {
     "name": "stdout",
     "output_type": "stream",
     "text": [
      "Accuracy train:  0.9773333333333334\n",
      "Accuracy test:  0.78\n"
     ]
    }
   ],
   "source": [
    "algoritmo = BernoulliNB()\n",
    "\n",
    "#Entrenamos al modelo \n",
    "algoritmo.fit(train_vec_data_bb, y_train)\n",
    "\n",
    "#Realizo una prediccion \n",
    "#Importante: transform SOLO para conjunto de test \n",
    "y_pred_train = algoritmo.predict(train_vec_data_bb)\n",
    "y_pred_test = algoritmo.predict(test_vec_data_bb)\n",
    "\n",
    "\n",
    "accuracy_train = metrics.accuracy_score(y_train, y_pred_train)\n",
    "accuracy_test = metrics.accuracy_score(y_test, y_pred_test)\n",
    "\n",
    "matriz = confusion_matrix(y_test, y_pred_test)\n",
    "accuracy = metrics.accuracy_score(y_test, y_pred_test)\n",
    "report = classification_report(y_test, y_pred_test)\n",
    "\n",
    "precision = metrics.precision_score(y_test, y_pred_test)\n",
    "recall = metrics.recall_score(y_test, y_pred_test)\n",
    "\n",
    "clasificadoresNB.append(\n",
    "    (\"NB binario con bigrama:\",accuracy, recall,precision, matriz, report, algoritmo, y_pred_test))\n",
    "\n",
    "\n",
    "print(\"Accuracy train: \", accuracy_train)\n",
    "print(\"Accuracy test: \", accuracy_test)"
   ]
  },
  {
   "cell_type": "code",
   "execution_count": null,
   "metadata": {},
   "outputs": [],
   "source": []
  },
  {
   "cell_type": "code",
   "execution_count": 268,
   "metadata": {},
   "outputs": [
    {
     "name": "stdout",
     "output_type": "stream",
     "text": [
      "Accuracy train:  0.9773333333333334\n",
      "Accuracy test:  0.772\n"
     ]
    }
   ],
   "source": [
    "algoritmo = MultinomialNB()\n",
    "\n",
    "#Entrenamos al modelo \n",
    "algoritmo.fit(train_vec_data_bb, y_train)\n",
    "\n",
    "#Realizo una prediccion \n",
    "#Importante: transform SOLO para conjunto de test \n",
    "y_pred_train = algoritmo.predict(train_vec_data_bb)\n",
    "y_pred_test = algoritmo.predict(test_vec_data_bb)\n",
    "\n",
    "\n",
    "accuracy_train = metrics.accuracy_score(y_train, y_pred_train)\n",
    "accuracy_test = metrics.accuracy_score(y_test, y_pred_test)\n",
    "\n",
    "print(\"Accuracy train: \", accuracy_train)\n",
    "print(\"Accuracy test: \", accuracy_test)\n"
   ]
  },
  {
   "cell_type": "markdown",
   "metadata": {},
   "source": [
    "#### ***Árbol de decisión*** "
   ]
  },
  {
   "cell_type": "code",
   "execution_count": 269,
   "metadata": {},
   "outputs": [
    {
     "name": "stdout",
     "output_type": "stream",
     "text": [
      "Accuracy train:  0.968\n",
      "Accuracy test:  0.704\n"
     ]
    }
   ],
   "source": [
    "algoritmo = DecisionTreeClassifier(criterion=\"gini\", \n",
    "                                   splitter=\"best\",\n",
    "                                   min_samples_split=10,\n",
    "                                   max_leaf_nodes=None)\n",
    "#Entrenamos al modelo \n",
    "algoritmo.fit(train_vec_data_bb, y_train)\n",
    "#Realizo una prediccion \n",
    "#Importante: transform SOLO para conjunto de test \n",
    "y_pred_train = algoritmo.predict(train_vec_data_bb)\n",
    "y_pred_test = algoritmo.predict(test_vec_data_bb)\n",
    "\n",
    "accuracy_train = metrics.accuracy_score(y_train, y_pred_train)\n",
    "accuracy_test = metrics.accuracy_score(y_test, y_pred_test)\n",
    "\n",
    "matriz = confusion_matrix(y_test, y_pred_test)\n",
    "accuracy = metrics.accuracy_score(y_test, y_pred_test)\n",
    "report = classification_report(y_test, y_pred_test)\n",
    "\n",
    "\n",
    "precision = metrics.precision_score(y_test, y_pred_test)\n",
    "recall = metrics.recall_score(y_test, y_pred_test)\n",
    "\n",
    "clasificadoresAD.append(\n",
    "    (\"AD binario con bigrama:\",accuracy, recall,precision, matriz, report, algoritmo, y_pred_test))\n",
    "\n",
    "\n",
    "print(\"Accuracy train: \", accuracy_train)\n",
    "print(\"Accuracy test: \", accuracy_test)"
   ]
  },
  {
   "cell_type": "code",
   "execution_count": 270,
   "metadata": {},
   "outputs": [],
   "source": [
    "target_names2 = [\"Pos\", \"Nega\"]"
   ]
  },
  {
   "cell_type": "code",
   "execution_count": 271,
   "metadata": {},
   "outputs": [
    {
     "name": "stdout",
     "output_type": "stream",
     "text": [
      "              precision    recall  f1-score   support\n",
      "\n",
      "         Pos       0.67      0.82      0.74       128\n",
      "        Nega       0.76      0.58      0.66       122\n",
      "\n",
      "    accuracy                           0.70       250\n",
      "   macro avg       0.71      0.70      0.70       250\n",
      "weighted avg       0.71      0.70      0.70       250\n",
      "\n"
     ]
    }
   ],
   "source": [
    "print(report2)"
   ]
  },
  {
   "cell_type": "code",
   "execution_count": 272,
   "metadata": {},
   "outputs": [
    {
     "name": "stdout",
     "output_type": "stream",
     "text": [
      "Accuracy train:  0.9973333333333333\n",
      "Accuracy test:  0.668\n"
     ]
    }
   ],
   "source": [
    "algoritmo = DecisionTreeClassifier()\n",
    "#Entrenamos al modelo \n",
    "algoritmo.fit(train_vec_data_bb, y_train)\n",
    "#Realizo una prediccion \n",
    "#Importante: transform SOLO para conjunto de test \n",
    "y_pred_train = algoritmo.predict(train_vec_data_bb)\n",
    "y_pred_test = algoritmo.predict(test_vec_data_bb)\n",
    "\n",
    "accuracy_train = metrics.accuracy_score(y_train, y_pred_train)\n",
    "accuracy_test = metrics.accuracy_score(y_test, y_pred_test)\n",
    "print(\"Accuracy train: \", accuracy_train)\n",
    "print(\"Accuracy test: \", accuracy_test)"
   ]
  },
  {
   "cell_type": "markdown",
   "metadata": {},
   "source": [
    "----\n",
    "### Bolsa de palabras TF/IDF con monograma"
   ]
  },
  {
   "cell_type": "code",
   "execution_count": 273,
   "metadata": {},
   "outputs": [],
   "source": [
    "\n",
    "from sklearn.feature_extraction.text import CountVectorizer\n",
    "from sklearn.feature_extraction.text import TfidfTransformer"
   ]
  },
  {
   "cell_type": "markdown",
   "metadata": {},
   "source": [
    "#### ***Clasificador NaiveBayes***"
   ]
  },
  {
   "cell_type": "code",
   "execution_count": 274,
   "metadata": {},
   "outputs": [],
   "source": [
    "vec = CountVectorizer(stop_words = \"english\", binary = False, ngram_range = (1,1))\n",
    "train_vec_data = vec.fit_transform(X_train)\n",
    "tfidfer = TfidfTransformer()\n",
    "train_vecIDF = tfidfer.fit_transform(train_vec_data) # obtenemos el IDF \n",
    "\n"
   ]
  },
  {
   "cell_type": "code",
   "execution_count": 275,
   "metadata": {},
   "outputs": [],
   "source": [
    "test_vec_data = vec.transform(x_test)\n",
    "\n",
    "tes_vec_IDF = tfidfer.transform(test_vec_data)"
   ]
  },
  {
   "cell_type": "code",
   "execution_count": 276,
   "metadata": {},
   "outputs": [
    {
     "name": "stdout",
     "output_type": "stream",
     "text": [
      "Accuracy train:  0.948\n",
      "Accuracy test:  0.78\n"
     ]
    }
   ],
   "source": [
    "algoritmo = BernoulliNB()\n",
    "\n",
    "#Entrenamos al modelo \n",
    "algoritmo.fit(train_vecIDF, y_train)\n",
    "\n",
    "#Realizo una prediccion \n",
    "#Importante: transform SOLO para conjunto de test \n",
    "y_pred_train = algoritmo.predict(train_vecIDF)\n",
    "y_pred_test = algoritmo.predict(tes_vec_IDF)\n",
    "\n",
    "\n",
    "accuracy_train = metrics.accuracy_score(y_train, y_pred_train)\n",
    "accuracy_test = metrics.accuracy_score(y_test, y_pred_test)\n",
    "\n",
    "matriz = confusion_matrix(y_test, y_pred_test)\n",
    "accuracy = metrics.accuracy_score(y_test, y_pred_test)\n",
    "report = classification_report(y_test, y_pred_test)\n",
    "\n",
    "precision = metrics.precision_score(y_test, y_pred_test)\n",
    "recall = metrics.recall_score(y_test, y_pred_test)\n",
    "\n",
    "clasificadoresNB.append(\n",
    "    (\"NB TF/IDF con monograma:\",accuracy, recall,precision, matriz,report, algoritmo, y_pred_test))\n",
    "\n",
    "\n",
    "print(\"Accuracy train: \", accuracy_train)\n",
    "print(\"Accuracy test: \", accuracy_test)\n"
   ]
  },
  {
   "cell_type": "code",
   "execution_count": 277,
   "metadata": {},
   "outputs": [
    {
     "name": "stdout",
     "output_type": "stream",
     "text": [
      "Accuracy train:  0.9613333333333334\n",
      "Accuracy test:  0.772\n"
     ]
    }
   ],
   "source": [
    "algoritmo = MultinomialNB()\n",
    "\n",
    "#Entrenamos al modelo \n",
    "algoritmo.fit(train_vecIDF, y_train)\n",
    "\n",
    "#Realizo una prediccion \n",
    "#Importante: transform SOLO para conjunto de test \n",
    "y_pred_train = algoritmo.predict(train_vecIDF)\n",
    "y_pred_test = algoritmo.predict(tes_vec_IDF)\n",
    "\n",
    "\n",
    "accuracy_train = metrics.accuracy_score(y_train, y_pred_train)\n",
    "accuracy_test = metrics.accuracy_score(y_test, y_pred_test)\n",
    "\n",
    "print(\"Accuracy train: \", accuracy_train)\n",
    "print(\"Accuracy test: \", accuracy_test)\n"
   ]
  },
  {
   "cell_type": "markdown",
   "metadata": {},
   "source": [
    "#### ***Árbol de decisión***"
   ]
  },
  {
   "cell_type": "code",
   "execution_count": 278,
   "metadata": {},
   "outputs": [
    {
     "name": "stdout",
     "output_type": "stream",
     "text": [
      "Accuracy train:  0.9653333333333334\n",
      "Accuracy test:  0.684\n"
     ]
    }
   ],
   "source": [
    "algoritmo = DecisionTreeClassifier(criterion=\"gini\", \n",
    "                                   splitter=\"best\",\n",
    "                                   min_samples_split=10,\n",
    "                                   max_leaf_nodes=None)\n",
    "#Entrenamos al modelo \n",
    "algoritmo.fit(train_vecIDF, y_train)\n",
    "#Realizo una prediccion \n",
    "#Importante: transform SOLO para conjunto de test \n",
    "y_pred_train = algoritmo.predict(train_vecIDF)\n",
    "y_pred_test = algoritmo.predict(tes_vec_IDF)\n",
    "\n",
    "accuracy_train = metrics.accuracy_score(y_train, y_pred_train)\n",
    "accuracy_test = metrics.accuracy_score(y_test, y_pred_test)\n",
    "\n",
    "matriz = confusion_matrix(y_test, y_pred_test)\n",
    "accuracy = metrics.accuracy_score(y_test, y_pred_test)\n",
    "report = classification_report(y_test, y_pred_test)\n",
    "\n",
    "precision = metrics.precision_score(y_test, y_pred_test)\n",
    "recall = metrics.recall_score(y_test, y_pred_test)\n",
    "\n",
    "clasificadoresAD.append(\n",
    "    (\"AD TF/IDF con monograma:\",accuracy, recall,precision, matriz, report, algoritmo, y_pred_test))\n",
    "\n",
    "print(\"Accuracy train: \", accuracy_train)\n",
    "print(\"Accuracy test: \", accuracy_test)"
   ]
  },
  {
   "cell_type": "code",
   "execution_count": 279,
   "metadata": {},
   "outputs": [
    {
     "name": "stdout",
     "output_type": "stream",
     "text": [
      "Accuracy train:  0.9973333333333333\n",
      "Accuracy test:  0.688\n"
     ]
    }
   ],
   "source": [
    "algoritmo = DecisionTreeClassifier()\n",
    "#Entrenamos al modelo \n",
    "algoritmo.fit(train_vecIDF, y_train)\n",
    "#Realizo una prediccion \n",
    "#Importante: transform SOLO para conjunto de test \n",
    "y_pred_train = algoritmo.predict(train_vecIDF)\n",
    "y_pred_test = algoritmo.predict(tes_vec_IDF)\n",
    "\n",
    "accuracy_train = metrics.accuracy_score(y_train, y_pred_train)\n",
    "accuracy_test = metrics.accuracy_score(y_test, y_pred_test)\n",
    "print(\"Accuracy train: \", accuracy_train)\n",
    "print(\"Accuracy test: \", accuracy_test)"
   ]
  },
  {
   "cell_type": "markdown",
   "metadata": {},
   "source": [
    "---\n",
    "### Bolsa de palabras TF/IDF con bigrama"
   ]
  },
  {
   "cell_type": "markdown",
   "metadata": {},
   "source": [
    "#### ***Clasificador NaiveBayes***"
   ]
  },
  {
   "cell_type": "code",
   "execution_count": 280,
   "metadata": {},
   "outputs": [],
   "source": [
    "vecBi = CountVectorizer(stop_words = \"english\", binary = False, ngram_range = (1,2))\n",
    "train_vec_dataBi = vecBi.fit_transform(X_train)\n",
    "tfidfer = TfidfTransformer()\n",
    "train_vecIDF_Bi = tfidfer.fit_transform(train_vec_dataBi)\n",
    "\n"
   ]
  },
  {
   "cell_type": "code",
   "execution_count": 281,
   "metadata": {},
   "outputs": [],
   "source": [
    "test_vec_data_Bi = vecBi.transform(x_test)\n",
    "tes_vec_IDF_Bi = tfidfer.transform(test_vec_data_Bi)"
   ]
  },
  {
   "cell_type": "code",
   "execution_count": 282,
   "metadata": {},
   "outputs": [
    {
     "name": "stdout",
     "output_type": "stream",
     "text": [
      "Accuracy train:  0.9773333333333334\n",
      "Accuracy test:  0.78\n"
     ]
    }
   ],
   "source": [
    "algoritmo = BernoulliNB()\n",
    "\n",
    "#Entrenamos al modelo \n",
    "algoritmo.fit(train_vecIDF_Bi, y_train)\n",
    "\n",
    "#Realizo una prediccion \n",
    "#Importante: transform SOLO para conjunto de test \n",
    "y_pred_train = algoritmo.predict(train_vecIDF_Bi)\n",
    "y_pred_test = algoritmo.predict(tes_vec_IDF_Bi)\n",
    "\n",
    "\n",
    "accuracy_train = metrics.accuracy_score(y_train, y_pred_train)\n",
    "accuracy_test = metrics.accuracy_score(y_test, y_pred_test)\n",
    "\n",
    "matriz = confusion_matrix(y_test, y_pred_test)\n",
    "accuracy = metrics.accuracy_score(y_test, y_pred_test)\n",
    "report = classification_report(y_test, y_pred_test)\n",
    "\n",
    "precision = metrics.precision_score(y_test, y_pred_test)\n",
    "recall = metrics.recall_score(y_test, y_pred_test)\n",
    "\n",
    "clasificadoresNB.append(\n",
    "    (\"NB TF/IDF con bigrama:\",accuracy, recall,precision, matriz, report, algoritmo, y_pred_test))\n",
    "\n",
    "\n",
    "print(\"Accuracy train: \", accuracy_train)\n",
    "print(\"Accuracy test: \", accuracy_test)"
   ]
  },
  {
   "cell_type": "code",
   "execution_count": 283,
   "metadata": {},
   "outputs": [
    {
     "name": "stdout",
     "output_type": "stream",
     "text": [
      "Accuracy train:  0.9893333333333333\n",
      "Accuracy test:  0.784\n"
     ]
    }
   ],
   "source": [
    "algoritmo = MultinomialNB()\n",
    "\n",
    "#Entrenamos al modelo \n",
    "algoritmo.fit(train_vecIDF_Bi, y_train)\n",
    "\n",
    "#Realizo una prediccion \n",
    "#Importante: transform SOLO para conjunto de test \n",
    "y_pred_train = algoritmo.predict(train_vecIDF_Bi)\n",
    "y_pred_test = algoritmo.predict(tes_vec_IDF_Bi)\n",
    "\n",
    "\n",
    "accuracy_train = metrics.accuracy_score(y_train, y_pred_train)\n",
    "accuracy_test = metrics.accuracy_score(y_test, y_pred_test)\n",
    "\n",
    "print(\"Accuracy train: \", accuracy_train)\n",
    "print(\"Accuracy test: \", accuracy_test)"
   ]
  },
  {
   "cell_type": "markdown",
   "metadata": {},
   "source": [
    "#### ***Árbol de decisión***"
   ]
  },
  {
   "cell_type": "code",
   "execution_count": 284,
   "metadata": {},
   "outputs": [
    {
     "name": "stdout",
     "output_type": "stream",
     "text": [
      "Accuracy train:  0.9653333333333334\n",
      "Accuracy test:  0.664\n"
     ]
    }
   ],
   "source": [
    "algoritmo = DecisionTreeClassifier(criterion=\"gini\", \n",
    "                                   splitter=\"best\",\n",
    "                                   min_samples_split=10,\n",
    "                                   max_leaf_nodes=None)\n",
    "#Entrenamos al modelo \n",
    "algoritmo.fit(train_vecIDF_Bi, y_train)\n",
    "#Realizo una prediccion \n",
    "#Importante: transform SOLO para conjunto de test \n",
    "y_pred_train = algoritmo.predict(train_vecIDF_Bi)\n",
    "y_pred_test = algoritmo.predict(tes_vec_IDF_Bi)\n",
    "\n",
    "accuracy_train = metrics.accuracy_score(y_train, y_pred_train)\n",
    "accuracy_test = metrics.accuracy_score(y_test, y_pred_test)\n",
    "\n",
    "matriz = confusion_matrix(y_test, y_pred_test)\n",
    "accuracy = metrics.accuracy_score(y_test, y_pred_test)\n",
    "report = classification_report(y_test, y_pred_test)\n",
    "\n",
    "precision = metrics.precision_score(y_test, y_pred_test)\n",
    "recall = metrics.recall_score(y_test, y_pred_test)\n",
    "\n",
    "clasificadoresAD.append(\n",
    "    (\"AD TF/IDF con bigrama:\",accuracy, recall,precision, matriz, report, algoritmo, y_pred_test))\n",
    "\n",
    "print(\"Accuracy train: \", accuracy_train)\n",
    "print(\"Accuracy test: \", accuracy_test)"
   ]
  },
  {
   "cell_type": "code",
   "execution_count": 285,
   "metadata": {},
   "outputs": [
    {
     "name": "stdout",
     "output_type": "stream",
     "text": [
      "Accuracy train:  0.9973333333333333\n",
      "Accuracy test:  0.672\n"
     ]
    }
   ],
   "source": [
    "algoritmo = DecisionTreeClassifier()\n",
    "#Entrenamos al modelo \n",
    "algoritmo.fit(train_vecIDF_Bi, y_train)\n",
    "#Realizo una prediccion \n",
    "#Importante: transform SOLO para conjunto de test \n",
    "y_pred_train = algoritmo.predict(train_vecIDF_Bi)\n",
    "y_pred_test = algoritmo.predict(tes_vec_IDF_Bi)\n",
    "\n",
    "accuracy_train = metrics.accuracy_score(y_train, y_pred_train)\n",
    "accuracy_test = metrics.accuracy_score(y_test, y_pred_test)\n",
    "print(\"Accuracy train: \", accuracy_train)\n",
    "print(\"Accuracy test: \", accuracy_test)"
   ]
  },
  {
   "cell_type": "markdown",
   "metadata": {},
   "source": [
    "-----\n",
    "### **Análisis de los resultados**\n",
    "---"
   ]
  },
  {
   "cell_type": "markdown",
   "metadata": {},
   "source": [
    "### ¿Hay un clasificador que sea superior al otro? ¿por qué crees que sucede?\n",
    "\n",
    "Ambos clasificadores reducen la exactitud en el test, esto quiere decir que hay un sobre apredizage del algoritmo. De todso modos, el clasificador Naïve Bayes proporciona mejores resultados que el Árbol de Decisión debido a que el primero hace uso de probabilidad mediante el Teorema de Bayes proporcionando mejores resultados mientras que el otro se basa en generar un arbol mediante nodos que son los que oreguntan por los valores de una varaible tomando un camino aparentemente bueno pero que en etapas posteriores puede que no sea el mejor.\n",
    "También Naïve Bayes eleva los resultados en el porcentaje de acierto en test. \n",
    "\n",
    "\n"
   ]
  },
  {
   "cell_type": "markdown",
   "metadata": {},
   "source": [
    "## RESULTADOS"
   ]
  },
  {
   "cell_type": "code",
   "execution_count": 287,
   "metadata": {},
   "outputs": [],
   "source": [
    "## Cramos data frame para visualizar mejor las metricas de los clasificadores \n",
    "for i in range (len(clasificadoresNB)): \n",
    "    #print(clasificadoresNB[i][0], clasificadoresNB[i][1])\n",
    "    df_NB = df_NB.append({\"Nombre\":clasificadoresNB[i][0] ,\"Exactitud\":clasificadoresNB[i][1], \"Recall\": clasificadoresNB[i][2], \"Especificidad\": clasificadoresNB[i][3]}, ignore_index=True)\n",
    "\n",
    "#print(\"-------------------------------\")\n",
    "\n",
    "for j in range (len(clasificadoresAD)): \n",
    "   #print(clasificadoresAD[j][0], clasificadoresAD[j][1])\n",
    "    df_AD = df_AD.append({\"Nombre\":clasificadoresAD[j][0] ,\"Exactitud\":clasificadoresAD[j][1], \"Recall\": clasificadoresAD[i][2], \"Especificidad\": clasificadoresAD[i][3]}, ignore_index=True)\n"
   ]
  },
  {
   "cell_type": "code",
   "execution_count": 292,
   "metadata": {},
   "outputs": [],
   "source": [
    "import numpy as np\n",
    "import matplotlib.pyplot as plt"
   ]
  },
  {
   "cell_type": "code",
   "execution_count": 293,
   "metadata": {},
   "outputs": [
    {
     "data": {
      "text/plain": [
       "<matplotlib.legend.Legend at 0x1a255e1750>"
      ]
     },
     "execution_count": 293,
     "metadata": {},
     "output_type": "execute_result"
    },
    {
     "data": {
      "image/png": "[encoded data removed]",
      "text/plain": [
       "<Figure size 432x288 with 1 Axes>"
      ]
     },
     "metadata": {
      "needs_background": "light"
     },
     "output_type": "display_data"
    }
   ],
   "source": [
    "#Recall \n",
    "datos = [list(df_NB[\"Recall\"]), list(df_AD[\"Recall\"])]\n",
    "\n",
    "X = np.arange(4)\n",
    "plt.bar(X + 0.00, datos[0], color = \"b\", width = 0.25, label = \"NB\")\n",
    "plt.bar(X + 0.25, datos[1], color = \"g\", width = 0.25, label = \"AD\")\n",
    "plt.xticks(X+0.38, [\"Binaria mono\",\"Binaria bi\",\"TF/IDF mono\" ,\"TF/IDF bi\"])\n",
    "plt.title(\"Tasa de verdaderos positivos o Recall\")\n",
    "plt.xlabel('Bolsa de palabras')\n",
    "plt.legend(loc=\"lower right\")"
   ]
  },
  {
   "cell_type": "code",
   "execution_count": 294,
   "metadata": {},
   "outputs": [
    {
     "data": {
      "text/plain": [
       "<matplotlib.legend.Legend at 0x1a402cf9d0>"
      ]
     },
     "execution_count": 294,
     "metadata": {},
     "output_type": "execute_result"
    },
    {
     "data": {
      "image/png": "[encoded data removed]",
      "text/plain": [
       "<Figure size 432x288 with 1 Axes>"
      ]
     },
     "metadata": {
      "needs_background": "light"
     },
     "output_type": "display_data"
    }
   ],
   "source": [
    "# tasa de verdaderos negativos o specificity\n",
    "datos = [list(df_NB[\"Especificidad\"]), list(df_AD[\"Especificidad\"])]\n",
    "\n",
    "X = np.arange(4)\n",
    "plt.bar(X + 0.00, datos[0], color = \"b\", width = 0.25, label = \"NB\")\n",
    "plt.bar(X + 0.25, datos[1], color = \"g\", width = 0.25, label = \"AD\")\n",
    "plt.xticks(X+0.38, [\"Binaria mono\",\"Binaria bi\",\"TF/IDF mono\" ,\"TF/IDF bi\"])\n",
    "plt.title(\"Tasa de verdaderos negativos o Specificity\")\n",
    "plt.xlabel('Bolsa de palabras')\n",
    "plt.legend(loc=\"lower right\")"
   ]
  },
  {
   "cell_type": "markdown",
   "metadata": {},
   "source": [
    "Estas dos graficas nos ayuda a ver como el uso de diferentes bolsas de palabras genera resultados muy parecidos para cada uno de los clasificadores. Por lo que se puede decir las bolsas de palabras no genera una mejora considerable"
   ]
  },
  {
   "cell_type": "markdown",
   "metadata": {},
   "source": [
    "-----\n",
    "### Análisis de los resultados\n",
    "---"
   ]
  },
  {
   "cell_type": "markdown",
   "metadata": {},
   "source": [
    "- #### ¿Hay un clasificador que sea superior al otro? ¿por qué crees que sucede?\n",
    "\n",
    "Si, el clasificador Naïve Bayes proporciona mejores resultados que el Árbol de Decisión debido a que el primero hace uso de probabilidad mediante el Teorema de Bayes proporcionando mejores resultados mientras que el otro se basa en generar un arbol mediante los nodos que son los que oreguntan por los valores de una varaible tomando un camino aparentemente bueno pero que en etapas posteriores no es el mejor. \n"
   ]
  },
  {
   "cell_type": "markdown",
   "metadata": {},
   "source": [
    "- #### Para cada clasificador, ¿tiene un efecto positivo el añadir “complejidad” a la vectorización? Es decir, añadir bigramas y añadir tf-idf. ¿Por qué crees que sucede este efecto positivo o la falta del mismo?\n",
    "\n",
    "En lineas geberales presentan valores similares, por lo que no mejoran mucho los resultaods. Puede ser debido a que son corpus pequeños y de jerga local, además el diccionario es inducido por lo que se agregan todos los terminos produciendo ruido. \n",
    "Podemos observar esa similitud en el digrama de exactitudes de las 4 bolsas de palabras con los dos clasificadores haciendo una comparación. Se puede ver como las barras son practicamente de una altura similar en las 4 bolsas de palabras. "
   ]
  },
  {
   "cell_type": "code",
   "execution_count": 295,
   "metadata": {},
   "outputs": [
    {
     "data": {
      "text/plain": [
       "<matplotlib.legend.Legend at 0x1a401cf490>"
      ]
     },
     "execution_count": 295,
     "metadata": {},
     "output_type": "execute_result"
    },
    {
     "data": {
      "image/png": "[encoded data removed]",
      "text/plain": [
       "<Figure size 432x288 with 1 Axes>"
      ]
     },
     "metadata": {
      "needs_background": "light"
     },
     "output_type": "display_data"
    }
   ],
   "source": [
    "#Exactitud \n",
    "exNB= list(df_NB[\"Exactitud\"])\n",
    "exAD = list(df_AD[\"Exactitud\"])\n",
    "\n",
    "datos = [exNB, exAD]\n",
    "\n",
    "X = np.arange(4)\n",
    "plt.bar(X + 0.00, datos[0], color = \"b\", width = 0.25, label = \"NB\")\n",
    "plt.bar(X + 0.25, datos[1], color = \"g\", width = 0.25, label = \"AD\")\n",
    "plt.xticks(X+0.38, [\"Binaria mono\",\"Binaria bi\",\"TF/IDF mono\" ,\"TF/IDF bi\"])\n",
    "plt.title(\"Exactitud\")\n",
    "plt.xlabel('Bolsa de palabras')\n",
    "plt.legend(loc=\"lower right\")"
   ]
  },
  {
   "cell_type": "markdown",
   "metadata": {},
   "source": [
    "#### __Selecciona el mejor árbol de decisión y obtén las 25 variables con más poder discriminante__ "
   ]
  },
  {
   "cell_type": "code",
   "execution_count": 296,
   "metadata": {},
   "outputs": [],
   "source": [
    "def print_top25_features_in_trees(vectorizer, clf):\n",
    "    \"\"\"Prints features with the highest coefficient values\"\"\"\n",
    "    feature_names = vectorizer.get_feature_names()\n",
    "    \n",
    "    top25 = np.argsort(clf.feature_importances_)[-25:]\n",
    "    reversed_top = top25[::-1]\n",
    "    print(\"Top 25 features in the tree\\n\")\n",
    "    print(\"%s\" % ( \" / \".join(feature_names[j] for j in reversed_top)))"
   ]
  },
  {
   "cell_type": "code",
   "execution_count": 297,
   "metadata": {},
   "outputs": [
    {
     "data": {
      "text/html": [
       "<div>\n",
       "<style scoped>\n",
       "    .dataframe tbody tr th:only-of-type {\n",
       "        vertical-align: middle;\n",
       "    }\n",
       "\n",
       "    .dataframe tbody tr th {\n",
       "        vertical-align: top;\n",
       "    }\n",
       "\n",
       "    .dataframe thead th {\n",
       "        text-align: right;\n",
       "    }\n",
       "</style>\n",
       "<table border=\"1\" class=\"dataframe\">\n",
       "  <thead>\n",
       "    <tr style=\"text-align: right;\">\n",
       "      <th></th>\n",
       "      <th>Nombre</th>\n",
       "      <th>Exactitud</th>\n",
       "      <th>Recall</th>\n",
       "      <th>Especificidad</th>\n",
       "    </tr>\n",
       "  </thead>\n",
       "  <tbody>\n",
       "    <tr>\n",
       "      <td>0</td>\n",
       "      <td>AD binario con monograma:</td>\n",
       "      <td>0.696</td>\n",
       "      <td>0.622951</td>\n",
       "      <td>0.666667</td>\n",
       "    </tr>\n",
       "    <tr>\n",
       "      <td>1</td>\n",
       "      <td>AD binario con bigrama:</td>\n",
       "      <td>0.704</td>\n",
       "      <td>0.622951</td>\n",
       "      <td>0.666667</td>\n",
       "    </tr>\n",
       "    <tr>\n",
       "      <td>2</td>\n",
       "      <td>AD TF/IDF con monograma:</td>\n",
       "      <td>0.684</td>\n",
       "      <td>0.622951</td>\n",
       "      <td>0.666667</td>\n",
       "    </tr>\n",
       "    <tr>\n",
       "      <td>3</td>\n",
       "      <td>AD TF/IDF con bigrama:</td>\n",
       "      <td>0.664</td>\n",
       "      <td>0.622951</td>\n",
       "      <td>0.666667</td>\n",
       "    </tr>\n",
       "  </tbody>\n",
       "</table>\n",
       "</div>"
      ],
      "text/plain": [
       "                      Nombre  Exactitud    Recall  Especificidad\n",
       "0  AD binario con monograma:      0.696  0.622951       0.666667\n",
       "1    AD binario con bigrama:      0.704  0.622951       0.666667\n",
       "2   AD TF/IDF con monograma:      0.684  0.622951       0.666667\n",
       "3     AD TF/IDF con bigrama:      0.664  0.622951       0.666667"
      ]
     },
     "execution_count": 297,
     "metadata": {},
     "output_type": "execute_result"
    }
   ],
   "source": [
    "df_AD"
   ]
  },
  {
   "cell_type": "markdown",
   "metadata": {},
   "source": [
    "Podemos ver como los mejores resultados nos los proporcionan los arboles 0 y 1. Elegimos el binario con bigrama"
   ]
  },
  {
   "cell_type": "code",
   "execution_count": 298,
   "metadata": {},
   "outputs": [
    {
     "name": "stdout",
     "output_type": "stream",
     "text": [
      "AD binario con bigrama:\n",
      "DecisionTreeClassifier(ccp_alpha=0.0, class_weight=None, criterion='gini',\n",
      "                       max_depth=None, max_features=None, max_leaf_nodes=None,\n",
      "                       min_impurity_decrease=0.0, min_impurity_split=None,\n",
      "                       min_samples_leaf=1, min_samples_split=10,\n",
      "                       min_weight_fraction_leaf=0.0, presort='deprecated',\n",
      "                       random_state=None, splitter='best')\n"
     ]
    }
   ],
   "source": [
    "print(clasificadoresAD[1][0])\n",
    "print(clasificadoresAD[1][6])"
   ]
  },
  {
   "cell_type": "code",
   "execution_count": 299,
   "metadata": {},
   "outputs": [
    {
     "name": "stdout",
     "output_type": "stream",
     "text": [
      "              precision    recall  f1-score   support\n",
      "\n",
      "           0       0.68      0.80      0.73       128\n",
      "           1       0.74      0.61      0.67       122\n",
      "\n",
      "    accuracy                           0.70       250\n",
      "   macro avg       0.71      0.70      0.70       250\n",
      "weighted avg       0.71      0.70      0.70       250\n",
      "\n"
     ]
    }
   ],
   "source": [
    "print(clasificadoresAD[1][5])"
   ]
  },
  {
   "cell_type": "code",
   "execution_count": 300,
   "metadata": {},
   "outputs": [
    {
     "name": "stdout",
     "output_type": "stream",
     "text": [
      "Matriz de confusión\n",
      "[[102  26]\n",
      " [ 48  74]]\n"
     ]
    }
   ],
   "source": [
    "print(\"Matriz de confusión\")\n",
    "print(clasificadoresAD[1][4])"
   ]
  },
  {
   "cell_type": "code",
   "execution_count": 301,
   "metadata": {},
   "outputs": [
    {
     "name": "stdout",
     "output_type": "stream",
     "text": [
      "Top 25 features in the tree\n",
      "\n",
      "great / good / delicious / nice / amazing / awesome / love / fantastic / friendly / excellent / best / food / vegas / loved / place / perfect / fun / don / restaurants / patio / won disappointed / wonderful / enjoyed / incredible / way\n"
     ]
    }
   ],
   "source": [
    "print_top25_features_in_trees(vecBB,clasificadoresAD[1][6])"
   ]
  },
  {
   "cell_type": "code",
   "execution_count": null,
   "metadata": {},
   "outputs": [],
   "source": []
  },
  {
   "cell_type": "markdown",
   "metadata": {},
   "source": [
    "- #### ¿Predominan más las palabras de uno u otro sentimiento? ¿por qué? ¿hay ruido?\n",
    "\n"
   ]
  },
  {
   "cell_type": "markdown",
   "metadata": {},
   "source": [
    "Predominan las palabras positivas, posiblemenre porque son las mas frecuentes en los comentarios. Debido a que el diccioanrio usado por los clasificados es generado a partir de los textos de los cometarios. Hay ruido, se puede ver en palabras como \"place\", \"way\"... "
   ]
  },
  {
   "cell_type": "markdown",
   "metadata": {},
   "source": [
    "####  __Selecciona el mejor clasificador naive bayes y obtén las 25 variables con más presencia en cada clase:__"
   ]
  },
  {
   "cell_type": "code",
   "execution_count": 302,
   "metadata": {},
   "outputs": [],
   "source": [
    "def print_top25_features_per_class_in_NB(vectorizer, clf, class_labels):\n",
    "    \"\"\"Prints features with the highest coefficient values, per class\"\"\"\n",
    "    feature_names = vectorizer.get_feature_names()\n",
    "    print(\"Top 25 features per class\\n\")\n",
    "    for i, class_label in enumerate(class_labels):\n",
    "        top25 = np.argsort(clf.feature_log_prob_[i])[-25:]\n",
    "        reversed_top = top25[::-1]\n",
    "        \n",
    "        print(\"%s: %s\" % (class_label,\n",
    "              \" / \".join(feature_names[j] for j in reversed_top)),'\\n')\n",
    "        \n",
    "        #Descomentar para ver el índice de los términos en el diccionario\n",
    "        #print(\"%s \" % (\" / \".join(str(j) for j in reversed_top)),'\\n')"
   ]
  },
  {
   "cell_type": "code",
   "execution_count": 74,
   "metadata": {},
   "outputs": [
    {
     "data": {
      "text/html": [
       "<div>\n",
       "<style scoped>\n",
       "    .dataframe tbody tr th:only-of-type {\n",
       "        vertical-align: middle;\n",
       "    }\n",
       "\n",
       "    .dataframe tbody tr th {\n",
       "        vertical-align: top;\n",
       "    }\n",
       "\n",
       "    .dataframe thead th {\n",
       "        text-align: right;\n",
       "    }\n",
       "</style>\n",
       "<table border=\"1\" class=\"dataframe\">\n",
       "  <thead>\n",
       "    <tr style=\"text-align: right;\">\n",
       "      <th></th>\n",
       "      <th>Nombre</th>\n",
       "      <th>Exactitud</th>\n",
       "      <th>Recall</th>\n",
       "      <th>Especificidad</th>\n",
       "    </tr>\n",
       "  </thead>\n",
       "  <tbody>\n",
       "    <tr>\n",
       "      <td>0</td>\n",
       "      <td>NB binario con monograma:</td>\n",
       "      <td>0.78</td>\n",
       "      <td>0.852459</td>\n",
       "      <td>0.737589</td>\n",
       "    </tr>\n",
       "    <tr>\n",
       "      <td>1</td>\n",
       "      <td>NB binario con bigrama:</td>\n",
       "      <td>0.78</td>\n",
       "      <td>0.885246</td>\n",
       "      <td>0.724832</td>\n",
       "    </tr>\n",
       "    <tr>\n",
       "      <td>2</td>\n",
       "      <td>NB TF/IDF con monograma:</td>\n",
       "      <td>0.78</td>\n",
       "      <td>0.852459</td>\n",
       "      <td>0.737589</td>\n",
       "    </tr>\n",
       "    <tr>\n",
       "      <td>3</td>\n",
       "      <td>NB TF/IDF con bigrama:</td>\n",
       "      <td>0.78</td>\n",
       "      <td>0.885246</td>\n",
       "      <td>0.724832</td>\n",
       "    </tr>\n",
       "  </tbody>\n",
       "</table>\n",
       "</div>"
      ],
      "text/plain": [
       "                      Nombre  Exactitud    Recall  Especificidad\n",
       "0  NB binario con monograma:       0.78  0.852459       0.737589\n",
       "1    NB binario con bigrama:       0.78  0.885246       0.724832\n",
       "2   NB TF/IDF con monograma:       0.78  0.852459       0.737589\n",
       "3     NB TF/IDF con bigrama:       0.78  0.885246       0.724832"
      ]
     },
     "execution_count": 74,
     "metadata": {},
     "output_type": "execute_result"
    }
   ],
   "source": [
    "df_NB"
   ]
  },
  {
   "cell_type": "code",
   "execution_count": 75,
   "metadata": {},
   "outputs": [
    {
     "name": "stdout",
     "output_type": "stream",
     "text": [
      "NB binario con monograma:\n",
      "BernoulliNB(alpha=1.0, binarize=0.0, class_prior=None, fit_prior=True)\n"
     ]
    }
   ],
   "source": [
    "print(clasificadoresNB[0][0])\n",
    "print(clasificadoresNB[0][6])"
   ]
  },
  {
   "cell_type": "code",
   "execution_count": 128,
   "metadata": {},
   "outputs": [
    {
     "data": {
      "text/plain": [
       "<bound method BaseEstimator.get_params of BernoulliNB(alpha=1.0, binarize=0.0, class_prior=None, fit_prior=True)>"
      ]
     },
     "execution_count": 128,
     "metadata": {},
     "output_type": "execute_result"
    }
   ],
   "source": [
    "clasificadoresNB[0][6].get_params"
   ]
  },
  {
   "cell_type": "code",
   "execution_count": 77,
   "metadata": {},
   "outputs": [
    {
     "name": "stdout",
     "output_type": "stream",
     "text": [
      "Matriz de confusión\n",
      "[[103  25]\n",
      " [ 50  72]]\n"
     ]
    }
   ],
   "source": [
    "print(\"Matriz de confusión\")\n",
    "print(clasificadoresAD[0][4])"
   ]
  },
  {
   "cell_type": "code",
   "execution_count": 79,
   "metadata": {},
   "outputs": [
    {
     "name": "stdout",
     "output_type": "stream",
     "text": [
      "Top 25 features per class\n",
      "\n",
      "Negativos: food / place / service / like / don / time / good / bad / really / did / minutes / came / won / disappointed / wasn / bland / got / just / better / going / think / coming / didn / salad / say \n",
      "\n",
      "Positivos: great / good / food / place / service / delicious / best / really / nice / friendly / amazing / time / just / love / like / restaurant / vegas / awesome / pretty / staff / menu / prices / fresh / experience / excellent \n",
      "\n"
     ]
    }
   ],
   "source": [
    "print_top25_features_per_class_in_NB(vecBM,clasificadoresNB[0][6],target_names)       \n"
   ]
  },
  {
   "cell_type": "markdown",
   "metadata": {},
   "source": [
    "- ##### ¿Tienen sentido las palabras seleccionadas? ¿hay ruido (palabras sin sentimiento o de sentimiento opuesto al esperado)? ¿por qué crees que suceden estos fenómenos?"
   ]
  },
  {
   "cell_type": "markdown",
   "metadata": {},
   "source": [
    "No tienen sentido muchas de las palabras seleccionadas ya que no aparton nada de significado como \"g\", \"ve\" además de los verbos que tampoco ayudan en la clasificación. Por otro lado el ruido tambien se puede observar en la clasificacion de las palabras, es decir, aparecen palabras con significado positivo donde las palabras Negativas.\n",
    "\n",
    "Esto se debe a que el diccionario se optiemne mediante el aprendizage de los mismos textos. Se induce a partir del corpus"
   ]
  },
  {
   "cell_type": "markdown",
   "metadata": {},
   "source": [
    "### ***Conclusiones generales apartado A***"
   ]
  },
  {
   "cell_type": "markdown",
   "metadata": {},
   "source": [
    "Primero partimos por el analis de los modelos de clasificación, en ambos modelos se puede apreciar como la precisión en la predicción de los datos de test es mucho menor que en la de entrenamiento (entorno a un 0.2/0.3) esto hace que nuestros modelos no sean precisos debido a que han aprendido mas de la cuenta (sobre aprendizaje). En este caso dado que no usamos un diccionario previo que este bien estructurado, es decir, que contegan palabras que nos puedan dar baste información como lo son los adjetivos sino que usamos un diccionario vacio el cual se va generando solo (induciendo), esto hace que se agregen palabras que carecen de significado haciedno que el analisis quede confuso.\n",
    "\n",
    "Por ultimo, lo que si se puede apreciar es que el clasificador Naïve Bayes proporciona mejores resultados respecto a la precion del test, hemos usado el Modelo de Bernoulli débido a que son textos cortos y nos sirve para clasificar contenido especifico como es este caso (opinión positiva o negatoiva). Además lo hemos escogido ya que los otros tres tipos de Naïve Bayes hacen mas incapie en las frecuencias debido a que som comentarios de las personas por lo que hacen uso de jerga local además de carecer de un buen diccionario que descarte palabras. \n"
   ]
  },
  {
   "cell_type": "markdown",
   "metadata": {},
   "source": [
    "-------\n",
    "## Apartado b) \n",
    "--------"
   ]
  },
  {
   "cell_type": "markdown",
   "metadata": {},
   "source": [
    "### 1. Analiza la precisión y la exhaustividad de cada clasificador en cada una de las clases (opiniones positivas y negativas)."
   ]
  },
  {
   "cell_type": "markdown",
   "metadata": {},
   "source": [
    "- #### Para cada clasificador, ¿tiene un comportamiento homogéneo a la hora de clasificar ambas clases? "
   ]
  },
  {
   "cell_type": "markdown",
   "metadata": {},
   "source": [
    "#### Arbol de decisión "
   ]
  },
  {
   "cell_type": "code",
   "execution_count": 82,
   "metadata": {},
   "outputs": [
    {
     "data": {
      "text/html": [
       "<div>\n",
       "<style scoped>\n",
       "    .dataframe tbody tr th:only-of-type {\n",
       "        vertical-align: middle;\n",
       "    }\n",
       "\n",
       "    .dataframe tbody tr th {\n",
       "        vertical-align: top;\n",
       "    }\n",
       "\n",
       "    .dataframe thead th {\n",
       "        text-align: right;\n",
       "    }\n",
       "</style>\n",
       "<table border=\"1\" class=\"dataframe\">\n",
       "  <thead>\n",
       "    <tr style=\"text-align: right;\">\n",
       "      <th></th>\n",
       "      <th>Nombre</th>\n",
       "      <th>Exactitud</th>\n",
       "      <th>Recall</th>\n",
       "      <th>Especificidad</th>\n",
       "    </tr>\n",
       "  </thead>\n",
       "  <tbody>\n",
       "    <tr>\n",
       "      <td>1</td>\n",
       "      <td>AD binario con bigrama:</td>\n",
       "      <td>0.708</td>\n",
       "      <td>0.663934</td>\n",
       "      <td>0.675</td>\n",
       "    </tr>\n",
       "  </tbody>\n",
       "</table>\n",
       "</div>"
      ],
      "text/plain": [
       "                    Nombre  Exactitud    Recall  Especificidad\n",
       "1  AD binario con bigrama:      0.708  0.663934          0.675"
      ]
     },
     "execution_count": 82,
     "metadata": {},
     "output_type": "execute_result"
    }
   ],
   "source": [
    "df_AD[1:2]"
   ]
  },
  {
   "cell_type": "code",
   "execution_count": 83,
   "metadata": {},
   "outputs": [
    {
     "name": "stdout",
     "output_type": "stream",
     "text": [
      "              precision    recall  f1-score   support\n",
      "\n",
      "           0       0.68      0.83      0.74       128\n",
      "           1       0.76      0.58      0.66       122\n",
      "\n",
      "    accuracy                           0.71       250\n",
      "   macro avg       0.72      0.71      0.70       250\n",
      "weighted avg       0.72      0.71      0.70       250\n",
      "\n"
     ]
    }
   ],
   "source": [
    "print(clasificadoresAD[1][5])"
   ]
  },
  {
   "cell_type": "markdown",
   "metadata": {},
   "source": [
    "En este caso no hay homogeniedad a la hora de elegir una de las dos clases, esto lo sabemos gracias a la precisión (precision) también conocida como tasa de verdaderos negativos y a la exhaustividad (recall) también llamada \"tasa de verdaderos positivos\". Como se puede observar la precisión para ambas clases distan en 0.11 asi que no estan proximas al igual que para el recall que distan en 0.25. "
   ]
  },
  {
   "cell_type": "markdown",
   "metadata": {},
   "source": [
    "#### Naïve Bayes "
   ]
  },
  {
   "cell_type": "code",
   "execution_count": 84,
   "metadata": {},
   "outputs": [
    {
     "data": {
      "text/html": [
       "<div>\n",
       "<style scoped>\n",
       "    .dataframe tbody tr th:only-of-type {\n",
       "        vertical-align: middle;\n",
       "    }\n",
       "\n",
       "    .dataframe tbody tr th {\n",
       "        vertical-align: top;\n",
       "    }\n",
       "\n",
       "    .dataframe thead th {\n",
       "        text-align: right;\n",
       "    }\n",
       "</style>\n",
       "<table border=\"1\" class=\"dataframe\">\n",
       "  <thead>\n",
       "    <tr style=\"text-align: right;\">\n",
       "      <th></th>\n",
       "      <th>Nombre</th>\n",
       "      <th>Exactitud</th>\n",
       "      <th>Recall</th>\n",
       "      <th>Especificidad</th>\n",
       "    </tr>\n",
       "  </thead>\n",
       "  <tbody>\n",
       "    <tr>\n",
       "      <td>0</td>\n",
       "      <td>NB binario con monograma:</td>\n",
       "      <td>0.78</td>\n",
       "      <td>0.852459</td>\n",
       "      <td>0.737589</td>\n",
       "    </tr>\n",
       "  </tbody>\n",
       "</table>\n",
       "</div>"
      ],
      "text/plain": [
       "                      Nombre  Exactitud    Recall  Especificidad\n",
       "0  NB binario con monograma:       0.78  0.852459       0.737589"
      ]
     },
     "execution_count": 84,
     "metadata": {},
     "output_type": "execute_result"
    }
   ],
   "source": [
    "df_NB[0:1]"
   ]
  },
  {
   "cell_type": "code",
   "execution_count": 85,
   "metadata": {},
   "outputs": [
    {
     "name": "stdout",
     "output_type": "stream",
     "text": [
      "              precision    recall  f1-score   support\n",
      "\n",
      "           0       0.83      0.71      0.77       128\n",
      "           1       0.74      0.85      0.79       122\n",
      "\n",
      "    accuracy                           0.78       250\n",
      "   macro avg       0.79      0.78      0.78       250\n",
      "weighted avg       0.79      0.78      0.78       250\n",
      "\n"
     ]
    }
   ],
   "source": [
    "print(clasificadoresNB[0][5])"
   ]
  },
  {
   "cell_type": "markdown",
   "metadata": {},
   "source": [
    "Para el clasificador Naïve Bayes hay un poco más de homogeniedad pero igualmente los valores de la precisión y el recoll no son similares para ambas clases."
   ]
  },
  {
   "cell_type": "markdown",
   "metadata": {},
   "source": [
    "- #### ¿Cuáles son las fortalezas y debilidades de cada uno de los clasificadores? "
   ]
  },
  {
   "cell_type": "markdown",
   "metadata": {},
   "source": [
    "__Naïve Bayes__: \n",
    "Por un lado tiene menos coste computacional ya que es mas escalable, es decir, al analaizar textos mas grandes su comportamiento siguie siendo el mismo depende del tipo de N-Grama que usemos bien monogramo que la probabilidad dependa de la palabra anterior o de bigramas que la palabra depende de las dos palabras anteriores.\n",
    "Es más sencillo de entender dado que se basa en la regla de Bayes. \n",
    "Si todos los atributos son independientes puede proporcionar mejores resultados que otros clasificadores. \n",
    "\n",
    "Uno de sus puntos debiles es que asume que todos los atributos son independientes\n",
    "esto no suele ser lo comun en la realidad haciedno que sea menos preciso. \n",
    "\n",
    "__Árboles de Decisión__: \n",
    "Son fáciles de interpretar puesto que se pueden dibujar el grafo, pueden manejar grandes catidades de datos. ¿¿¿¿¿Es capaz de ignorar datos faltantes debido a que puede tomar otras ramas más prometedoras. ????\n",
    "\n",
    "Por el contrario, la complejidad depende de la profundidad del arbol, es decir, O(profundidad), no tiene una heristica como tal sino que depende del nodo mas prometedor pudiendo equivocarse de camino y darse cuenta en ramas inferiores. "
   ]
  },
  {
   "cell_type": "markdown",
   "metadata": {},
   "source": [
    "# ECHAR UN OJO A LO DE ARBOL DE DECISION CREO QUE SE PUEDE AÑADIR MAS "
   ]
  },
  {
   "cell_type": "markdown",
   "metadata": {},
   "source": [
    "- #### ¿Hay algún clasificador que sea mejor que el otro en todo?  "
   ]
  },
  {
   "cell_type": "markdown",
   "metadata": {},
   "source": [
    "El clasificador Naïve Bayes es mejor para tratar problemas relacionados conla clasificación de textos dado que maneje muy bien grandes cantidades de datos, además de que es rápido"
   ]
  },
  {
   "cell_type": "markdown",
   "metadata": {},
   "source": [
    "- #### ¿Coinciden ambos clasificadores a la hora de clasificar mejor una clase que la otra? "
   ]
  },
  {
   "cell_type": "markdown",
   "metadata": {},
   "source": [
    "Si, ambos tienden a elegir palabras de carcter positivo"
   ]
  },
  {
   "cell_type": "markdown",
   "metadata": {},
   "source": [
    "### 2. Pinta los 8 primeros niveles del árbol de decisión y comenta lo que ves. "
   ]
  },
  {
   "cell_type": "code",
   "execution_count": 183,
   "metadata": {},
   "outputs": [],
   "source": [
    "algoritmo8 = DecisionTreeClassifier(criterion=\"gini\", \n",
    "                                   splitter=\"best\",\n",
    "                                   min_samples_split=10,\n",
    "                                   max_leaf_nodes=8)\n",
    "\n",
    "algoritmo8.fit(train_vec_data_bb, y_train)\n",
    "\n",
    "y_pred_train = algoritmo8.predict(train_vec_data_bb)\n",
    "y_pred_test = algoritmo8.predict(test_vec_data_bb)\n",
    "\n",
    "accuracy_train = metrics.accuracy_score(y_train, y_pred_train)\n",
    "accuracy_test = metrics.accuracy_score(y_test, y_pred_test)"
   ]
  },
  {
   "cell_type": "code",
   "execution_count": 97,
   "metadata": {},
   "outputs": [],
   "source": []
  },
  {
   "cell_type": "code",
   "execution_count": 98,
   "metadata": {},
   "outputs": [
    {
     "data": {
      "image/png": "[encoded data removed]",
      "text/plain": [
       "<Figure size 1080x1080 with 1 Axes>"
      ]
     },
     "metadata": {
      "needs_background": "light"
     },
     "output_type": "display_data"
    }
   ],
   "source": [
    "# Pintando árboles con sckit-learn\n",
    "\n",
    "from sklearn.tree import plot_tree\n",
    "import matplotlib.pyplot as plt\n",
    "\n",
    "# Vamos a mostrar el árbol de decisión generado usando plot_tree\n",
    "plt.figure(figsize=(15,15))\n",
    "plot_tree(algoritmo8, filled=True,class_names=target_names2,feature_names = vecBB.get_feature_names(), rounded=True)\n",
    "plt.show()"
   ]
  },
  {
   "cell_type": "markdown",
   "metadata": {},
   "source": [
    "- #### ¿Qué estructura tiene el árbol? "
   ]
  },
  {
   "cell_type": "markdown",
   "metadata": {},
   "source": [
    "Tiene una estructura en la cual se explora por la izquierda en preorden, se expanden todas las ramas de la izquierda debido a que son las palabras más discriminantes y por lo tanto los nodos más prometedores."
   ]
  },
  {
   "cell_type": "markdown",
   "metadata": {},
   "source": [
    "- #### ¿Cómo interpretas los niveles que has pintado? ¿tienen algún sentido con respecto a la tasa de aciertos, o la precisión y exhaustividad del clasificador? "
   ]
  },
  {
   "cell_type": "markdown",
   "metadata": {},
   "source": [
    "Cada, nodo utiliza una palabra para hacer grupos. Por un lado aparecen las frases donde aparece esa palabra y por otro las que no. Esto hace que casa hoja sean grupos clasificados haciendo que todos los elementos sean de una clase u otra. \n",
    "Si, tiene algo de sentido que tienda a elegir palabras positivas ya que el recall de la clase \"1\" es bajo haciedno que los textos tiendan a confundirse con otros. \n",
    "\n",
    "Por otro lado, la mala clasificación se debe dado que el modelo de entrenamiento aprende mal, es decir, aprende mas de la cuenta y confunde las palabras puesto que no hay un buen diccionario que descrimine de forma correcta las palabras. \n",
    "\n",
    "También como podemos ver que hay mas palabras positivas que negativas esto puede ser debido a que la precisión no es del todo alta. Un precisión baja significa que el casificador no ha sido capaz de encontrar rasgos disntintivos que los diferencie de otros.\n",
    "\n",
    "Por último, pusto que los valores de la precisión y de la exhaustividad distan entre si bastane, es decir, no son valores similares. Podemos decir que la confusion no es simetrica. "
   ]
  },
  {
   "cell_type": "markdown",
   "metadata": {},
   "source": [
    "- #### ¿Hay nodos impuros? "
   ]
  },
  {
   "cell_type": "markdown",
   "metadata": {},
   "source": [
    "Si, puesto que la infomracion para ayudar al clasificador por parte del diccionario es escasa pues hay palabras discriminatorias que no ayudan en nada a clasificar aumentando asi la entropia, cuanto mas elevada sea esta mas impuro será un nodo. "
   ]
  },
  {
   "cell_type": "markdown",
   "metadata": {},
   "source": [
    "### 3.Por cada clasificador identifica 2 críticas que hayan sido falsas positivas (malas críticas calificadas como buenas) y 2 críticas que han sido falsas negativas (buenas críticas clasificadas como malas). Analiza tanto su texto original, como el vector de palabras resultante (solamente los términos activos)."
   ]
  },
  {
   "cell_type": "code",
   "execution_count": 341,
   "metadata": {},
   "outputs": [],
   "source": [
    "import numpy as np\n",
    "import numpy.ma as ma\n",
    "\n",
    "def write_terms (feature_names, data, vector_data, index):\n",
    "    '''\n",
    "    Escribe los términos presentes en un mensaje representado como bolsa de palabras.\n",
    "    \n",
    "    - feature_names: terminos usados para vectorizar\n",
    "    - data: lista de mensajes original (si data==None no se muestra el mensaje original)\n",
    "    - vector_data: matriz (dispersa) de mensaje vectorizados\n",
    "    - index: posición del mensaje a mostrar\n",
    "    '''\n",
    "    # máscara para seleccionar sólo el mensaje en posición index\n",
    "    mask=vector_data[index,:]>0\n",
    "    \n",
    "    # términos que aparecen en ese mensaje vectorizado\n",
    "    terminos = ma.array(feature_names, mask = ~(mask[0].toarray()))\n",
    "    \n",
    "    # mostrar mensaje original\n",
    "    if data:\n",
    "        print('Mensaje', index, ':', data[index])\n",
    "    \n",
    "    # mostrar términos que aparecen en el mensaje vectorizado\n",
    "    print('Mensaje', index, 'vectorizado:', terminos.compressed(),'\\n')"
   ]
  },
  {
   "cell_type": "markdown",
   "metadata": {},
   "source": [
    "__Falsas positivas__\n",
    "\n",
    "1. Creamos un data frame con los datos de test, la frase (x_test), el resultado para esa frase (y_test) y la predicción hecha para estos datos. \n",
    "\n",
    "2. Seleccionamos todso los comentarios cuya valoracion haya sido negativa\n",
    "3. Volvemos a hacer una seleccion de los resultados predichos donde haya sido un 1 (positiva) "
   ]
  },
  {
   "cell_type": "code",
   "execution_count": 336,
   "metadata": {},
   "outputs": [],
   "source": [
    "#BAYES\n",
    "df_predicNB = pd.DataFrame({'Frase': x_test, 'ResultTest': y_test, 'PredictTest': clasificadoresNB[0][7]})\n",
    "df1 = df_predicNB[df_predicNB['ResultTest'] == 0]\n",
    "FP_NB = df1[df1['PredictTest'] == 1]\n"
   ]
  },
  {
   "cell_type": "code",
   "execution_count": 338,
   "metadata": {},
   "outputs": [],
   "source": [
    "#ARBOLES DE DECISION\n",
    "df_predicAD = pd.DataFrame({'Frase': x_test, 'ResultTest': y_test, 'PredictTest': clasificadoresAD[1][7]})\n",
    "df3 = df_predicAD[df_predicAD['ResultTest'] == 0]\n",
    "FP_AD = df3[df3['PredictTest'] == 1]"
   ]
  },
  {
   "cell_type": "markdown",
   "metadata": {},
   "source": [
    "__Falsas negativas__\n",
    "\n",
    "1. Creamos un data frame con los datos de test, la frase (x_test), el resultado para esa frase (y_test) y la predicción hecha para estos datos. \n",
    "\n",
    "2. Seleccionamos todso los comentarios cuya valoracion haya sido 1 (positiva) \n",
    "3. Volvemos a hacer una seleccion de los resultados predichos donde haya sido un 0 (negativa) "
   ]
  },
  {
   "cell_type": "code",
   "execution_count": 337,
   "metadata": {},
   "outputs": [],
   "source": [
    "#BAYES\n",
    "df2 = df_predicNB[df_predicNB['ResultTest'] == 1]\n",
    "FN_NB = df2[df2['PredictTest'] == 0]"
   ]
  },
  {
   "cell_type": "code",
   "execution_count": 363,
   "metadata": {},
   "outputs": [],
   "source": [
    "#ARBOLES DE DECISION \n",
    "df4 = df_predicAD[df_predicAD['ResultTest'] == 1]\n",
    "FN_AD = df4[df4['PredictTest'] == 0]"
   ]
  },
  {
   "cell_type": "markdown",
   "metadata": {},
   "source": [
    "----"
   ]
  },
  {
   "cell_type": "markdown",
   "metadata": {},
   "source": [
    "#### ***Clasificador NaiveBayes***"
   ]
  },
  {
   "cell_type": "markdown",
   "metadata": {},
   "source": [
    "##### ***Falsos Positivos***"
   ]
  },
  {
   "cell_type": "code",
   "execution_count": 353,
   "metadata": {},
   "outputs": [
    {
     "data": {
      "text/html": [
       "<div>\n",
       "<style scoped>\n",
       "    .dataframe tbody tr th:only-of-type {\n",
       "        vertical-align: middle;\n",
       "    }\n",
       "\n",
       "    .dataframe tbody tr th {\n",
       "        vertical-align: top;\n",
       "    }\n",
       "\n",
       "    .dataframe thead th {\n",
       "        text-align: right;\n",
       "    }\n",
       "</style>\n",
       "<table border=\"1\" class=\"dataframe\">\n",
       "  <thead>\n",
       "    <tr style=\"text-align: right;\">\n",
       "      <th></th>\n",
       "      <th>Frase</th>\n",
       "      <th>ResultTest</th>\n",
       "      <th>PredictTest</th>\n",
       "    </tr>\n",
       "  </thead>\n",
       "  <tbody>\n",
       "    <tr>\n",
       "      <td>12</td>\n",
       "      <td>Tried to go here for lunch and it was a madhouse.</td>\n",
       "      <td>0</td>\n",
       "      <td>1</td>\n",
       "    </tr>\n",
       "    <tr>\n",
       "      <td>18</td>\n",
       "      <td>The place was not clean and the food oh so stale!</td>\n",
       "      <td>0</td>\n",
       "      <td>1</td>\n",
       "    </tr>\n",
       "    <tr>\n",
       "      <td>22</td>\n",
       "      <td>They dropped more than the ball.</td>\n",
       "      <td>0</td>\n",
       "      <td>1</td>\n",
       "    </tr>\n",
       "    <tr>\n",
       "      <td>28</td>\n",
       "      <td>The Buffet at Bellagio was far from what I ant...</td>\n",
       "      <td>0</td>\n",
       "      <td>1</td>\n",
       "    </tr>\n",
       "    <tr>\n",
       "      <td>40</td>\n",
       "      <td>I go to far too many places and I've never see...</td>\n",
       "      <td>0</td>\n",
       "      <td>1</td>\n",
       "    </tr>\n",
       "    <tr>\n",
       "      <td>51</td>\n",
       "      <td>Now the burgers aren't as good, the pizza whic...</td>\n",
       "      <td>0</td>\n",
       "      <td>1</td>\n",
       "    </tr>\n",
       "    <tr>\n",
       "      <td>52</td>\n",
       "      <td>I have been in more than a few bars in Vegas, ...</td>\n",
       "      <td>0</td>\n",
       "      <td>1</td>\n",
       "    </tr>\n",
       "    <tr>\n",
       "      <td>78</td>\n",
       "      <td>The kids play area is NASTY!</td>\n",
       "      <td>0</td>\n",
       "      <td>1</td>\n",
       "    </tr>\n",
       "    <tr>\n",
       "      <td>80</td>\n",
       "      <td>Service was slow and not attentive.</td>\n",
       "      <td>0</td>\n",
       "      <td>1</td>\n",
       "    </tr>\n",
       "    <tr>\n",
       "      <td>85</td>\n",
       "      <td>The desserts were a bit strange.</td>\n",
       "      <td>0</td>\n",
       "      <td>1</td>\n",
       "    </tr>\n",
       "    <tr>\n",
       "      <td>92</td>\n",
       "      <td>A greasy, unhealthy meal.</td>\n",
       "      <td>0</td>\n",
       "      <td>1</td>\n",
       "    </tr>\n",
       "    <tr>\n",
       "      <td>93</td>\n",
       "      <td>Which are small and not worth the price.</td>\n",
       "      <td>0</td>\n",
       "      <td>1</td>\n",
       "    </tr>\n",
       "    <tr>\n",
       "      <td>105</td>\n",
       "      <td>This place has a lot of promise but fails to d...</td>\n",
       "      <td>0</td>\n",
       "      <td>1</td>\n",
       "    </tr>\n",
       "    <tr>\n",
       "      <td>106</td>\n",
       "      <td>However, my recent experience at this particul...</td>\n",
       "      <td>0</td>\n",
       "      <td>1</td>\n",
       "    </tr>\n",
       "    <tr>\n",
       "      <td>107</td>\n",
       "      <td>The only reason to eat here would be to fill u...</td>\n",
       "      <td>0</td>\n",
       "      <td>1</td>\n",
       "    </tr>\n",
       "  </tbody>\n",
       "</table>\n",
       "</div>"
      ],
      "text/plain": [
       "                                                 Frase  ResultTest  \\\n",
       "12   Tried to go here for lunch and it was a madhouse.           0   \n",
       "18   The place was not clean and the food oh so stale!           0   \n",
       "22                    They dropped more than the ball.           0   \n",
       "28   The Buffet at Bellagio was far from what I ant...           0   \n",
       "40   I go to far too many places and I've never see...           0   \n",
       "51   Now the burgers aren't as good, the pizza whic...           0   \n",
       "52   I have been in more than a few bars in Vegas, ...           0   \n",
       "78                        The kids play area is NASTY!           0   \n",
       "80                 Service was slow and not attentive.           0   \n",
       "85                    The desserts were a bit strange.           0   \n",
       "92                           A greasy, unhealthy meal.           0   \n",
       "93            Which are small and not worth the price.           0   \n",
       "105  This place has a lot of promise but fails to d...           0   \n",
       "106  However, my recent experience at this particul...           0   \n",
       "107  The only reason to eat here would be to fill u...           0   \n",
       "\n",
       "     PredictTest  \n",
       "12             1  \n",
       "18             1  \n",
       "22             1  \n",
       "28             1  \n",
       "40             1  \n",
       "51             1  \n",
       "52             1  \n",
       "78             1  \n",
       "80             1  \n",
       "85             1  \n",
       "92             1  \n",
       "93             1  \n",
       "105            1  \n",
       "106            1  \n",
       "107            1  "
      ]
     },
     "execution_count": 353,
     "metadata": {},
     "output_type": "execute_result"
    }
   ],
   "source": [
    "FP_NB.head(15)\n",
    "# Este data frame ayuda a filtar bien las criticas y poder analizar mejor."
   ]
  },
  {
   "cell_type": "code",
   "execution_count": 343,
   "metadata": {},
   "outputs": [
    {
     "name": "stdout",
     "output_type": "stream",
     "text": [
      "Mensaje 12 : Tried to go here for lunch and it was a madhouse.\n",
      "Mensaje 12 vectorizado: ['lunch' 'tried'] \n",
      "\n"
     ]
    }
   ],
   "source": [
    "write_terms(vecBM.get_feature_names(), x_test, test_vec_data, 12)\n"
   ]
  },
  {
   "cell_type": "markdown",
   "metadata": {},
   "source": [
    "Aqui podemos ver como, dos de las palabras del vecrtor no aportan nada de significado a ala frase, \n",
    "me refiero positivo o negativo. Una palabra es un sustantivo mientras que la otra es un verbo. por lo que es dificil acertar en la clasificación"
   ]
  },
  {
   "cell_type": "code",
   "execution_count": 354,
   "metadata": {},
   "outputs": [
    {
     "name": "stdout",
     "output_type": "stream",
     "text": [
      "Mensaje 92 : A greasy, unhealthy meal.\n",
      "Mensaje 92 vectorizado: ['meal'] \n",
      "\n"
     ]
    }
   ],
   "source": [
    "write_terms(vecBM.get_feature_names(), x_test, test_vec_data, 92)\n"
   ]
  },
  {
   "cell_type": "markdown",
   "metadata": {},
   "source": [
    "He seleccionado esta porque es muy corta y aun asi, la palabra que hay en el vector no sirve para nada en la clasificación. "
   ]
  },
  {
   "cell_type": "markdown",
   "metadata": {},
   "source": [
    "##### __Falsos Negativos__ "
   ]
  },
  {
   "cell_type": "code",
   "execution_count": 355,
   "metadata": {},
   "outputs": [
    {
     "data": {
      "text/html": [
       "<div>\n",
       "<style scoped>\n",
       "    .dataframe tbody tr th:only-of-type {\n",
       "        vertical-align: middle;\n",
       "    }\n",
       "\n",
       "    .dataframe tbody tr th {\n",
       "        vertical-align: top;\n",
       "    }\n",
       "\n",
       "    .dataframe thead th {\n",
       "        text-align: right;\n",
       "    }\n",
       "</style>\n",
       "<table border=\"1\" class=\"dataframe\">\n",
       "  <thead>\n",
       "    <tr style=\"text-align: right;\">\n",
       "      <th></th>\n",
       "      <th>Frase</th>\n",
       "      <th>ResultTest</th>\n",
       "      <th>PredictTest</th>\n",
       "    </tr>\n",
       "  </thead>\n",
       "  <tbody>\n",
       "    <tr>\n",
       "      <td>0</td>\n",
       "      <td>If you haven't gone here GO NOW!</td>\n",
       "      <td>1</td>\n",
       "      <td>0</td>\n",
       "    </tr>\n",
       "    <tr>\n",
       "      <td>9</td>\n",
       "      <td>I had a seriously solid breakfast here.</td>\n",
       "      <td>1</td>\n",
       "      <td>0</td>\n",
       "    </tr>\n",
       "    <tr>\n",
       "      <td>16</td>\n",
       "      <td>I went to Bachi Burger on a friend's recommend...</td>\n",
       "      <td>1</td>\n",
       "      <td>0</td>\n",
       "    </tr>\n",
       "    <tr>\n",
       "      <td>19</td>\n",
       "      <td>All the bread is made in-house!</td>\n",
       "      <td>1</td>\n",
       "      <td>0</td>\n",
       "    </tr>\n",
       "    <tr>\n",
       "      <td>23</td>\n",
       "      <td>Be sure to order dessert, even if you need to ...</td>\n",
       "      <td>1</td>\n",
       "      <td>0</td>\n",
       "    </tr>\n",
       "    <tr>\n",
       "      <td>30</td>\n",
       "      <td>This place is like Chipotle, but BETTER.</td>\n",
       "      <td>1</td>\n",
       "      <td>0</td>\n",
       "    </tr>\n",
       "    <tr>\n",
       "      <td>33</td>\n",
       "      <td>Waitress was sweet and funny.</td>\n",
       "      <td>1</td>\n",
       "      <td>0</td>\n",
       "    </tr>\n",
       "    <tr>\n",
       "      <td>41</td>\n",
       "      <td>Will be back again!</td>\n",
       "      <td>1</td>\n",
       "      <td>0</td>\n",
       "    </tr>\n",
       "    <tr>\n",
       "      <td>45</td>\n",
       "      <td>The goat taco didn't skimp on the meat and wow...</td>\n",
       "      <td>1</td>\n",
       "      <td>0</td>\n",
       "    </tr>\n",
       "    <tr>\n",
       "      <td>48</td>\n",
       "      <td>If you're not familiar, check it out.</td>\n",
       "      <td>1</td>\n",
       "      <td>0</td>\n",
       "    </tr>\n",
       "  </tbody>\n",
       "</table>\n",
       "</div>"
      ],
      "text/plain": [
       "                                                Frase  ResultTest  PredictTest\n",
       "0                    If you haven't gone here GO NOW!           1            0\n",
       "9             I had a seriously solid breakfast here.           1            0\n",
       "16  I went to Bachi Burger on a friend's recommend...           1            0\n",
       "19                    All the bread is made in-house!           1            0\n",
       "23  Be sure to order dessert, even if you need to ...           1            0\n",
       "30           This place is like Chipotle, but BETTER.           1            0\n",
       "33                      Waitress was sweet and funny.           1            0\n",
       "41                                Will be back again!           1            0\n",
       "45  The goat taco didn't skimp on the meat and wow...           1            0\n",
       "48              If you're not familiar, check it out.           1            0"
      ]
     },
     "execution_count": 355,
     "metadata": {},
     "output_type": "execute_result"
    }
   ],
   "source": [
    "FN_NB.head(10)"
   ]
  },
  {
   "cell_type": "code",
   "execution_count": 356,
   "metadata": {},
   "outputs": [
    {
     "name": "stdout",
     "output_type": "stream",
     "text": [
      "Mensaje 0 : If you haven't gone here GO NOW!\n",
      "Mensaje 0 vectorizado: ['gone'] \n",
      "\n"
     ]
    }
   ],
   "source": [
    "write_terms(vecBM.get_feature_names(), x_test, test_vec_data, 0)"
   ]
  },
  {
   "cell_type": "code",
   "execution_count": 357,
   "metadata": {},
   "outputs": [
    {
     "name": "stdout",
     "output_type": "stream",
     "text": [
      "Mensaje 23 : Be sure to order dessert, even if you need to pack it to-go - the tiramisu and cannoli are both to die for.\n",
      "Mensaje 23 vectorizado: ['dessert' 'need' 'order' 'sure'] \n",
      "\n"
     ]
    }
   ],
   "source": [
    "write_terms(vecBM.get_feature_names(), x_test, test_vec_data, 23)"
   ]
  },
  {
   "cell_type": "markdown",
   "metadata": {},
   "source": [
    "Del mismo modo que con los falsos positivos, el vector tiene pabras \"muy discriminantes\" pero que no ayudan a la hora de la clasificacion ya que carecen de significado de sentimientos positivos o negativos"
   ]
  },
  {
   "cell_type": "markdown",
   "metadata": {},
   "source": [
    "-----"
   ]
  },
  {
   "cell_type": "markdown",
   "metadata": {},
   "source": [
    "#### ***Árbol de decisión*** "
   ]
  },
  {
   "cell_type": "markdown",
   "metadata": {},
   "source": [
    "##### ***Falsos Positivos***"
   ]
  },
  {
   "cell_type": "code",
   "execution_count": 358,
   "metadata": {},
   "outputs": [
    {
     "data": {
      "text/html": [
       "<div>\n",
       "<style scoped>\n",
       "    .dataframe tbody tr th:only-of-type {\n",
       "        vertical-align: middle;\n",
       "    }\n",
       "\n",
       "    .dataframe tbody tr th {\n",
       "        vertical-align: top;\n",
       "    }\n",
       "\n",
       "    .dataframe thead th {\n",
       "        text-align: right;\n",
       "    }\n",
       "</style>\n",
       "<table border=\"1\" class=\"dataframe\">\n",
       "  <thead>\n",
       "    <tr style=\"text-align: right;\">\n",
       "      <th></th>\n",
       "      <th>Frase</th>\n",
       "      <th>ResultTest</th>\n",
       "      <th>PredictTest</th>\n",
       "    </tr>\n",
       "  </thead>\n",
       "  <tbody>\n",
       "    <tr>\n",
       "      <td>12</td>\n",
       "      <td>Tried to go here for lunch and it was a madhouse.</td>\n",
       "      <td>0</td>\n",
       "      <td>1</td>\n",
       "    </tr>\n",
       "    <tr>\n",
       "      <td>13</td>\n",
       "      <td>The food wasn't good.</td>\n",
       "      <td>0</td>\n",
       "      <td>1</td>\n",
       "    </tr>\n",
       "    <tr>\n",
       "      <td>25</td>\n",
       "      <td>If it were possible to give them zero stars, t...</td>\n",
       "      <td>0</td>\n",
       "      <td>1</td>\n",
       "    </tr>\n",
       "    <tr>\n",
       "      <td>27</td>\n",
       "      <td>Shrimp- When I unwrapped it (I live only 1/2 a...</td>\n",
       "      <td>0</td>\n",
       "      <td>1</td>\n",
       "    </tr>\n",
       "    <tr>\n",
       "      <td>40</td>\n",
       "      <td>I go to far too many places and I've never see...</td>\n",
       "      <td>0</td>\n",
       "      <td>1</td>\n",
       "    </tr>\n",
       "    <tr>\n",
       "      <td>47</td>\n",
       "      <td>We got sitting fairly fast, but, ended up wait...</td>\n",
       "      <td>0</td>\n",
       "      <td>1</td>\n",
       "    </tr>\n",
       "    <tr>\n",
       "      <td>51</td>\n",
       "      <td>Now the burgers aren't as good, the pizza whic...</td>\n",
       "      <td>0</td>\n",
       "      <td>1</td>\n",
       "    </tr>\n",
       "    <tr>\n",
       "      <td>52</td>\n",
       "      <td>I have been in more than a few bars in Vegas, ...</td>\n",
       "      <td>0</td>\n",
       "      <td>1</td>\n",
       "    </tr>\n",
       "    <tr>\n",
       "      <td>75</td>\n",
       "      <td>I hate to disagree with my fellow Yelpers, but...</td>\n",
       "      <td>0</td>\n",
       "      <td>1</td>\n",
       "    </tr>\n",
       "    <tr>\n",
       "      <td>80</td>\n",
       "      <td>Service was slow and not attentive.</td>\n",
       "      <td>0</td>\n",
       "      <td>1</td>\n",
       "    </tr>\n",
       "    <tr>\n",
       "      <td>85</td>\n",
       "      <td>The desserts were a bit strange.</td>\n",
       "      <td>0</td>\n",
       "      <td>1</td>\n",
       "    </tr>\n",
       "    <tr>\n",
       "      <td>106</td>\n",
       "      <td>However, my recent experience at this particul...</td>\n",
       "      <td>0</td>\n",
       "      <td>1</td>\n",
       "    </tr>\n",
       "    <tr>\n",
       "      <td>130</td>\n",
       "      <td>Not good for the money.</td>\n",
       "      <td>0</td>\n",
       "      <td>1</td>\n",
       "    </tr>\n",
       "    <tr>\n",
       "      <td>131</td>\n",
       "      <td>Bad day or not, I have a very low tolerance fo...</td>\n",
       "      <td>0</td>\n",
       "      <td>1</td>\n",
       "    </tr>\n",
       "    <tr>\n",
       "      <td>144</td>\n",
       "      <td>Worst Thai ever.</td>\n",
       "      <td>0</td>\n",
       "      <td>1</td>\n",
       "    </tr>\n",
       "  </tbody>\n",
       "</table>\n",
       "</div>"
      ],
      "text/plain": [
       "                                                 Frase  ResultTest  \\\n",
       "12   Tried to go here for lunch and it was a madhouse.           0   \n",
       "13                               The food wasn't good.           0   \n",
       "25   If it were possible to give them zero stars, t...           0   \n",
       "27   Shrimp- When I unwrapped it (I live only 1/2 a...           0   \n",
       "40   I go to far too many places and I've never see...           0   \n",
       "47   We got sitting fairly fast, but, ended up wait...           0   \n",
       "51   Now the burgers aren't as good, the pizza whic...           0   \n",
       "52   I have been in more than a few bars in Vegas, ...           0   \n",
       "75   I hate to disagree with my fellow Yelpers, but...           0   \n",
       "80                 Service was slow and not attentive.           0   \n",
       "85                    The desserts were a bit strange.           0   \n",
       "106  However, my recent experience at this particul...           0   \n",
       "130                            Not good for the money.           0   \n",
       "131  Bad day or not, I have a very low tolerance fo...           0   \n",
       "144                                   Worst Thai ever.           0   \n",
       "\n",
       "     PredictTest  \n",
       "12             1  \n",
       "13             1  \n",
       "25             1  \n",
       "27             1  \n",
       "40             1  \n",
       "47             1  \n",
       "51             1  \n",
       "52             1  \n",
       "75             1  \n",
       "80             1  \n",
       "85             1  \n",
       "106            1  \n",
       "130            1  \n",
       "131            1  \n",
       "144            1  "
      ]
     },
     "execution_count": 358,
     "metadata": {},
     "output_type": "execute_result"
    }
   ],
   "source": [
    "FP_AD.head(15)"
   ]
  },
  {
   "cell_type": "code",
   "execution_count": 360,
   "metadata": {},
   "outputs": [
    {
     "name": "stdout",
     "output_type": "stream",
     "text": [
      "Mensaje 12 : Tried to go here for lunch and it was a madhouse.\n",
      "Mensaje 12 vectorizado: ['lunch' 'tried'] \n",
      "\n"
     ]
    }
   ],
   "source": [
    "write_terms(vecBB.get_feature_names(), x_test, test_vec_data_bb, 12)\n"
   ]
  },
  {
   "cell_type": "markdown",
   "metadata": {},
   "source": [
    "He cogido la misma critica que con Naïve Bayes para ver si habria algun cambio, pero del mismo modo \n",
    "tiene \"lunch\" y \"tried\" en el vector. Sin sayudar mucho a la clasificación."
   ]
  },
  {
   "cell_type": "code",
   "execution_count": 361,
   "metadata": {},
   "outputs": [
    {
     "name": "stdout",
     "output_type": "stream",
     "text": [
      "Mensaje 75 : I hate to disagree with my fellow Yelpers, but my husband and I were so disappointed with this place.\n",
      "Mensaje 75 vectorizado: ['disappointed' 'hate' 'husband' 'place'] \n",
      "\n"
     ]
    }
   ],
   "source": [
    "write_terms(vecBB.get_feature_names(), x_test, test_vec_data_bb, 75)\n"
   ]
  },
  {
   "cell_type": "markdown",
   "metadata": {},
   "source": [
    "##### __Falsos Negativos__ "
   ]
  },
  {
   "cell_type": "code",
   "execution_count": 364,
   "metadata": {},
   "outputs": [
    {
     "data": {
      "text/html": [
       "<div>\n",
       "<style scoped>\n",
       "    .dataframe tbody tr th:only-of-type {\n",
       "        vertical-align: middle;\n",
       "    }\n",
       "\n",
       "    .dataframe tbody tr th {\n",
       "        vertical-align: top;\n",
       "    }\n",
       "\n",
       "    .dataframe thead th {\n",
       "        text-align: right;\n",
       "    }\n",
       "</style>\n",
       "<table border=\"1\" class=\"dataframe\">\n",
       "  <thead>\n",
       "    <tr style=\"text-align: right;\">\n",
       "      <th></th>\n",
       "      <th>Frase</th>\n",
       "      <th>ResultTest</th>\n",
       "      <th>PredictTest</th>\n",
       "    </tr>\n",
       "  </thead>\n",
       "  <tbody>\n",
       "    <tr>\n",
       "      <td>0</td>\n",
       "      <td>If you haven't gone here GO NOW!</td>\n",
       "      <td>1</td>\n",
       "      <td>0</td>\n",
       "    </tr>\n",
       "    <tr>\n",
       "      <td>9</td>\n",
       "      <td>I had a seriously solid breakfast here.</td>\n",
       "      <td>1</td>\n",
       "      <td>0</td>\n",
       "    </tr>\n",
       "    <tr>\n",
       "      <td>16</td>\n",
       "      <td>I went to Bachi Burger on a friend's recommend...</td>\n",
       "      <td>1</td>\n",
       "      <td>0</td>\n",
       "    </tr>\n",
       "    <tr>\n",
       "      <td>19</td>\n",
       "      <td>All the bread is made in-house!</td>\n",
       "      <td>1</td>\n",
       "      <td>0</td>\n",
       "    </tr>\n",
       "    <tr>\n",
       "      <td>23</td>\n",
       "      <td>Be sure to order dessert, even if you need to ...</td>\n",
       "      <td>1</td>\n",
       "      <td>0</td>\n",
       "    </tr>\n",
       "    <tr>\n",
       "      <td>30</td>\n",
       "      <td>This place is like Chipotle, but BETTER.</td>\n",
       "      <td>1</td>\n",
       "      <td>0</td>\n",
       "    </tr>\n",
       "    <tr>\n",
       "      <td>33</td>\n",
       "      <td>Waitress was sweet and funny.</td>\n",
       "      <td>1</td>\n",
       "      <td>0</td>\n",
       "    </tr>\n",
       "    <tr>\n",
       "      <td>41</td>\n",
       "      <td>Will be back again!</td>\n",
       "      <td>1</td>\n",
       "      <td>0</td>\n",
       "    </tr>\n",
       "    <tr>\n",
       "      <td>45</td>\n",
       "      <td>The goat taco didn't skimp on the meat and wow...</td>\n",
       "      <td>1</td>\n",
       "      <td>0</td>\n",
       "    </tr>\n",
       "    <tr>\n",
       "      <td>48</td>\n",
       "      <td>If you're not familiar, check it out.</td>\n",
       "      <td>1</td>\n",
       "      <td>0</td>\n",
       "    </tr>\n",
       "    <tr>\n",
       "      <td>54</td>\n",
       "      <td>I could care less... The interior is just beau...</td>\n",
       "      <td>1</td>\n",
       "      <td>0</td>\n",
       "    </tr>\n",
       "    <tr>\n",
       "      <td>55</td>\n",
       "      <td>Also there are combos like a burger, fries, an...</td>\n",
       "      <td>1</td>\n",
       "      <td>0</td>\n",
       "    </tr>\n",
       "    <tr>\n",
       "      <td>57</td>\n",
       "      <td>Service was very prompt.</td>\n",
       "      <td>1</td>\n",
       "      <td>0</td>\n",
       "    </tr>\n",
       "    <tr>\n",
       "      <td>61</td>\n",
       "      <td>The portion was huge!</td>\n",
       "      <td>1</td>\n",
       "      <td>0</td>\n",
       "    </tr>\n",
       "    <tr>\n",
       "      <td>63</td>\n",
       "      <td>The sides are delish - mixed mushrooms, yukon ...</td>\n",
       "      <td>1</td>\n",
       "      <td>0</td>\n",
       "    </tr>\n",
       "  </tbody>\n",
       "</table>\n",
       "</div>"
      ],
      "text/plain": [
       "                                                Frase  ResultTest  PredictTest\n",
       "0                    If you haven't gone here GO NOW!           1            0\n",
       "9             I had a seriously solid breakfast here.           1            0\n",
       "16  I went to Bachi Burger on a friend's recommend...           1            0\n",
       "19                    All the bread is made in-house!           1            0\n",
       "23  Be sure to order dessert, even if you need to ...           1            0\n",
       "30           This place is like Chipotle, but BETTER.           1            0\n",
       "33                      Waitress was sweet and funny.           1            0\n",
       "41                                Will be back again!           1            0\n",
       "45  The goat taco didn't skimp on the meat and wow...           1            0\n",
       "48              If you're not familiar, check it out.           1            0\n",
       "54  I could care less... The interior is just beau...           1            0\n",
       "55  Also there are combos like a burger, fries, an...           1            0\n",
       "57                           Service was very prompt.           1            0\n",
       "61                              The portion was huge!           1            0\n",
       "63  The sides are delish - mixed mushrooms, yukon ...           1            0"
      ]
     },
     "execution_count": 364,
     "metadata": {},
     "output_type": "execute_result"
    }
   ],
   "source": [
    "FN_AD.head(15)"
   ]
  },
  {
   "cell_type": "code",
   "execution_count": 365,
   "metadata": {},
   "outputs": [
    {
     "name": "stdout",
     "output_type": "stream",
     "text": [
      "Mensaje 33 : Waitress was sweet and funny.\n",
      "Mensaje 33 vectorizado: ['sweet' 'waitress'] \n",
      "\n"
     ]
    }
   ],
   "source": [
    "write_terms(vecBB.get_feature_names(), x_test, test_vec_data_bb, 33)\n"
   ]
  },
  {
   "cell_type": "code",
   "execution_count": 366,
   "metadata": {},
   "outputs": [
    {
     "name": "stdout",
     "output_type": "stream",
     "text": [
      "Mensaje 48 : If you're not familiar, check it out.\n",
      "Mensaje 48 vectorizado: ['check'] \n",
      "\n"
     ]
    }
   ],
   "source": [
    "write_terms(vecBB.get_feature_names(), x_test, test_vec_data_bb, 48)\n"
   ]
  },
  {
   "cell_type": "markdown",
   "metadata": {},
   "source": [
    "- #### ¿Por qué crees que ha fallado el clasificador en cada uno de los casos? "
   ]
  },
  {
   "cell_type": "markdown",
   "metadata": {},
   "source": [
    "Porque el diccionario que se usa tiene mucho ruido, hay palabras que no apartan nada pero que estan ahi debido a que es inducido, va creandose el mismo. \n",
    "Esto es consecuencia de que el clasificador sobreaprenda. \n",
    "El error en la clase de entrenamiento es demasiado bajo, haciedno que nuestro modelo aprenda los datos perfectamente en este caso no es util ya que ha aprendido mas de cuenta hacindo que aprenda ruido"
   ]
  },
  {
   "cell_type": "markdown",
   "metadata": {},
   "source": [
    "- #### ¿Se te ocurre alguna idea sobre cómo mejorar el clasificador de sentimiento?"
   ]
  },
  {
   "cell_type": "markdown",
   "metadata": {},
   "source": [
    "Si, podriamos proporcionar un bune diccionario a los clasificadores. Repleto de adjetivos, ademas de un conjunto de expresiones que signifiquen un sentimiento, debido a que los comentarios son escritos por personas actuales que hacen uso de jergas. Ya que frases como esta \"Will be back again!\" no tiene ningun adjetivo pero tiene una connotación positiva. "
   ]
  }
 ],
 "metadata": {
  "kernelspec": {
   "display_name": "Python 3",
   "language": "python",
   "name": "python3"
  },
  "language_info": {
   "codemirror_mode": {
    "name": "ipython",
    "version": 3
   },
   "file_extension": ".py",
   "mimetype": "text/x-python",
   "name": "python",
   "nbconvert_exporter": "python",
   "pygments_lexer": "ipython3",
   "version": "3.7.4"
  }
 },
 "nbformat": 4,
 "nbformat_minor": 4
}
