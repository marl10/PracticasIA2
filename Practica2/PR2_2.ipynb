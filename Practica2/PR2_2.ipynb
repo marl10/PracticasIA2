{
 "cells": [
  {
   "cell_type": "markdown",
   "metadata": {},
   "source": [
    "#### Participantes: \n",
    "Campoverde Méndez, Marlon y Mateos Pérez, Ventura \n",
    "#### Grupo: \n",
    "Grupo 14 "
   ]
  },
  {
   "cell_type": "code",
   "execution_count": 106,
   "metadata": {},
   "outputs": [],
   "source": [
    "from sklearn.datasets import fetch_20newsgroups\n",
    "import numpy as np\n",
    "import pandas as pd\n",
    "from sklearn.feature_extraction.text import CountVectorizer\n",
    "from sklearn.feature_extraction.text import TfidfTransformer\n",
    "from sklearn.metrics.pairwise import cosine_similarity"
   ]
  },
  {
   "cell_type": "code",
   "execution_count": 107,
   "metadata": {},
   "outputs": [],
   "source": [
    "train_data = fetch_20newsgroups(subset='train', shuffle=True, random_state=42)\n",
    "test_data = fetch_20newsgroups(subset='test')"
   ]
  },
  {
   "cell_type": "code",
   "execution_count": 108,
   "metadata": {},
   "outputs": [],
   "source": [
    "test_df = pd.DataFrame({\"Data\":test_data.data, \"Target\":test_data.target})\n",
    "train_df = pd.DataFrame({\"Data\":train_data.data, \"Target\":train_data.target})"
   ]
  },
  {
   "cell_type": "code",
   "execution_count": 109,
   "metadata": {},
   "outputs": [],
   "source": [
    "with open('words.txt') as f: # Pasamos el fichero a una lista (una línea por item)\n",
    "    dictionary = f.read().splitlines()\n",
    "    \n",
    "vectorizer = CountVectorizer(vocabulary=dictionary, stop_words='english')# El diccionario cargado lo pasamos en el parámetro vocabulary    "
   ]
  },
  {
   "cell_type": "markdown",
   "metadata": {},
   "source": [
    "---\n",
    "##### ***get3Mensajes(index)***\n",
    "\n",
    "Esta función sirve para extraer 3 textos del conjunto de test, lo hago a partir de un dataFrame ya que es muy fácil su uso y con un par de líneas se puede hacer una cosulta de este tipo, dado un numero optenemos todos los elementos cuya clase sea igul a la que buscamos. "
   ]
  },
  {
   "cell_type": "code",
   "execution_count": 110,
   "metadata": {},
   "outputs": [],
   "source": [
    "def get3Mensajes(index):\n",
    "    df1 = test_df[test_df['Target'] == index]\n",
    "    df1.reset_index(drop=True, inplace=True)\n",
    "    result = []\n",
    "    result.append(df1[\"Data\"][0])\n",
    "    result.append(df1[\"Data\"][1])\n",
    "    result.append(df1[\"Data\"][2])\n",
    "    return result"
   ]
  },
  {
   "cell_type": "markdown",
   "metadata": {},
   "source": [
    "---\n",
    "##### ***optenerXelementos(level, matrizResult):***\n",
    "Uso esta función para que extraiga los X elementos cuyo valor de la distnacia coseno sean los más altos. Se usa esta funcion en vez de las funciones de numpy de ordenar de mayor a menor que son muy útilies pero perdemos el índice en el que estan situados estos valores. \n",
    "Dado que las cosultas con la distancia coseno se hacen en orden según estan los datos del train_data.data, nos son de ayuda sus indices ya que posteriormente nos seran de utilidad para ver a que clase pertenece cada valor y así determinar la precisión. \n",
    "\n",
    "Devolvemos una lista con 3 posiciones, una por cada texto. Cada una de esas 3 posiciones contendrá una lista de X elementos dependiendo el nivel de exhaustividad que usemos, en esa lista habrán tuplas donde el primer elementos es la distancia coseno y el segundo será el indice del texto de entrenamiento que se ha usado del conjunto de train_data.data"
   ]
  },
  {
   "cell_type": "code",
   "execution_count": 111,
   "metadata": {},
   "outputs": [],
   "source": [
    "def optenerXelementos(level, matrizResult): \n",
    "    result = []\n",
    "    for i in range (len(matrizResult)):\n",
    "        resultAux = []\n",
    "        for j in range (level): \n",
    "            aux = np.where(max(matrizResult[i]) == matrizResult[i])\n",
    "            indiceMax = aux[0][0]\n",
    "            resultAux.append([matrizResult[i][indiceMax], indiceMax])\n",
    "            matrizResult[i][indiceMax] = 0\n",
    "        result.append(resultAux)\n",
    "    return result"
   ]
  },
  {
   "cell_type": "markdown",
   "metadata": {},
   "source": [
    "---\n",
    "##### ***getResultados(mejoresXlist, indexClase):***\n",
    "\n",
    "Esta función nos sirve para obtener los resultados, es decir,  devuelve una lista de dos posiciones. \n",
    "En la primera posición es una lista con 3 posiciones, una por cada texto del conjunto de test. Estas posiciones contienen el número de coicidencias que ha habído a la hora de hacer la distancia coseno y de las X mejores cuales coinciden con la clase que estamos consultando. \n",
    "\n",
    "La segunda posición es otra lista que contiene todas las clases con las que se ha confundido dicha consulta. "
   ]
  },
  {
   "cell_type": "code",
   "execution_count": 112,
   "metadata": {},
   "outputs": [],
   "source": [
    "def getResultados(mejoresXlist, indexClase):\n",
    "    resultados = [] \n",
    "    clases = []\n",
    "    indexResult = []\n",
    "    for i in range (len(mejoresXlist)): # analizamos los resultados del primer mensaje \n",
    "        mensaje = mejoresXlist[i] # extraemos los datos del primer mensaje para que sea mas facil el manejo de ellos \n",
    "        acum = 0\n",
    "        for j in range (len(mensaje)): # analizamos los X mejores datos dependiendo del nivel de exhaustividad\n",
    "            classIndex = mensaje[j][1] # extraemos el indice del mensaje de entrenamiento para asi poder consultar cual es su clase \n",
    "            clases.append(train_data.target[classIndex])\n",
    "            indexResult.append(classIndex)\n",
    "            if(indexClase == train_data.target[classIndex]): \n",
    "                acum += 1\n",
    "        resultados.append(acum)  \n",
    "    clasesConfundidas = confusionConClaseBuscada(clases, indexClase)\n",
    "    return [resultados, clasesConfundidas]"
   ]
  },
  {
   "cell_type": "markdown",
   "metadata": {},
   "source": [
    "---\n",
    "##### ***confusionConClaseBuscada(clasesEncotradas, indexClassConsulta):***\n",
    "\n",
    "Esta clase es llamada por \"getResultados()\" para sacar las clases con las que se ha confundido la consulta, nos ayuda a sacar el segundo parametro que devuelve getResultados()"
   ]
  },
  {
   "cell_type": "code",
   "execution_count": 113,
   "metadata": {},
   "outputs": [],
   "source": [
    "def confusionConClaseBuscada(clasesEncotradas, indexClassConsulta):\n",
    "    result = []\n",
    "    unique, counts = np.unique(clasesEncotradas, return_counts=True)\n",
    "    for i in range (len(unique)): \n",
    "        if(unique[i] != indexClassConsulta):\n",
    "            result.append((unique[i],counts[i])) #tupla donde (indice de la clase, veces que ha aparecido) \n",
    "    return result"
   ]
  },
  {
   "cell_type": "markdown",
   "metadata": {},
   "source": [
    "---\n",
    "##### ***mostrarResultados(result,indexClaseConsulta, levelEx):***\n",
    "Esta función sirve para mostras los datos anteriormente obtenido, el nivel de precisión de cada uno de los textos así como las clases con las que se ha confundido la consulta"
   ]
  },
  {
   "cell_type": "code",
   "execution_count": 119,
   "metadata": {},
   "outputs": [],
   "source": [
    "def mostrarResultados(result,indexClaseConsulta, levelEx): \n",
    "    mensajes = result[0]\n",
    "    confundidos = result[1]\n",
    "    total = 0\n",
    "    printmd(\"#### __Clase a consultar: \" + test_data.target_names[indexClaseConsulta] + \"__\")\n",
    "    print(\"Los niveles de exhaustividad para cada texto son: \")\n",
    "    print(\"Texto 1:\",\"{0:.2f}\".format((mensajes[0]/levelEx) *100) ,\"% | \", \"Texto 2:\",\"{0:.2f}\".format((mensajes[1]/levelEx) *100) ,\"% | \", \"Texto 3:\",\"{0:.2f}\".format((mensajes[2]/levelEx) *100) ,\"%\")\n",
    "    #print(\"Texto 2: \",\"{0:.2f}\".format((mensajes[1]/levelEx) *100) ,\"%\")\n",
    "    #print(\"Texto 3: \",\"{0:.2f}\".format((mensajes[2]/levelEx) *100) ,\"%\")\n",
    "    #print(\"\\n\")\n",
    "    if len(confundidos) > 0: \n",
    "        print(\"La/Las clases que se han confundido con la consulta son:\")\n",
    "        for j in range (len(confundidos)):\n",
    "            print(train_data.target_names[confundidos[j][0]])\n",
    "    else: \n",
    "        print(\"No se ha confundido con ninguna otra clase\")"
   ]
  },
  {
   "cell_type": "markdown",
   "metadata": {},
   "source": [
    "---\n",
    "##### ***consultaDistanciaCoseno(indexClassConsulta, nivelExhaustividad):***\n",
    "Esta función es la que llama a todas las demás funciones que estan arriba. \n",
    "\n",
    "1. Por un lado, sacamos 3 mensajes del conjunto de test dado un indice (es el que detemina la clase que estamos buscando) \n",
    "2. Creamos los vectores de palabras para el conjunto de entrenamiento \n",
    "3. Creamos los vectores de palabras para el conjunto de test\n",
    "4. Calculamos la distancia coseno para esa consulta\n",
    "5. Hallamos los X valores mas relevantes\n",
    "6. Obtenemos los resultados \n",
    "7. Mostramos los resultados \n",
    "\n",
    "Esta función devuleve el numero de veces que se acertado con la consulta por cada texto para posteriormente sacar la precisión media por consulta\n"
   ]
  },
  {
   "cell_type": "code",
   "execution_count": 115,
   "metadata": {},
   "outputs": [],
   "source": [
    "def consultaDistanciaCoseno(indexClassConsulta, nivelExhaustividad, IDF):\n",
    "    tresMensajes = get3Mensajes(indexClassConsulta)\n",
    "    \n",
    "    #Creamos la matriz de palabras para el conjunto de entrenamiento  \n",
    "    train_vec_data = vectorizer.fit_transform(train_data.data)# AGREGAR train_data.data\n",
    "    #Calculamos el valor TF/IDF para el conjunto de entrenamiento\n",
    "    tfidfer = TfidfTransformer()\n",
    "    train_IDF = tfidfer.fit_transform(train_vec_data)\n",
    "    \n",
    "    #Creamos la Matriz de palabras para el conjunto de test\n",
    "    test_vec_data = vectorizer.transform(tresMensajes)\n",
    "    #Calculamos el valor TF/IDF para el conjunto de test\n",
    "    test_IDF = tfidfer.transform(test_vec_data)\n",
    "    \n",
    "    # Dependiendo si queremos usar la distancia coseno con IDF o no, segun nos venga el argumento de la funcion\n",
    "    if IDF == True: \n",
    "        resultCoseno = cosine_similarity(test_IDF,train_IDF)\n",
    "    else: \n",
    "        resultCoseno = cosine_similarity(test_vec_data,train_vec_data)\n",
    "    \n",
    "    #        ORDENAMOS LOS RESULTADOS para un nivel X \n",
    "    precisionXList = optenerXelementos(nivelExhaustividad,resultCoseno)\n",
    "    # CALCULAMOS LA PRECISION DE LA LSITA A UN NIVEL DE EXHAUSTIVIDAD X\n",
    "    result = getResultados(precisionXList, indexClassConsulta) \n",
    "    precision = np.array(result[0])\n",
    "    mostrarResultados(result, indexClassConsulta, nivelExhaustividad)\n",
    "    \n",
    "    return precision.sum()"
   ]
  },
  {
   "cell_type": "markdown",
   "metadata": {},
   "source": [
    "---\n",
    "##### ***Apartado2(nivelX):***\n",
    "\n",
    "Nos sirve para que dado un nivel de exhaustividad nos saque toodos los resultados para dicho nivel en las 20 clases. \n",
    "\n",
    "IDF es un valor booleano que determina si calculamos la inversa(el valor IDF) "
   ]
  },
  {
   "cell_type": "code",
   "execution_count": 123,
   "metadata": {},
   "outputs": [],
   "source": [
    "def Apartado2(nivelX, IDF): \n",
    "    resultados = []\n",
    "    \n",
    "    for i in range (0,20): \n",
    "        re = consultaDistanciaCoseno(i, nivelX, IDF)\n",
    "        resultados.append(re) \n",
    "        \n",
    "    print(\"-----------------------------------------------\")   \n",
    "    printmd(\"##### ***Precisión media de las 20 clases:***\")\n",
    "    for j in range (len(resultados)):\n",
    "        aux = resultados[j]/(3*nivelX)\n",
    "        printmd(\"{0:.2f}\".format(aux*100) + \"% precisión media para la clase \" + \"***\" + train_data.target_names[j] + \"***\")"
   ]
  },
  {
   "cell_type": "code",
   "execution_count": 124,
   "metadata": {},
   "outputs": [],
   "source": [
    "# Para excribir textos en markdown \n",
    "from IPython.display import Markdown, display\n",
    "def printmd(string):\n",
    "    display(Markdown(string))"
   ]
  },
  {
   "cell_type": "markdown",
   "metadata": {},
   "source": [
    "---"
   ]
  },
  {
   "cell_type": "markdown",
   "metadata": {},
   "source": [
    "## Apartado a) "
   ]
  },
  {
   "cell_type": "code",
   "execution_count": 125,
   "metadata": {},
   "outputs": [
    {
     "data": {
      "text/markdown": [
       "### Sin TfidfTransformer y nivel 3 de exhaustividad"
      ],
      "text/plain": [
       "<IPython.core.display.Markdown object>"
      ]
     },
     "metadata": {},
     "output_type": "display_data"
    },
    {
     "data": {
      "text/markdown": [
       "---"
      ],
      "text/plain": [
       "<IPython.core.display.Markdown object>"
      ]
     },
     "metadata": {},
     "output_type": "display_data"
    },
    {
     "data": {
      "text/markdown": [
       "#### __Clase a consultar: alt.atheism__"
      ],
      "text/plain": [
       "<IPython.core.display.Markdown object>"
      ]
     },
     "metadata": {},
     "output_type": "display_data"
    },
    {
     "name": "stdout",
     "output_type": "stream",
     "text": [
      "Los niveles de exhaustividad para cada texto son: \n",
      "Texto 1: 100.00 % |  Texto 2: 0.00 % |  Texto 3: 0.00 %\n",
      "La/Las clases que se han confundido con la consulta son:\n",
      "sci.crypt\n",
      "soc.religion.christian\n",
      "talk.politics.mideast\n",
      "talk.politics.misc\n"
     ]
    },
    {
     "data": {
      "text/markdown": [
       "#### __Clase a consultar: comp.graphics__"
      ],
      "text/plain": [
       "<IPython.core.display.Markdown object>"
      ]
     },
     "metadata": {},
     "output_type": "display_data"
    },
    {
     "name": "stdout",
     "output_type": "stream",
     "text": [
      "Los niveles de exhaustividad para cada texto son: \n",
      "Texto 1: 66.67 % |  Texto 2: 0.00 % |  Texto 3: 0.00 %\n",
      "La/Las clases que se han confundido con la consulta son:\n",
      "comp.os.ms-windows.misc\n",
      "comp.sys.ibm.pc.hardware\n",
      "rec.sport.baseball\n",
      "sci.electronics\n",
      "soc.religion.christian\n",
      "talk.politics.misc\n"
     ]
    },
    {
     "data": {
      "text/markdown": [
       "#### __Clase a consultar: comp.os.ms-windows.misc__"
      ],
      "text/plain": [
       "<IPython.core.display.Markdown object>"
      ]
     },
     "metadata": {},
     "output_type": "display_data"
    },
    {
     "name": "stdout",
     "output_type": "stream",
     "text": [
      "Los niveles de exhaustividad para cada texto son: \n",
      "Texto 1: 66.67 % |  Texto 2: 0.00 % |  Texto 3: 0.00 %\n",
      "La/Las clases que se han confundido con la consulta son:\n",
      "comp.graphics\n",
      "comp.sys.ibm.pc.hardware\n",
      "comp.windows.x\n"
     ]
    },
    {
     "data": {
      "text/markdown": [
       "#### __Clase a consultar: comp.sys.ibm.pc.hardware__"
      ],
      "text/plain": [
       "<IPython.core.display.Markdown object>"
      ]
     },
     "metadata": {},
     "output_type": "display_data"
    },
    {
     "name": "stdout",
     "output_type": "stream",
     "text": [
      "Los niveles de exhaustividad para cada texto son: \n",
      "Texto 1: 100.00 % |  Texto 2: 0.00 % |  Texto 3: 66.67 %\n",
      "La/Las clases que se han confundido con la consulta son:\n",
      "comp.sys.mac.hardware\n",
      "misc.forsale\n"
     ]
    },
    {
     "data": {
      "text/markdown": [
       "#### __Clase a consultar: comp.sys.mac.hardware__"
      ],
      "text/plain": [
       "<IPython.core.display.Markdown object>"
      ]
     },
     "metadata": {},
     "output_type": "display_data"
    },
    {
     "name": "stdout",
     "output_type": "stream",
     "text": [
      "Los niveles de exhaustividad para cada texto son: \n",
      "Texto 1: 0.00 % |  Texto 2: 0.00 % |  Texto 3: 0.00 %\n",
      "La/Las clases que se han confundido con la consulta son:\n",
      "comp.os.ms-windows.misc\n",
      "comp.windows.x\n",
      "misc.forsale\n",
      "sci.electronics\n",
      "talk.politics.misc\n"
     ]
    },
    {
     "data": {
      "text/markdown": [
       "#### __Clase a consultar: comp.windows.x__"
      ],
      "text/plain": [
       "<IPython.core.display.Markdown object>"
      ]
     },
     "metadata": {},
     "output_type": "display_data"
    },
    {
     "name": "stdout",
     "output_type": "stream",
     "text": [
      "Los niveles de exhaustividad para cada texto son: \n",
      "Texto 1: 0.00 % |  Texto 2: 33.33 % |  Texto 3: 66.67 %\n",
      "La/Las clases que se han confundido con la consulta son:\n",
      "comp.os.ms-windows.misc\n",
      "comp.sys.mac.hardware\n",
      "sci.space\n",
      "talk.religion.misc\n"
     ]
    },
    {
     "data": {
      "text/markdown": [
       "#### __Clase a consultar: misc.forsale__"
      ],
      "text/plain": [
       "<IPython.core.display.Markdown object>"
      ]
     },
     "metadata": {},
     "output_type": "display_data"
    },
    {
     "name": "stdout",
     "output_type": "stream",
     "text": [
      "Los niveles de exhaustividad para cada texto son: \n",
      "Texto 1: 66.67 % |  Texto 2: 66.67 % |  Texto 3: 100.00 %\n",
      "La/Las clases que se han confundido con la consulta son:\n",
      "comp.windows.x\n",
      "sci.electronics\n"
     ]
    },
    {
     "data": {
      "text/markdown": [
       "#### __Clase a consultar: rec.autos__"
      ],
      "text/plain": [
       "<IPython.core.display.Markdown object>"
      ]
     },
     "metadata": {},
     "output_type": "display_data"
    },
    {
     "name": "stdout",
     "output_type": "stream",
     "text": [
      "Los niveles de exhaustividad para cada texto son: \n",
      "Texto 1: 0.00 % |  Texto 2: 0.00 % |  Texto 3: 100.00 %\n",
      "La/Las clases que se han confundido con la consulta son:\n",
      "comp.sys.ibm.pc.hardware\n",
      "comp.sys.mac.hardware\n",
      "misc.forsale\n",
      "soc.religion.christian\n",
      "talk.religion.misc\n"
     ]
    },
    {
     "data": {
      "text/markdown": [
       "#### __Clase a consultar: rec.motorcycles__"
      ],
      "text/plain": [
       "<IPython.core.display.Markdown object>"
      ]
     },
     "metadata": {},
     "output_type": "display_data"
    },
    {
     "name": "stdout",
     "output_type": "stream",
     "text": [
      "Los niveles de exhaustividad para cada texto son: \n",
      "Texto 1: 100.00 % |  Texto 2: 100.00 % |  Texto 3: 66.67 %\n",
      "La/Las clases que se han confundido con la consulta son:\n",
      "misc.forsale\n"
     ]
    },
    {
     "data": {
      "text/markdown": [
       "#### __Clase a consultar: rec.sport.baseball__"
      ],
      "text/plain": [
       "<IPython.core.display.Markdown object>"
      ]
     },
     "metadata": {},
     "output_type": "display_data"
    },
    {
     "name": "stdout",
     "output_type": "stream",
     "text": [
      "Los niveles de exhaustividad para cada texto son: \n",
      "Texto 1: 100.00 % |  Texto 2: 66.67 % |  Texto 3: 66.67 %\n",
      "La/Las clases que se han confundido con la consulta son:\n",
      "alt.atheism\n",
      "rec.sport.hockey\n"
     ]
    },
    {
     "data": {
      "text/markdown": [
       "#### __Clase a consultar: rec.sport.hockey__"
      ],
      "text/plain": [
       "<IPython.core.display.Markdown object>"
      ]
     },
     "metadata": {},
     "output_type": "display_data"
    },
    {
     "name": "stdout",
     "output_type": "stream",
     "text": [
      "Los niveles de exhaustividad para cada texto son: \n",
      "Texto 1: 33.33 % |  Texto 2: 66.67 % |  Texto 3: 100.00 %\n",
      "La/Las clases que se han confundido con la consulta son:\n",
      "comp.os.ms-windows.misc\n",
      "comp.sys.mac.hardware\n",
      "talk.religion.misc\n"
     ]
    },
    {
     "data": {
      "text/markdown": [
       "#### __Clase a consultar: sci.crypt__"
      ],
      "text/plain": [
       "<IPython.core.display.Markdown object>"
      ]
     },
     "metadata": {},
     "output_type": "display_data"
    },
    {
     "name": "stdout",
     "output_type": "stream",
     "text": [
      "Los niveles de exhaustividad para cada texto son: \n",
      "Texto 1: 100.00 % |  Texto 2: 33.33 % |  Texto 3: 33.33 %\n",
      "La/Las clases que se han confundido con la consulta son:\n",
      "comp.graphics\n",
      "sci.electronics\n",
      "talk.politics.guns\n"
     ]
    },
    {
     "data": {
      "text/markdown": [
       "#### __Clase a consultar: sci.electronics__"
      ],
      "text/plain": [
       "<IPython.core.display.Markdown object>"
      ]
     },
     "metadata": {},
     "output_type": "display_data"
    },
    {
     "name": "stdout",
     "output_type": "stream",
     "text": [
      "Los niveles de exhaustividad para cada texto son: \n",
      "Texto 1: 0.00 % |  Texto 2: 33.33 % |  Texto 3: 100.00 %\n",
      "La/Las clases que se han confundido con la consulta son:\n",
      "comp.graphics\n",
      "comp.sys.ibm.pc.hardware\n",
      "rec.autos\n",
      "rec.sport.hockey\n"
     ]
    },
    {
     "data": {
      "text/markdown": [
       "#### __Clase a consultar: sci.med__"
      ],
      "text/plain": [
       "<IPython.core.display.Markdown object>"
      ]
     },
     "metadata": {},
     "output_type": "display_data"
    },
    {
     "name": "stdout",
     "output_type": "stream",
     "text": [
      "Los niveles de exhaustividad para cada texto son: \n",
      "Texto 1: 100.00 % |  Texto 2: 33.33 % |  Texto 3: 100.00 %\n",
      "La/Las clases que se han confundido con la consulta son:\n",
      "comp.windows.x\n"
     ]
    },
    {
     "data": {
      "text/markdown": [
       "#### __Clase a consultar: sci.space__"
      ],
      "text/plain": [
       "<IPython.core.display.Markdown object>"
      ]
     },
     "metadata": {},
     "output_type": "display_data"
    },
    {
     "name": "stdout",
     "output_type": "stream",
     "text": [
      "Los niveles de exhaustividad para cada texto son: \n",
      "Texto 1: 66.67 % |  Texto 2: 100.00 % |  Texto 3: 66.67 %\n",
      "La/Las clases que se han confundido con la consulta son:\n",
      "sci.crypt\n",
      "sci.electronics\n"
     ]
    },
    {
     "data": {
      "text/markdown": [
       "#### __Clase a consultar: soc.religion.christian__"
      ],
      "text/plain": [
       "<IPython.core.display.Markdown object>"
      ]
     },
     "metadata": {},
     "output_type": "display_data"
    },
    {
     "name": "stdout",
     "output_type": "stream",
     "text": [
      "Los niveles de exhaustividad para cada texto son: \n",
      "Texto 1: 100.00 % |  Texto 2: 33.33 % |  Texto 3: 100.00 %\n",
      "La/Las clases que se han confundido con la consulta son:\n",
      "comp.graphics\n"
     ]
    },
    {
     "data": {
      "text/markdown": [
       "#### __Clase a consultar: talk.politics.guns__"
      ],
      "text/plain": [
       "<IPython.core.display.Markdown object>"
      ]
     },
     "metadata": {},
     "output_type": "display_data"
    },
    {
     "name": "stdout",
     "output_type": "stream",
     "text": [
      "Los niveles de exhaustividad para cada texto son: \n",
      "Texto 1: 33.33 % |  Texto 2: 66.67 % |  Texto 3: 66.67 %\n",
      "La/Las clases que se han confundido con la consulta son:\n",
      "misc.forsale\n",
      "sci.crypt\n",
      "talk.religion.misc\n"
     ]
    },
    {
     "data": {
      "text/markdown": [
       "#### __Clase a consultar: talk.politics.mideast__"
      ],
      "text/plain": [
       "<IPython.core.display.Markdown object>"
      ]
     },
     "metadata": {},
     "output_type": "display_data"
    },
    {
     "name": "stdout",
     "output_type": "stream",
     "text": [
      "Los niveles de exhaustividad para cada texto son: \n",
      "Texto 1: 33.33 % |  Texto 2: 33.33 % |  Texto 3: 0.00 %\n",
      "La/Las clases que se han confundido con la consulta son:\n",
      "alt.atheism\n",
      "rec.motorcycles\n",
      "sci.crypt\n",
      "sci.med\n",
      "soc.religion.christian\n",
      "talk.politics.guns\n",
      "talk.politics.misc\n"
     ]
    },
    {
     "data": {
      "text/markdown": [
       "#### __Clase a consultar: talk.politics.misc__"
      ],
      "text/plain": [
       "<IPython.core.display.Markdown object>"
      ]
     },
     "metadata": {},
     "output_type": "display_data"
    },
    {
     "name": "stdout",
     "output_type": "stream",
     "text": [
      "Los niveles de exhaustividad para cada texto son: \n",
      "Texto 1: 33.33 % |  Texto 2: 66.67 % |  Texto 3: 0.00 %\n",
      "La/Las clases que se han confundido con la consulta son:\n",
      "comp.sys.mac.hardware\n",
      "misc.forsale\n",
      "rec.sport.baseball\n",
      "soc.religion.christian\n",
      "talk.politics.guns\n"
     ]
    },
    {
     "data": {
      "text/markdown": [
       "#### __Clase a consultar: talk.religion.misc__"
      ],
      "text/plain": [
       "<IPython.core.display.Markdown object>"
      ]
     },
     "metadata": {},
     "output_type": "display_data"
    },
    {
     "name": "stdout",
     "output_type": "stream",
     "text": [
      "Los niveles de exhaustividad para cada texto son: \n",
      "Texto 1: 0.00 % |  Texto 2: 33.33 % |  Texto 3: 66.67 %\n",
      "La/Las clases que se han confundido con la consulta son:\n",
      "alt.atheism\n",
      "rec.sport.hockey\n",
      "soc.religion.christian\n",
      "talk.politics.guns\n",
      "talk.politics.misc\n",
      "-----------------------------------------------\n"
     ]
    },
    {
     "data": {
      "text/markdown": [
       "##### ***Precisión media de las 20 clases:***"
      ],
      "text/plain": [
       "<IPython.core.display.Markdown object>"
      ]
     },
     "metadata": {},
     "output_type": "display_data"
    },
    {
     "data": {
      "text/markdown": [
       "33.33% precisión media para la clase ***alt.atheism***"
      ],
      "text/plain": [
       "<IPython.core.display.Markdown object>"
      ]
     },
     "metadata": {},
     "output_type": "display_data"
    },
    {
     "data": {
      "text/markdown": [
       "22.22% precisión media para la clase ***comp.graphics***"
      ],
      "text/plain": [
       "<IPython.core.display.Markdown object>"
      ]
     },
     "metadata": {},
     "output_type": "display_data"
    },
    {
     "data": {
      "text/markdown": [
       "22.22% precisión media para la clase ***comp.os.ms-windows.misc***"
      ],
      "text/plain": [
       "<IPython.core.display.Markdown object>"
      ]
     },
     "metadata": {},
     "output_type": "display_data"
    },
    {
     "data": {
      "text/markdown": [
       "55.56% precisión media para la clase ***comp.sys.ibm.pc.hardware***"
      ],
      "text/plain": [
       "<IPython.core.display.Markdown object>"
      ]
     },
     "metadata": {},
     "output_type": "display_data"
    },
    {
     "data": {
      "text/markdown": [
       "0.00% precisión media para la clase ***comp.sys.mac.hardware***"
      ],
      "text/plain": [
       "<IPython.core.display.Markdown object>"
      ]
     },
     "metadata": {},
     "output_type": "display_data"
    },
    {
     "data": {
      "text/markdown": [
       "33.33% precisión media para la clase ***comp.windows.x***"
      ],
      "text/plain": [
       "<IPython.core.display.Markdown object>"
      ]
     },
     "metadata": {},
     "output_type": "display_data"
    },
    {
     "data": {
      "text/markdown": [
       "77.78% precisión media para la clase ***misc.forsale***"
      ],
      "text/plain": [
       "<IPython.core.display.Markdown object>"
      ]
     },
     "metadata": {},
     "output_type": "display_data"
    },
    {
     "data": {
      "text/markdown": [
       "33.33% precisión media para la clase ***rec.autos***"
      ],
      "text/plain": [
       "<IPython.core.display.Markdown object>"
      ]
     },
     "metadata": {},
     "output_type": "display_data"
    },
    {
     "data": {
      "text/markdown": [
       "88.89% precisión media para la clase ***rec.motorcycles***"
      ],
      "text/plain": [
       "<IPython.core.display.Markdown object>"
      ]
     },
     "metadata": {},
     "output_type": "display_data"
    },
    {
     "data": {
      "text/markdown": [
       "77.78% precisión media para la clase ***rec.sport.baseball***"
      ],
      "text/plain": [
       "<IPython.core.display.Markdown object>"
      ]
     },
     "metadata": {},
     "output_type": "display_data"
    },
    {
     "data": {
      "text/markdown": [
       "66.67% precisión media para la clase ***rec.sport.hockey***"
      ],
      "text/plain": [
       "<IPython.core.display.Markdown object>"
      ]
     },
     "metadata": {},
     "output_type": "display_data"
    },
    {
     "data": {
      "text/markdown": [
       "55.56% precisión media para la clase ***sci.crypt***"
      ],
      "text/plain": [
       "<IPython.core.display.Markdown object>"
      ]
     },
     "metadata": {},
     "output_type": "display_data"
    },
    {
     "data": {
      "text/markdown": [
       "44.44% precisión media para la clase ***sci.electronics***"
      ],
      "text/plain": [
       "<IPython.core.display.Markdown object>"
      ]
     },
     "metadata": {},
     "output_type": "display_data"
    },
    {
     "data": {
      "text/markdown": [
       "77.78% precisión media para la clase ***sci.med***"
      ],
      "text/plain": [
       "<IPython.core.display.Markdown object>"
      ]
     },
     "metadata": {},
     "output_type": "display_data"
    },
    {
     "data": {
      "text/markdown": [
       "77.78% precisión media para la clase ***sci.space***"
      ],
      "text/plain": [
       "<IPython.core.display.Markdown object>"
      ]
     },
     "metadata": {},
     "output_type": "display_data"
    },
    {
     "data": {
      "text/markdown": [
       "77.78% precisión media para la clase ***soc.religion.christian***"
      ],
      "text/plain": [
       "<IPython.core.display.Markdown object>"
      ]
     },
     "metadata": {},
     "output_type": "display_data"
    },
    {
     "data": {
      "text/markdown": [
       "55.56% precisión media para la clase ***talk.politics.guns***"
      ],
      "text/plain": [
       "<IPython.core.display.Markdown object>"
      ]
     },
     "metadata": {},
     "output_type": "display_data"
    },
    {
     "data": {
      "text/markdown": [
       "22.22% precisión media para la clase ***talk.politics.mideast***"
      ],
      "text/plain": [
       "<IPython.core.display.Markdown object>"
      ]
     },
     "metadata": {},
     "output_type": "display_data"
    },
    {
     "data": {
      "text/markdown": [
       "33.33% precisión media para la clase ***talk.politics.misc***"
      ],
      "text/plain": [
       "<IPython.core.display.Markdown object>"
      ]
     },
     "metadata": {},
     "output_type": "display_data"
    },
    {
     "data": {
      "text/markdown": [
       "33.33% precisión media para la clase ***talk.religion.misc***"
      ],
      "text/plain": [
       "<IPython.core.display.Markdown object>"
      ]
     },
     "metadata": {},
     "output_type": "display_data"
    }
   ],
   "source": [
    "printmd(\"### Sin TfidfTransformer y nivel 3 de exhaustividad\")\n",
    "printmd(\"---\")\n",
    "Apartado2(3, False)"
   ]
  },
  {
   "cell_type": "code",
   "execution_count": null,
   "metadata": {},
   "outputs": [],
   "source": []
  },
  {
   "cell_type": "markdown",
   "metadata": {},
   "source": [
    "### Resultados para nivel de exhaustividad 3 "
   ]
  },
  {
   "cell_type": "markdown",
   "metadata": {},
   "source": [
    "#### ¿Hay muchas diferencias entre los valores de precisión medios para las distintas clases del conjunto de datos? ¿A qué crees que se deben?\n",
    "Si, los hay. Puede ser por los temas que tratan cada uno ya que hay algunas clases que tratan temas muy parecidos y por lo tanto usan un vocabulario muy similar como son totas aquellas que estan relacionadas con la tecnologia. \n",
    "Se puede observar como ninguna de las clases obtiene el 100 %. "
   ]
  },
  {
   "cell_type": "markdown",
   "metadata": {},
   "source": [
    "#### Identifica la clase que haya tenido peores resultados de precisión y para alguna de sus consultas muestra alguno de los mensajes que recuperó erróneamente en las primeras X posiciones.\n",
    " - ¿Con qué clases se ha confundido más dicha consulta?\n",
    " \n",
    " La clase comp.sys.mac.hardware, se ha confundido con: comp.os.ms-windows.misc, comp.windows.x, misc.forsale, sci.electronics, talk.politics.misc. Esta clase es la que peores resultados ha dado, no ha encontrado ninguna coincidencia. \n",
    " Podemos destacar también que esta clase ha obtenido la peor puntuación con 0% de precisión. \n",
    " - ¿A qué crees que se deben los malos resultados?\n",
    " \n",
    " Puede ser debido a que tienen otras clases muy relacionadas, comprten vocavulario y es por ello que a la hora de calcular la distancia coseno nos da resultados erroneo. \n"
   ]
  },
  {
   "cell_type": "code",
   "execution_count": 126,
   "metadata": {},
   "outputs": [],
   "source": [
    "#Con un nivel de exhaustividad 10 sin TfidfTransformer\n",
    "#printmd(\"### Sin TfidfTransformer y nivel 10 de exhaustividad\")\n",
    "#printmd(\"---\")\n",
    "#Apartado2(10, False)\n",
    "#Descomentar las lineas para ver los resultados"
   ]
  },
  {
   "cell_type": "markdown",
   "metadata": {},
   "source": [
    "### Resultados para nivel de exhaustividad 10\n",
    "Del mismo modo que con el nivel 3 de exhaustividad podemos ver resultados muy parecidodos. "
   ]
  },
  {
   "cell_type": "markdown",
   "metadata": {},
   "source": [
    "## Apartado b) "
   ]
  },
  {
   "cell_type": "code",
   "execution_count": 127,
   "metadata": {},
   "outputs": [
    {
     "data": {
      "text/markdown": [
       "### Con TfidfTransformer y nivel 3 de exhaustividad"
      ],
      "text/plain": [
       "<IPython.core.display.Markdown object>"
      ]
     },
     "metadata": {},
     "output_type": "display_data"
    },
    {
     "data": {
      "text/markdown": [
       "---"
      ],
      "text/plain": [
       "<IPython.core.display.Markdown object>"
      ]
     },
     "metadata": {},
     "output_type": "display_data"
    },
    {
     "data": {
      "text/markdown": [
       "#### __Clase a consultar: alt.atheism__"
      ],
      "text/plain": [
       "<IPython.core.display.Markdown object>"
      ]
     },
     "metadata": {},
     "output_type": "display_data"
    },
    {
     "name": "stdout",
     "output_type": "stream",
     "text": [
      "Los niveles de exhaustividad para cada texto son: \n",
      "Texto 1: 66.67 % |  Texto 2: 0.00 % |  Texto 3: 0.00 %\n",
      "La/Las clases que se han confundido con la consulta son:\n",
      "sci.crypt\n",
      "soc.religion.christian\n",
      "talk.politics.mideast\n"
     ]
    },
    {
     "data": {
      "text/markdown": [
       "#### __Clase a consultar: comp.graphics__"
      ],
      "text/plain": [
       "<IPython.core.display.Markdown object>"
      ]
     },
     "metadata": {},
     "output_type": "display_data"
    },
    {
     "name": "stdout",
     "output_type": "stream",
     "text": [
      "Los niveles de exhaustividad para cada texto son: \n",
      "Texto 1: 33.33 % |  Texto 2: 0.00 % |  Texto 3: 0.00 %\n",
      "La/Las clases que se han confundido con la consulta son:\n",
      "comp.os.ms-windows.misc\n",
      "comp.sys.mac.hardware\n",
      "comp.windows.x\n",
      "sci.electronics\n",
      "sci.space\n"
     ]
    },
    {
     "data": {
      "text/markdown": [
       "#### __Clase a consultar: comp.os.ms-windows.misc__"
      ],
      "text/plain": [
       "<IPython.core.display.Markdown object>"
      ]
     },
     "metadata": {},
     "output_type": "display_data"
    },
    {
     "name": "stdout",
     "output_type": "stream",
     "text": [
      "Los niveles de exhaustividad para cada texto son: \n",
      "Texto 1: 33.33 % |  Texto 2: 0.00 % |  Texto 3: 0.00 %\n",
      "La/Las clases que se han confundido con la consulta son:\n",
      "comp.graphics\n",
      "comp.sys.ibm.pc.hardware\n",
      "comp.windows.x\n",
      "sci.space\n"
     ]
    },
    {
     "data": {
      "text/markdown": [
       "#### __Clase a consultar: comp.sys.ibm.pc.hardware__"
      ],
      "text/plain": [
       "<IPython.core.display.Markdown object>"
      ]
     },
     "metadata": {},
     "output_type": "display_data"
    },
    {
     "name": "stdout",
     "output_type": "stream",
     "text": [
      "Los niveles de exhaustividad para cada texto son: \n",
      "Texto 1: 100.00 % |  Texto 2: 66.67 % |  Texto 3: 33.33 %\n",
      "La/Las clases que se han confundido con la consulta son:\n",
      "comp.sys.mac.hardware\n",
      "misc.forsale\n",
      "sci.crypt\n"
     ]
    },
    {
     "data": {
      "text/markdown": [
       "#### __Clase a consultar: comp.sys.mac.hardware__"
      ],
      "text/plain": [
       "<IPython.core.display.Markdown object>"
      ]
     },
     "metadata": {},
     "output_type": "display_data"
    },
    {
     "name": "stdout",
     "output_type": "stream",
     "text": [
      "Los niveles de exhaustividad para cada texto son: \n",
      "Texto 1: 0.00 % |  Texto 2: 33.33 % |  Texto 3: 66.67 %\n",
      "La/Las clases que se han confundido con la consulta son:\n",
      "comp.os.ms-windows.misc\n",
      "misc.forsale\n",
      "soc.religion.christian\n"
     ]
    },
    {
     "data": {
      "text/markdown": [
       "#### __Clase a consultar: comp.windows.x__"
      ],
      "text/plain": [
       "<IPython.core.display.Markdown object>"
      ]
     },
     "metadata": {},
     "output_type": "display_data"
    },
    {
     "name": "stdout",
     "output_type": "stream",
     "text": [
      "Los niveles de exhaustividad para cada texto son: \n",
      "Texto 1: 0.00 % |  Texto 2: 66.67 % |  Texto 3: 33.33 %\n",
      "La/Las clases que se han confundido con la consulta son:\n",
      "comp.os.ms-windows.misc\n",
      "comp.sys.mac.hardware\n",
      "sci.electronics\n",
      "sci.space\n",
      "talk.religion.misc\n"
     ]
    },
    {
     "data": {
      "text/markdown": [
       "#### __Clase a consultar: misc.forsale__"
      ],
      "text/plain": [
       "<IPython.core.display.Markdown object>"
      ]
     },
     "metadata": {},
     "output_type": "display_data"
    },
    {
     "name": "stdout",
     "output_type": "stream",
     "text": [
      "Los niveles de exhaustividad para cada texto son: \n",
      "Texto 1: 33.33 % |  Texto 2: 66.67 % |  Texto 3: 33.33 %\n",
      "La/Las clases que se han confundido con la consulta son:\n",
      "comp.graphics\n",
      "comp.sys.mac.hardware\n",
      "comp.windows.x\n",
      "sci.electronics\n",
      "sci.med\n"
     ]
    },
    {
     "data": {
      "text/markdown": [
       "#### __Clase a consultar: rec.autos__"
      ],
      "text/plain": [
       "<IPython.core.display.Markdown object>"
      ]
     },
     "metadata": {},
     "output_type": "display_data"
    },
    {
     "name": "stdout",
     "output_type": "stream",
     "text": [
      "Los niveles de exhaustividad para cada texto son: \n",
      "Texto 1: 0.00 % |  Texto 2: 33.33 % |  Texto 3: 100.00 %\n",
      "La/Las clases que se han confundido con la consulta son:\n",
      "comp.graphics\n",
      "comp.sys.ibm.pc.hardware\n",
      "misc.forsale\n",
      "soc.religion.christian\n"
     ]
    },
    {
     "data": {
      "text/markdown": [
       "#### __Clase a consultar: rec.motorcycles__"
      ],
      "text/plain": [
       "<IPython.core.display.Markdown object>"
      ]
     },
     "metadata": {},
     "output_type": "display_data"
    },
    {
     "name": "stdout",
     "output_type": "stream",
     "text": [
      "Los niveles de exhaustividad para cada texto son: \n",
      "Texto 1: 100.00 % |  Texto 2: 100.00 % |  Texto 3: 33.33 %\n",
      "La/Las clases que se han confundido con la consulta son:\n",
      "comp.sys.ibm.pc.hardware\n",
      "comp.windows.x\n"
     ]
    },
    {
     "data": {
      "text/markdown": [
       "#### __Clase a consultar: rec.sport.baseball__"
      ],
      "text/plain": [
       "<IPython.core.display.Markdown object>"
      ]
     },
     "metadata": {},
     "output_type": "display_data"
    },
    {
     "name": "stdout",
     "output_type": "stream",
     "text": [
      "Los niveles de exhaustividad para cada texto son: \n",
      "Texto 1: 100.00 % |  Texto 2: 100.00 % |  Texto 3: 100.00 %\n",
      "No se ha confundido con ninguna otra clase\n"
     ]
    },
    {
     "data": {
      "text/markdown": [
       "#### __Clase a consultar: rec.sport.hockey__"
      ],
      "text/plain": [
       "<IPython.core.display.Markdown object>"
      ]
     },
     "metadata": {},
     "output_type": "display_data"
    },
    {
     "name": "stdout",
     "output_type": "stream",
     "text": [
      "Los niveles de exhaustividad para cada texto son: \n",
      "Texto 1: 100.00 % |  Texto 2: 100.00 % |  Texto 3: 100.00 %\n",
      "No se ha confundido con ninguna otra clase\n"
     ]
    },
    {
     "data": {
      "text/markdown": [
       "#### __Clase a consultar: sci.crypt__"
      ],
      "text/plain": [
       "<IPython.core.display.Markdown object>"
      ]
     },
     "metadata": {},
     "output_type": "display_data"
    },
    {
     "name": "stdout",
     "output_type": "stream",
     "text": [
      "Los niveles de exhaustividad para cada texto son: \n",
      "Texto 1: 100.00 % |  Texto 2: 33.33 % |  Texto 3: 33.33 %\n",
      "La/Las clases que se han confundido con la consulta son:\n",
      "comp.graphics\n",
      "comp.sys.mac.hardware\n",
      "talk.politics.guns\n"
     ]
    },
    {
     "data": {
      "text/markdown": [
       "#### __Clase a consultar: sci.electronics__"
      ],
      "text/plain": [
       "<IPython.core.display.Markdown object>"
      ]
     },
     "metadata": {},
     "output_type": "display_data"
    },
    {
     "name": "stdout",
     "output_type": "stream",
     "text": [
      "Los niveles de exhaustividad para cada texto son: \n",
      "Texto 1: 0.00 % |  Texto 2: 33.33 % |  Texto 3: 100.00 %\n",
      "La/Las clases que se han confundido con la consulta son:\n",
      "comp.sys.ibm.pc.hardware\n",
      "comp.sys.mac.hardware\n",
      "comp.windows.x\n",
      "talk.politics.guns\n"
     ]
    },
    {
     "data": {
      "text/markdown": [
       "#### __Clase a consultar: sci.med__"
      ],
      "text/plain": [
       "<IPython.core.display.Markdown object>"
      ]
     },
     "metadata": {},
     "output_type": "display_data"
    },
    {
     "name": "stdout",
     "output_type": "stream",
     "text": [
      "Los niveles de exhaustividad para cada texto son: \n",
      "Texto 1: 100.00 % |  Texto 2: 33.33 % |  Texto 3: 100.00 %\n",
      "La/Las clases que se han confundido con la consulta son:\n",
      "soc.religion.christian\n"
     ]
    },
    {
     "data": {
      "text/markdown": [
       "#### __Clase a consultar: sci.space__"
      ],
      "text/plain": [
       "<IPython.core.display.Markdown object>"
      ]
     },
     "metadata": {},
     "output_type": "display_data"
    },
    {
     "name": "stdout",
     "output_type": "stream",
     "text": [
      "Los niveles de exhaustividad para cada texto son: \n",
      "Texto 1: 100.00 % |  Texto 2: 100.00 % |  Texto 3: 100.00 %\n",
      "No se ha confundido con ninguna otra clase\n"
     ]
    },
    {
     "data": {
      "text/markdown": [
       "#### __Clase a consultar: soc.religion.christian__"
      ],
      "text/plain": [
       "<IPython.core.display.Markdown object>"
      ]
     },
     "metadata": {},
     "output_type": "display_data"
    },
    {
     "name": "stdout",
     "output_type": "stream",
     "text": [
      "Los niveles de exhaustividad para cada texto son: \n",
      "Texto 1: 100.00 % |  Texto 2: 33.33 % |  Texto 3: 100.00 %\n",
      "La/Las clases que se han confundido con la consulta son:\n",
      "comp.graphics\n",
      "talk.politics.guns\n"
     ]
    },
    {
     "data": {
      "text/markdown": [
       "#### __Clase a consultar: talk.politics.guns__"
      ],
      "text/plain": [
       "<IPython.core.display.Markdown object>"
      ]
     },
     "metadata": {},
     "output_type": "display_data"
    },
    {
     "name": "stdout",
     "output_type": "stream",
     "text": [
      "Los niveles de exhaustividad para cada texto son: \n",
      "Texto 1: 66.67 % |  Texto 2: 66.67 % |  Texto 3: 66.67 %\n",
      "La/Las clases que se han confundido con la consulta son:\n",
      "sci.crypt\n",
      "talk.politics.mideast\n",
      "talk.religion.misc\n"
     ]
    },
    {
     "data": {
      "text/markdown": [
       "#### __Clase a consultar: talk.politics.mideast__"
      ],
      "text/plain": [
       "<IPython.core.display.Markdown object>"
      ]
     },
     "metadata": {},
     "output_type": "display_data"
    },
    {
     "name": "stdout",
     "output_type": "stream",
     "text": [
      "Los niveles de exhaustividad para cada texto son: \n",
      "Texto 1: 33.33 % |  Texto 2: 100.00 % |  Texto 3: 100.00 %\n",
      "La/Las clases que se han confundido con la consulta son:\n",
      "alt.atheism\n",
      "sci.crypt\n"
     ]
    },
    {
     "data": {
      "text/markdown": [
       "#### __Clase a consultar: talk.politics.misc__"
      ],
      "text/plain": [
       "<IPython.core.display.Markdown object>"
      ]
     },
     "metadata": {},
     "output_type": "display_data"
    },
    {
     "name": "stdout",
     "output_type": "stream",
     "text": [
      "Los niveles de exhaustividad para cada texto son: \n",
      "Texto 1: 33.33 % |  Texto 2: 100.00 % |  Texto 3: 66.67 %\n",
      "La/Las clases que se han confundido con la consulta son:\n",
      "talk.politics.guns\n"
     ]
    },
    {
     "data": {
      "text/markdown": [
       "#### __Clase a consultar: talk.religion.misc__"
      ],
      "text/plain": [
       "<IPython.core.display.Markdown object>"
      ]
     },
     "metadata": {},
     "output_type": "display_data"
    },
    {
     "name": "stdout",
     "output_type": "stream",
     "text": [
      "Los niveles de exhaustividad para cada texto son: \n",
      "Texto 1: 0.00 % |  Texto 2: 0.00 % |  Texto 3: 100.00 %\n",
      "La/Las clases que se han confundido con la consulta son:\n",
      "alt.atheism\n",
      "comp.graphics\n",
      "misc.forsale\n",
      "soc.religion.christian\n",
      "talk.politics.misc\n",
      "-----------------------------------------------\n"
     ]
    },
    {
     "data": {
      "text/markdown": [
       "##### ***Precisión media de las 20 clases:***"
      ],
      "text/plain": [
       "<IPython.core.display.Markdown object>"
      ]
     },
     "metadata": {},
     "output_type": "display_data"
    },
    {
     "data": {
      "text/markdown": [
       "22.22% precisión media para la clase ***alt.atheism***"
      ],
      "text/plain": [
       "<IPython.core.display.Markdown object>"
      ]
     },
     "metadata": {},
     "output_type": "display_data"
    },
    {
     "data": {
      "text/markdown": [
       "11.11% precisión media para la clase ***comp.graphics***"
      ],
      "text/plain": [
       "<IPython.core.display.Markdown object>"
      ]
     },
     "metadata": {},
     "output_type": "display_data"
    },
    {
     "data": {
      "text/markdown": [
       "11.11% precisión media para la clase ***comp.os.ms-windows.misc***"
      ],
      "text/plain": [
       "<IPython.core.display.Markdown object>"
      ]
     },
     "metadata": {},
     "output_type": "display_data"
    },
    {
     "data": {
      "text/markdown": [
       "66.67% precisión media para la clase ***comp.sys.ibm.pc.hardware***"
      ],
      "text/plain": [
       "<IPython.core.display.Markdown object>"
      ]
     },
     "metadata": {},
     "output_type": "display_data"
    },
    {
     "data": {
      "text/markdown": [
       "33.33% precisión media para la clase ***comp.sys.mac.hardware***"
      ],
      "text/plain": [
       "<IPython.core.display.Markdown object>"
      ]
     },
     "metadata": {},
     "output_type": "display_data"
    },
    {
     "data": {
      "text/markdown": [
       "33.33% precisión media para la clase ***comp.windows.x***"
      ],
      "text/plain": [
       "<IPython.core.display.Markdown object>"
      ]
     },
     "metadata": {},
     "output_type": "display_data"
    },
    {
     "data": {
      "text/markdown": [
       "44.44% precisión media para la clase ***misc.forsale***"
      ],
      "text/plain": [
       "<IPython.core.display.Markdown object>"
      ]
     },
     "metadata": {},
     "output_type": "display_data"
    },
    {
     "data": {
      "text/markdown": [
       "44.44% precisión media para la clase ***rec.autos***"
      ],
      "text/plain": [
       "<IPython.core.display.Markdown object>"
      ]
     },
     "metadata": {},
     "output_type": "display_data"
    },
    {
     "data": {
      "text/markdown": [
       "77.78% precisión media para la clase ***rec.motorcycles***"
      ],
      "text/plain": [
       "<IPython.core.display.Markdown object>"
      ]
     },
     "metadata": {},
     "output_type": "display_data"
    },
    {
     "data": {
      "text/markdown": [
       "100.00% precisión media para la clase ***rec.sport.baseball***"
      ],
      "text/plain": [
       "<IPython.core.display.Markdown object>"
      ]
     },
     "metadata": {},
     "output_type": "display_data"
    },
    {
     "data": {
      "text/markdown": [
       "100.00% precisión media para la clase ***rec.sport.hockey***"
      ],
      "text/plain": [
       "<IPython.core.display.Markdown object>"
      ]
     },
     "metadata": {},
     "output_type": "display_data"
    },
    {
     "data": {
      "text/markdown": [
       "55.56% precisión media para la clase ***sci.crypt***"
      ],
      "text/plain": [
       "<IPython.core.display.Markdown object>"
      ]
     },
     "metadata": {},
     "output_type": "display_data"
    },
    {
     "data": {
      "text/markdown": [
       "44.44% precisión media para la clase ***sci.electronics***"
      ],
      "text/plain": [
       "<IPython.core.display.Markdown object>"
      ]
     },
     "metadata": {},
     "output_type": "display_data"
    },
    {
     "data": {
      "text/markdown": [
       "77.78% precisión media para la clase ***sci.med***"
      ],
      "text/plain": [
       "<IPython.core.display.Markdown object>"
      ]
     },
     "metadata": {},
     "output_type": "display_data"
    },
    {
     "data": {
      "text/markdown": [
       "100.00% precisión media para la clase ***sci.space***"
      ],
      "text/plain": [
       "<IPython.core.display.Markdown object>"
      ]
     },
     "metadata": {},
     "output_type": "display_data"
    },
    {
     "data": {
      "text/markdown": [
       "77.78% precisión media para la clase ***soc.religion.christian***"
      ],
      "text/plain": [
       "<IPython.core.display.Markdown object>"
      ]
     },
     "metadata": {},
     "output_type": "display_data"
    },
    {
     "data": {
      "text/markdown": [
       "66.67% precisión media para la clase ***talk.politics.guns***"
      ],
      "text/plain": [
       "<IPython.core.display.Markdown object>"
      ]
     },
     "metadata": {},
     "output_type": "display_data"
    },
    {
     "data": {
      "text/markdown": [
       "77.78% precisión media para la clase ***talk.politics.mideast***"
      ],
      "text/plain": [
       "<IPython.core.display.Markdown object>"
      ]
     },
     "metadata": {},
     "output_type": "display_data"
    },
    {
     "data": {
      "text/markdown": [
       "66.67% precisión media para la clase ***talk.politics.misc***"
      ],
      "text/plain": [
       "<IPython.core.display.Markdown object>"
      ]
     },
     "metadata": {},
     "output_type": "display_data"
    },
    {
     "data": {
      "text/markdown": [
       "33.33% precisión media para la clase ***talk.religion.misc***"
      ],
      "text/plain": [
       "<IPython.core.display.Markdown object>"
      ]
     },
     "metadata": {},
     "output_type": "display_data"
    }
   ],
   "source": [
    "#Con un nivel de exhaustividad 3 con TfidfTransformer\n",
    "printmd(\"### Con TfidfTransformer y nivel 3 de exhaustividad\")\n",
    "printmd(\"---\")\n",
    "Apartado2(3, True)"
   ]
  },
  {
   "cell_type": "markdown",
   "metadata": {},
   "source": [
    "#### ¿Han cambiado los valores de precisión media para las clases del conjunto de datos? ¿Qué clases han mejorado? ¿Cuáles han empeorado?\n",
    "Han cambaido los valores respecto a la precisión media. Las clases que hay una mejora considerable son \"rec.sport.baseball\", \"rec.sport.hockey\" y \"sci.space\". \n",
    "Las clases que se han visto reducido un poco la precisión media son las relacionadas con la politica. \n",
    "Mientras que las clases relacionadas con la tecnologia han fluctuado un poco algunas han subido mienstras que otras han bajado."
   ]
  },
  {
   "cell_type": "markdown",
   "metadata": {},
   "source": [
    "#### Encuentra una consulta donde el uso de la ponderación TF-IDF haya sido efectivo y haya mejorado los resultados. Explica por qué ha sido efectivo.\n",
    "La clase \"rec.sport.baseball\" ha alcanzado un 100%, esto quiere decir que los 3 textos han servido para hallar coincidencias. Esto puede ser debido a que al utilizar la ponderación TF-IDF se ha reducido las palabras corrientes en el vocavulario local debido a su frecuente aparición(les ha quitado peso) haciendo que otras más especificas relacionadas con el tema a tratar tenga mucho más peso haciendo que sean palabras más discriminantes"
   ]
  },
  {
   "cell_type": "code",
   "execution_count": 128,
   "metadata": {},
   "outputs": [],
   "source": [
    "#Con un nivel de exhaustividad 10 con TfidfTransformer\n",
    "#Apartado1(10, True) #Descomentar para ver resultados "
   ]
  },
  {
   "cell_type": "code",
   "execution_count": null,
   "metadata": {},
   "outputs": [],
   "source": [
    "#printmd(\"### Con TfidfTransformer y nivel 10 de exhaustividad\")\n",
    "#printmd(\"---\")\n",
    "#Apartado2(10, True)\n",
    "#Descomentar para ver los resultados"
   ]
  }
 ],
 "metadata": {
  "kernelspec": {
   "display_name": "Python 3",
   "language": "python",
   "name": "python3"
  },
  "language_info": {
   "codemirror_mode": {
    "name": "ipython",
    "version": 3
   },
   "file_extension": ".py",
   "mimetype": "text/x-python",
   "name": "python",
   "nbconvert_exporter": "python",
   "pygments_lexer": "ipython3",
   "version": "3.7.4"
  }
 },
 "nbformat": 4,
 "nbformat_minor": 4
}
