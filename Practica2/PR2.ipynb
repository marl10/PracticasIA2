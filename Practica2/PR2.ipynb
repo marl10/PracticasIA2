{
 "cells": [
  {
   "cell_type": "markdown",
   "metadata": {},
   "source": [
    "# Parte 1. Análisis de sentimiento"
   ]
  },
  {
   "cell_type": "markdown",
   "metadata": {},
   "source": [
    "## Apartado a)"
   ]
  },
  {
   "cell_type": "code",
   "execution_count": 1,
   "metadata": {},
   "outputs": [],
   "source": [
    "from sklearn.feature_extraction.text import CountVectorizer\n",
    "from sklearn.feature_extraction.text import TfidfTransformer\n",
    "from sklearn.pipeline import Pipeline\n",
    "from sklearn.naive_bayes import BernoulliNB\n",
    "from sklearn.model_selection import train_test_split\n",
    "\n",
    "from sklearn import tree\n",
    "from sklearn import metrics\n",
    "\n",
    "\n",
    "file = open(\"yelp_labelled.txt\")\n",
    "\n",
    "corpus = file.readlines() \n",
    "\n",
    "data = []\n",
    "result = []\n",
    "for i in range(len(corpus)):\n",
    "    data.append(corpus[i].split(\"\\t\")[0])\n",
    "    result.append(int(corpus[i].split(\"\\t\")[1].split(\"\\n\")[0]))\n",
    "               \n",
    "train, test, y_train, y_test = train_test_split(data, result, test_size=0.25, random_state=11) "
   ]
  },
  {
   "cell_type": "code",
   "execution_count": 2,
   "metadata": {},
   "outputs": [],
   "source": [
    "clasificadores = [] #para guardar los resultados"
   ]
  },
  {
   "cell_type": "markdown",
   "metadata": {},
   "source": [
    "### Bolsa de palabras binaria con monograma"
   ]
  },
  {
   "cell_type": "code",
   "execution_count": 3,
   "metadata": {},
   "outputs": [],
   "source": [
    "vectorBM = CountVectorizer(binary = True, ngram_range = (1,1), stop_words = \"english\")\n",
    "vectorBMarr = vectorBM.fit_transform(train).toarray()\n",
    "\n",
    "#para debugear\n",
    "#print(vectorBM.fit_transform(train).toarray())\n",
    "#print(vectorBM.get_feature_names())\n",
    "\n"
   ]
  },
  {
   "cell_type": "markdown",
   "metadata": {},
   "source": [
    "#### Clasificador NaiveBayes"
   ]
  },
  {
   "cell_type": "code",
   "execution_count": 4,
   "metadata": {},
   "outputs": [
    {
     "name": "stdout",
     "output_type": "stream",
     "text": [
      "Accuracy: 0.736\n"
     ]
    }
   ],
   "source": [
    "cnb = BernoulliNB()\n",
    "cnb.fit(vectorBMarr, y_train)\n",
    "\n",
    "y_result = cnb.predict(vectorBM.transform(test))\n",
    "\n",
    "print(\"Accuracy:\",metrics.accuracy_score(y_test, y_result))\n",
    "clasificadores.append((\"NB binario con monograma:\",metrics.accuracy_score(y_test, y_result)))"
   ]
  },
  {
   "cell_type": "markdown",
   "metadata": {},
   "source": [
    "#### Árbol de decisión"
   ]
  },
  {
   "cell_type": "code",
   "execution_count": 5,
   "metadata": {},
   "outputs": [
    {
     "name": "stdout",
     "output_type": "stream",
     "text": [
      "Accuracy: 0.708\n"
     ]
    }
   ],
   "source": [
    "cad = tree.DecisionTreeClassifier()\n",
    "cad = cad.fit(vectorBMarr,y_train)\n",
    "\n",
    "y_result = cad.predict(vectorBM.transform(test))\n",
    "                       \n",
    "print(\"Accuracy:\",metrics.accuracy_score(y_test, y_result))\n",
    "clasificadores.append((\"AD binario con monograma:\",metrics.accuracy_score(y_test, y_result)))"
   ]
  },
  {
   "cell_type": "markdown",
   "metadata": {},
   "source": [
    "### Bolsa de palabras binaria con bigrama"
   ]
  },
  {
   "cell_type": "code",
   "execution_count": 6,
   "metadata": {},
   "outputs": [],
   "source": [
    "vectorBB = CountVectorizer(binary = True, ngram_range = (1,2), stop_words = \"english\")\n",
    "vectorBBarr = vectorBB.fit_transform(train).toarray()"
   ]
  },
  {
   "cell_type": "markdown",
   "metadata": {},
   "source": [
    "#### Clasificador NaiveBayes"
   ]
  },
  {
   "cell_type": "code",
   "execution_count": 7,
   "metadata": {},
   "outputs": [
    {
     "name": "stdout",
     "output_type": "stream",
     "text": [
      "Accuracy: 0.744\n"
     ]
    }
   ],
   "source": [
    "cnb = BernoulliNB()\n",
    "cnb.fit(vectorBBarr, y_train)\n",
    "\n",
    "y_result = cnb.predict(vectorBB.transform(test))\n",
    "\n",
    "print(\"Accuracy:\",metrics.accuracy_score(y_test, y_result))\n",
    "clasificadores.append((\"NB binario con bigrama:\",metrics.accuracy_score(y_test, y_result)))"
   ]
  },
  {
   "cell_type": "markdown",
   "metadata": {},
   "source": [
    "#### Árbol de decisión"
   ]
  },
  {
   "cell_type": "code",
   "execution_count": 8,
   "metadata": {},
   "outputs": [
    {
     "name": "stdout",
     "output_type": "stream",
     "text": [
      "Accuracy: 0.716\n"
     ]
    }
   ],
   "source": [
    "cad = tree.DecisionTreeClassifier()\n",
    "cad = cad.fit(vectorBBarr,y_train)\n",
    "\n",
    "y_result = cad.predict(vectorBB.transform(test))\n",
    "                       \n",
    "print(\"Accuracy:\",metrics.accuracy_score(y_test, y_result))\n",
    "clasificadores.append((\"AD binario con bigrama:\",metrics.accuracy_score(y_test, y_result)))"
   ]
  },
  {
   "cell_type": "markdown",
   "metadata": {},
   "source": [
    "### Bolsa de palabras TF/IDF con monograma"
   ]
  },
  {
   "cell_type": "code",
   "execution_count": 9,
   "metadata": {},
   "outputs": [],
   "source": [
    "vectorNBM = CountVectorizer(binary = False, ngram_range = (1,1), stop_words = \"english\")\n",
    "\n",
    "pipe = Pipeline([('count', vectorNBM),('tfid', TfidfTransformer())]).fit(train)\n",
    "pipe['count'].transform(train).toarray()\n",
    "\n",
    "pipe['tfid'].idf_\n",
    "\n",
    "vectorNBMarr = pipe.transform(train).toarray()"
   ]
  },
  {
   "cell_type": "markdown",
   "metadata": {},
   "source": [
    "#### Clasificador NaiveBayes"
   ]
  },
  {
   "cell_type": "code",
   "execution_count": 10,
   "metadata": {},
   "outputs": [
    {
     "name": "stdout",
     "output_type": "stream",
     "text": [
      "Accuracy: 0.736\n"
     ]
    }
   ],
   "source": [
    "cnb = BernoulliNB()\n",
    "cnb.fit(vectorNBMarr, y_train)\n",
    "\n",
    "y_result = cnb.predict(vectorNBM.transform(test))\n",
    "\n",
    "print(\"Accuracy:\",metrics.accuracy_score(y_test, y_result))\n",
    "clasificadores.append((\"NB TFIDF con monograma:\",metrics.accuracy_score(y_test, y_result)))"
   ]
  },
  {
   "cell_type": "markdown",
   "metadata": {},
   "source": [
    "#### Árbol de decisión"
   ]
  },
  {
   "cell_type": "code",
   "execution_count": 11,
   "metadata": {},
   "outputs": [
    {
     "name": "stdout",
     "output_type": "stream",
     "text": [
      "Accuracy: 0.704\n"
     ]
    }
   ],
   "source": [
    "cad = tree.DecisionTreeClassifier()\n",
    "cad = cad.fit(vectorNBMarr,y_train)\n",
    "\n",
    "y_result = cad.predict(vectorNBM.transform(test))\n",
    "                       \n",
    "print(\"Accuracy:\",metrics.accuracy_score(y_test, y_result))\n",
    "clasificadores.append((\"AD TFIDF con monograma:\",metrics.accuracy_score(y_test, y_result)))"
   ]
  },
  {
   "cell_type": "markdown",
   "metadata": {},
   "source": [
    "### Bolsa de palabras TF/IDF con bigrama"
   ]
  },
  {
   "cell_type": "code",
   "execution_count": 12,
   "metadata": {},
   "outputs": [],
   "source": [
    "vectorNBB = CountVectorizer(train, binary = False, ngram_range = (1,2), stop_words = \"english\")\n",
    "\n",
    "pipe = Pipeline([('count', vectorNBB),('tfid', TfidfTransformer())]).fit(train)\n",
    "pipe['count'].transform(train).toarray()\n",
    "\n",
    "pipe['tfid'].idf_\n",
    "\n",
    "vectorNBBarr = pipe.transform(train).toarray()"
   ]
  },
  {
   "cell_type": "markdown",
   "metadata": {},
   "source": [
    "#### Clasificador NaiveBayes"
   ]
  },
  {
   "cell_type": "code",
   "execution_count": 13,
   "metadata": {},
   "outputs": [
    {
     "name": "stdout",
     "output_type": "stream",
     "text": [
      "Accuracy: 0.744\n"
     ]
    }
   ],
   "source": [
    "cnb = BernoulliNB()\n",
    "cnb.fit(vectorNBBarr, y_train)\n",
    "\n",
    "y_result = cnb.predict(vectorNBB.transform(test))\n",
    "\n",
    "print(\"Accuracy:\",metrics.accuracy_score(y_test, y_result))\n",
    "clasificadores.append((\"NB TFIDF con bigrama:\",metrics.accuracy_score(y_test, y_result)))"
   ]
  },
  {
   "cell_type": "markdown",
   "metadata": {},
   "source": [
    "#### Árbol de decisión"
   ]
  },
  {
   "cell_type": "code",
   "execution_count": 14,
   "metadata": {},
   "outputs": [
    {
     "name": "stdout",
     "output_type": "stream",
     "text": [
      "Accuracy: 0.74\n"
     ]
    }
   ],
   "source": [
    "cad = tree.DecisionTreeClassifier()\n",
    "cad = cad.fit(vectorNBBarr,y_train)\n",
    "\n",
    "y_result = cad.predict(vectorNBB.transform(test))\n",
    "                       \n",
    "print(\"Accuracy:\",metrics.accuracy_score(y_test, y_result))\n",
    "clasificadores.append((\"AD TFIDF con bigrama:\",metrics.accuracy_score(y_test, y_result)))"
   ]
  },
  {
   "cell_type": "markdown",
   "metadata": {},
   "source": [
    "#### Resultados"
   ]
  },
  {
   "cell_type": "code",
   "execution_count": 15,
   "metadata": {},
   "outputs": [
    {
     "data": {
      "text/plain": [
       "[('NB binario con bigrama:', 0.744),\n",
       " ('NB TFIDF con bigrama:', 0.744),\n",
       " ('AD TFIDF con bigrama:', 0.74),\n",
       " ('NB binario con monograma:', 0.736),\n",
       " ('NB TFIDF con monograma:', 0.736),\n",
       " ('AD binario con bigrama:', 0.716),\n",
       " ('AD binario con monograma:', 0.708),\n",
       " ('AD TFIDF con monograma:', 0.704)]"
      ]
     },
     "execution_count": 15,
     "metadata": {},
     "output_type": "execute_result"
    }
   ],
   "source": [
    "sorted(clasificadores ,key = lambda x : x[1], reverse = True)"
   ]
  },
  {
   "cell_type": "markdown",
   "metadata": {},
   "source": [
    "## 1.Analiza la precisión y la exhaustividad de cada clasificador en cada una de las clases (opiniones positivas y negativas). "
   ]
  },
  {
   "cell_type": "code",
   "execution_count": 16,
   "metadata": {},
   "outputs": [],
   "source": [
    "#lista.count(\"item\") devuelve nummero de veces aparece item en lista\n",
    "\n",
    "#Precision: de todos los clasificados, cuantos son reales\n",
    "#reales ^ identificados por clasificador / identificados por clasificador \n",
    "\n",
    "\n",
    "\n",
    "#Exhaustividad: de todos los reales, cuantos ha recuperado\n",
    "#reales ^ identificados por clasificador / reales"
   ]
  },
  {
   "cell_type": "markdown",
   "metadata": {},
   "source": [
    "### Para cada clasificador, ¿tiene un comportamiento homogéneo a la hora de clasificar ambas clases? "
   ]
  },
  {
   "cell_type": "code",
   "execution_count": null,
   "metadata": {},
   "outputs": [],
   "source": []
  },
  {
   "cell_type": "markdown",
   "metadata": {},
   "source": [
    "### ¿Cuáles son las fortalezas y debilidades de cada uno de los clasificadores? "
   ]
  },
  {
   "cell_type": "code",
   "execution_count": null,
   "metadata": {},
   "outputs": [],
   "source": []
  },
  {
   "cell_type": "markdown",
   "metadata": {},
   "source": [
    "### ¿Hay algún clasificador que sea mejor que el otro en todo?  "
   ]
  },
  {
   "cell_type": "code",
   "execution_count": null,
   "metadata": {},
   "outputs": [],
   "source": []
  },
  {
   "cell_type": "markdown",
   "metadata": {},
   "source": [
    "### ¿Coinciden ambos clasificadores a la hora de clasificar mejor una clase que la otra? "
   ]
  },
  {
   "cell_type": "code",
   "execution_count": null,
   "metadata": {},
   "outputs": [],
   "source": []
  },
  {
   "cell_type": "markdown",
   "metadata": {},
   "source": [
    "## Pinta los 8 primeros niveles del árbol de decisión y comenta lo que ves. "
   ]
  },
  {
   "cell_type": "code",
   "execution_count": 17,
   "metadata": {},
   "outputs": [],
   "source": [
    "from sklearn.tree import plot_tree\n",
    "import matplotlib.pyplot as plt\n",
    "#plt.figure(figsize=(15,15))\n",
    "#plot_tree(cad, filled=True, feature_names=vectorBM.get_feature_names(), rounded=True, max_depth = 8)\n",
    "#plt.show()"
   ]
  },
  {
   "cell_type": "markdown",
   "metadata": {},
   "source": [
    "### ¿Qué estructura tiene el árbol? "
   ]
  },
  {
   "cell_type": "markdown",
   "metadata": {},
   "source": [
    "### ¿Cómo interpretas los niveles que has pintado? ¿tienen algún sentido con respecto a la tasa de aciertos, o la precisión y exhaustividad del clasificador? "
   ]
  },
  {
   "cell_type": "markdown",
   "metadata": {},
   "source": [
    "### ¿Hay nodos impuros? "
   ]
  },
  {
   "cell_type": "code",
   "execution_count": null,
   "metadata": {},
   "outputs": [],
   "source": []
  },
  {
   "cell_type": "markdown",
   "metadata": {},
   "source": [
    "##  Por cada clasificador identifica 2 críticas que hayan sido falsas positivas (malas críticas calificadas como buenas) y 2 críticas que han sido falsas negativas (buenas críticas clasificadas como malas). Analiza tanto su texto original, como el vector de palabras resultante (solamente los términos activos)."
   ]
  },
  {
   "cell_type": "markdown",
   "metadata": {},
   "source": [
    "### ¿Por qué crees que ha fallado el clasificador en cada uno de los casos? "
   ]
  },
  {
   "cell_type": "markdown",
   "metadata": {},
   "source": [
    "### ¿Se te ocurre alguna idea sobre cómo mejorar el clasificador de sentimiento?"
   ]
  }
 ],
 "metadata": {
  "kernelspec": {
   "display_name": "Python 3",
   "language": "python",
   "name": "python3"
  },
  "language_info": {
   "codemirror_mode": {
    "name": "ipython",
    "version": 3
   },
   "file_extension": ".py",
   "mimetype": "text/x-python",
   "name": "python",
   "nbconvert_exporter": "python",
   "pygments_lexer": "ipython3",
   "version": "3.8.2"
  }
 },
 "nbformat": 4,
 "nbformat_minor": 4
}
