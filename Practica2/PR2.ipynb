{
 "cells": [
  {
   "cell_type": "markdown",
   "metadata": {},
   "source": [
    "# Parte 1. Análisis de sentimiento"
   ]
  },
  {
   "cell_type": "markdown",
   "metadata": {},
   "source": [
    "---\n",
    "## Apartado a)\n",
    "---"
   ]
  },
  {
   "cell_type": "code",
   "execution_count": 159,
   "metadata": {},
   "outputs": [],
   "source": [
    "from sklearn.feature_extraction.text import CountVectorizer\n",
    "from sklearn.model_selection import train_test_split\n",
    "from sklearn import metrics\n",
    "import pandas as pd\n",
    "import matplotlib.pyplot as plt\n",
    "from sklearn.metrics import confusion_matrix\n",
    "from sklearn.metrics import classification_report \n",
    "\n",
    "#---------------------------\n",
    "# NAive Bayes \n",
    "#---------------------------\n",
    "from sklearn.naive_bayes import BernoulliNB\n",
    "# Util para clasificar documentos cortos\n",
    "from sklearn.naive_bayes import MultinomialNB\n",
    "\n",
    "\n",
    "from sklearn.tree import DecisionTreeClassifier\n"
   ]
  },
  {
   "cell_type": "code",
   "execution_count": 642,
   "metadata": {},
   "outputs": [],
   "source": [
    "file = open(\"./Datos/yelp_labelled.txt\")\n",
    "dic = {'data':[], 'target':[]}\n",
    "target_names = [\"Negativos\", \"Positivos\"]\n",
    "\n",
    "corpus = file.readlines() \n",
    "\n",
    "for i in range (len(corpus)): \n",
    "    dic.get('data').append(corpus[i].split(\"\\t\")[0]) #agrega solo las frase\n",
    "    #[0] ya que divide en una lista de dos elementos y queremos coger donde esta la frase \n",
    "    #[1] esta el numero \n",
    "    n = int(corpus[i].split(\"\\t\")[1].split(\"\\n\")[0])\n",
    "    dic.get('target').append(n)\n",
    "    \n",
    "    #cogemos el numero, al hacer una nueva separacion nos devuelve una lista cons dos elementos \n",
    "    #el numero esta en la pos 0 \n",
    "X_train, x_test, y_train, y_test = train_test_split(\n",
    "    dic.get('data'), dic.get('target'), test_size = 0.25,  random_state=42)"
   ]
  },
  {
   "cell_type": "code",
   "execution_count": 567,
   "metadata": {},
   "outputs": [],
   "source": [
    "clasificadoresNB = [] \n",
    "clasificadoresAD = []"
   ]
  },
  {
   "cell_type": "code",
   "execution_count": 568,
   "metadata": {},
   "outputs": [],
   "source": [
    "#Orden de datos:  \n",
    "\n",
    "#reportNB[0] = Nombre de algoritmo y bolsa  \n",
    "#reportNB[1] = Exactitud \n",
    "#reportNB[2] = Recall\n",
    "#reportNB[3] = Especificidad\n",
    "#reportNB[4] = Matriz de confusion \n",
    "#reportNB[5] = Reporte de medidas'\n",
    "#reportNB[6] = Algoritmo\n",
    "#reportNB[7] = prediccion test "
   ]
  },
  {
   "cell_type": "code",
   "execution_count": 569,
   "metadata": {},
   "outputs": [],
   "source": [
    "df_NB = pd.DataFrame({'Nombre': [], 'Exactitud': [], 'Recall': [], 'Especificidad': []})\n",
    "df_AD = pd.DataFrame({'Nombre': [], 'Exactitud': [], 'Recall': [], 'Especificidad': []})"
   ]
  },
  {
   "cell_type": "markdown",
   "metadata": {},
   "source": [
    "***\n",
    "### Bolsa de palabras binaria con monograma\n"
   ]
  },
  {
   "cell_type": "code",
   "execution_count": 570,
   "metadata": {},
   "outputs": [],
   "source": [
    "#PRIMERO: \n",
    "#Obtenemos la frecuencia de palabras, mediante el diccionario estandar\n",
    "vecBM = CountVectorizer(stop_words = \"english\", binary = True, ngram_range = (1,1))\n",
    "train_vec_data = vecBM.fit_transform(X_train) # SOLO para conjunto de entrenamiento \n",
    "\n",
    "test_vec_data = vecBM.transform(x_test)"
   ]
  },
  {
   "cell_type": "markdown",
   "metadata": {},
   "source": [
    "#### ***Clasificador NaiveBayes***"
   ]
  },
  {
   "cell_type": "code",
   "execution_count": 571,
   "metadata": {},
   "outputs": [
    {
     "name": "stdout",
     "output_type": "stream",
     "text": [
      "Accuracy train:  0.948\n",
      "Accuracy test:  0.78\n"
     ]
    }
   ],
   "source": [
    "algoritmo = BernoulliNB()\n",
    "\n",
    "#Entrenamos al modelo \n",
    "algoritmo.fit(train_vec_data, y_train)\n",
    "\n",
    "#Realizo una prediccion \n",
    "#Importante: transform SOLO para conjunto de test \n",
    "y_pred_train = algoritmo.predict(train_vec_data)\n",
    "y_pred_test = algoritmo.predict(test_vec_data)\n",
    "\n",
    "\n",
    "accuracy_train = metrics.accuracy_score(y_train, y_pred_train)\n",
    "accuracy_test = metrics.accuracy_score(y_test, y_pred_test)\n",
    "\n",
    "matriz = confusion_matrix(y_test, y_pred_test)\n",
    "accuracy = metrics.accuracy_score(y_test, y_pred_test)\n",
    "report = classification_report(y_test, y_pred_test)\n",
    "\n",
    "precision = metrics.precision_score(y_test, y_pred_test)\n",
    "recall = metrics.recall_score(y_test, y_pred_test)\n",
    "\n",
    "clasificadoresNB.append(\n",
    "    (\"NB binario con monograma:\",accuracy, recall,precision, matriz, report, algoritmo, y_pred_test))\n",
    "\n",
    "print(\"Accuracy train: \", accuracy_train)\n",
    "print(\"Accuracy test: \", accuracy_test)\n"
   ]
  },
  {
   "cell_type": "code",
   "execution_count": 572,
   "metadata": {},
   "outputs": [
    {
     "name": "stdout",
     "output_type": "stream",
     "text": [
      "Accuracy train:  0.9506666666666667\n",
      "Accuracy test:  0.764\n"
     ]
    }
   ],
   "source": [
    "from sklearn.naive_bayes import MultinomialNB\n",
    "\n",
    "algoritmo = MultinomialNB()\n",
    "\n",
    "#Entrenamos al modelo \n",
    "algoritmo.fit(train_vec_data, y_train)\n",
    "\n",
    "#Realizo una prediccion \n",
    "#Importante: transform SOLO para conjunto de test \n",
    "y_pred_train = algoritmo.predict(train_vec_data)\n",
    "y_pred_test = algoritmo.predict(test_vec_data)\n",
    "\n",
    "\n",
    "accuracy_train = metrics.accuracy_score(y_train, y_pred_train)\n",
    "accuracy_test = metrics.accuracy_score(y_test, y_pred_test)\n",
    "\n",
    "print(\"Accuracy train: \", accuracy_train)\n",
    "print(\"Accuracy test: \", accuracy_test)\n"
   ]
  },
  {
   "cell_type": "markdown",
   "metadata": {},
   "source": [
    "#### ***Árbol de decisión***"
   ]
  },
  {
   "cell_type": "code",
   "execution_count": 573,
   "metadata": {},
   "outputs": [
    {
     "name": "stdout",
     "output_type": "stream",
     "text": [
      "Accuracy train:  0.9626666666666667\n",
      "Accuracy test:  0.688\n"
     ]
    }
   ],
   "source": [
    "algoritmo = DecisionTreeClassifier(criterion=\"gini\", \n",
    "                                   splitter=\"best\",\n",
    "                                   min_samples_split=10,\n",
    "                                   max_leaf_nodes=None)\n",
    "#Entrenamos al modelo \n",
    "algoritmo.fit(train_vec_data, y_train)\n",
    "#Realizo una prediccion \n",
    "#Importante: transform SOLO para conjunto de test \n",
    "y_pred_train = algoritmo.predict(train_vec_data)\n",
    "y_pred_test = algoritmo.predict(test_vec_data)\n",
    "\n",
    "accuracy_train = metrics.accuracy_score(y_train, y_pred_train)\n",
    "accuracy_test = metrics.accuracy_score(y_test, y_pred_test)\n",
    "\n",
    "matriz = confusion_matrix(y_test, y_pred_test)\n",
    "accuracy = metrics.accuracy_score(y_test, y_pred_test)\n",
    "report = classification_report(y_test, y_pred_test)\n",
    "\n",
    "precision = metrics.precision_score(y_test, y_pred_test)\n",
    "recall = metrics.recall_score(y_test, y_pred_test)\n",
    "\n",
    "clasificadoresAD.append(\n",
    "    (\"AD binario con monograma:\",accuracy, recall,precision, matriz, report, algoritmo, y_pred_test))\n",
    "\n",
    "print(\"Accuracy train: \", accuracy_train)\n",
    "print(\"Accuracy test: \", accuracy_test)"
   ]
  },
  {
   "cell_type": "code",
   "execution_count": 574,
   "metadata": {},
   "outputs": [
    {
     "name": "stdout",
     "output_type": "stream",
     "text": [
      "Accuracy train:  0.9973333333333333\n",
      "Accuracy test:  0.688\n"
     ]
    }
   ],
   "source": [
    "algoritmo = DecisionTreeClassifier()\n",
    "#Entrenamos al modelo \n",
    "algoritmo.fit(train_vec_data, y_train)\n",
    "#Realizo una prediccion \n",
    "#Importante: transform SOLO para conjunto de test \n",
    "y_pred_train = algoritmo.predict(train_vec_data)\n",
    "y_pred_test = algoritmo.predict(test_vec_data)\n",
    "\n",
    "accuracy_train = metrics.accuracy_score(y_train, y_pred_train)\n",
    "accuracy_test = metrics.accuracy_score(y_test, y_pred_test)\n",
    "print(\"Accuracy train: \", accuracy_train)\n",
    "print(\"Accuracy test: \", accuracy_test)"
   ]
  },
  {
   "cell_type": "markdown",
   "metadata": {},
   "source": [
    "---\n",
    "### Bolsa de palabras binaria con bigrama"
   ]
  },
  {
   "cell_type": "code",
   "execution_count": 575,
   "metadata": {},
   "outputs": [],
   "source": [
    "vecBB = CountVectorizer(stop_words = \"english\", binary = True, ngram_range = (1,2))\n",
    "train_vec_data_bb = vecBB.fit_transform(X_train)\n",
    "\n",
    "test_vec_data_bb = vecBB.transform(x_test)"
   ]
  },
  {
   "cell_type": "markdown",
   "metadata": {},
   "source": [
    "#### ***Clasificador NaiveBayes***"
   ]
  },
  {
   "cell_type": "code",
   "execution_count": 576,
   "metadata": {},
   "outputs": [
    {
     "name": "stdout",
     "output_type": "stream",
     "text": [
      "Accuracy train:  0.9773333333333334\n",
      "Accuracy test:  0.78\n"
     ]
    }
   ],
   "source": [
    "algoritmo = BernoulliNB()\n",
    "\n",
    "#Entrenamos al modelo \n",
    "algoritmo.fit(train_vec_data_bb, y_train)\n",
    "\n",
    "#Realizo una prediccion \n",
    "#Importante: transform SOLO para conjunto de test \n",
    "y_pred_train = algoritmo.predict(train_vec_data_bb)\n",
    "y_pred_test = algoritmo.predict(test_vec_data_bb)\n",
    "\n",
    "\n",
    "accuracy_train = metrics.accuracy_score(y_train, y_pred_train)\n",
    "accuracy_test = metrics.accuracy_score(y_test, y_pred_test)\n",
    "\n",
    "matriz = confusion_matrix(y_test, y_pred_test)\n",
    "accuracy = metrics.accuracy_score(y_test, y_pred_test)\n",
    "report = classification_report(y_test, y_pred_test)\n",
    "\n",
    "precision = metrics.precision_score(y_test, y_pred_test)\n",
    "recall = metrics.recall_score(y_test, y_pred_test)\n",
    "\n",
    "clasificadoresNB.append(\n",
    "    (\"NB binario con bigrama:\",accuracy, recall,precision, matriz, report, algoritmo, y_pred_test))\n",
    "\n",
    "\n",
    "print(\"Accuracy train: \", accuracy_train)\n",
    "print(\"Accuracy test: \", accuracy_test)"
   ]
  },
  {
   "cell_type": "code",
   "execution_count": 577,
   "metadata": {},
   "outputs": [
    {
     "name": "stdout",
     "output_type": "stream",
     "text": [
      "Accuracy train:  0.9773333333333334\n",
      "Accuracy test:  0.772\n"
     ]
    }
   ],
   "source": [
    "algoritmo = MultinomialNB()\n",
    "\n",
    "#Entrenamos al modelo \n",
    "algoritmo.fit(train_vec_data_bb, y_train)\n",
    "\n",
    "#Realizo una prediccion \n",
    "#Importante: transform SOLO para conjunto de test \n",
    "y_pred_train = algoritmo.predict(train_vec_data_bb)\n",
    "y_pred_test = algoritmo.predict(test_vec_data_bb)\n",
    "\n",
    "\n",
    "accuracy_train = metrics.accuracy_score(y_train, y_pred_train)\n",
    "accuracy_test = metrics.accuracy_score(y_test, y_pred_test)\n",
    "\n",
    "print(\"Accuracy train: \", accuracy_train)\n",
    "print(\"Accuracy test: \", accuracy_test)\n"
   ]
  },
  {
   "cell_type": "markdown",
   "metadata": {},
   "source": [
    "#### ***Árbol de decisión*** "
   ]
  },
  {
   "cell_type": "code",
   "execution_count": 578,
   "metadata": {},
   "outputs": [
    {
     "name": "stdout",
     "output_type": "stream",
     "text": [
      "Accuracy train:  0.9733333333333334\n",
      "Accuracy test:  0.716\n"
     ]
    }
   ],
   "source": [
    "algoritmo = DecisionTreeClassifier(criterion=\"gini\", \n",
    "                                   splitter=\"best\",\n",
    "                                   min_samples_split=10,\n",
    "                                   max_leaf_nodes=None)\n",
    "#Entrenamos al modelo \n",
    "algoritmo.fit(train_vec_data_bb, y_train)\n",
    "#Realizo una prediccion \n",
    "#Importante: transform SOLO para conjunto de test \n",
    "y_pred_train = algoritmo.predict(train_vec_data_bb)\n",
    "y_pred_test = algoritmo.predict(test_vec_data_bb)\n",
    "\n",
    "accuracy_train = metrics.accuracy_score(y_train, y_pred_train)\n",
    "accuracy_test = metrics.accuracy_score(y_test, y_pred_test)\n",
    "\n",
    "matriz = confusion_matrix(y_test, y_pred_test)\n",
    "accuracy = metrics.accuracy_score(y_test, y_pred_test)\n",
    "report = classification_report(y_test, y_pred_test)\n",
    "\n",
    "precision = metrics.precision_score(y_test, y_pred_test)\n",
    "recall = metrics.recall_score(y_test, y_pred_test)\n",
    "\n",
    "clasificadoresAD.append(\n",
    "    (\"AD binario con bigrama:\",accuracy, recall,precision, matriz, report, algoritmo, y_pred_test))\n",
    "\n",
    "\n",
    "print(\"Accuracy train: \", accuracy_train)\n",
    "print(\"Accuracy test: \", accuracy_test)"
   ]
  },
  {
   "cell_type": "code",
   "execution_count": 579,
   "metadata": {},
   "outputs": [
    {
     "name": "stdout",
     "output_type": "stream",
     "text": [
      "Accuracy train:  0.9973333333333333\n",
      "Accuracy test:  0.7\n"
     ]
    }
   ],
   "source": [
    "algoritmo = DecisionTreeClassifier()\n",
    "#Entrenamos al modelo \n",
    "algoritmo.fit(train_vec_data_bb, y_train)\n",
    "#Realizo una prediccion \n",
    "#Importante: transform SOLO para conjunto de test \n",
    "y_pred_train = algoritmo.predict(train_vec_data_bb)\n",
    "y_pred_test = algoritmo.predict(test_vec_data_bb)\n",
    "\n",
    "accuracy_train = metrics.accuracy_score(y_train, y_pred_train)\n",
    "accuracy_test = metrics.accuracy_score(y_test, y_pred_test)\n",
    "print(\"Accuracy train: \", accuracy_train)\n",
    "print(\"Accuracy test: \", accuracy_test)"
   ]
  },
  {
   "cell_type": "markdown",
   "metadata": {},
   "source": [
    "----\n",
    "### Bolsa de palabras TF/IDF con monograma"
   ]
  },
  {
   "cell_type": "code",
   "execution_count": 580,
   "metadata": {},
   "outputs": [],
   "source": [
    "\n",
    "from sklearn.feature_extraction.text import CountVectorizer\n",
    "from sklearn.feature_extraction.text import TfidfTransformer"
   ]
  },
  {
   "cell_type": "markdown",
   "metadata": {},
   "source": [
    "#### ***Clasificador NaiveBayes***"
   ]
  },
  {
   "cell_type": "code",
   "execution_count": 581,
   "metadata": {},
   "outputs": [],
   "source": [
    "vec = CountVectorizer(stop_words = \"english\", binary = False, ngram_range = (1,1))\n",
    "train_vec_data = vec.fit_transform(X_train)\n",
    "tfidfer = TfidfTransformer()\n",
    "train_vecIDF = tfidfer.fit_transform(train_vec_data) # obtenemos el IDF \n",
    "\n"
   ]
  },
  {
   "cell_type": "code",
   "execution_count": 582,
   "metadata": {},
   "outputs": [],
   "source": [
    "test_vec_data = vec.transform(x_test)\n",
    "\n",
    "tes_vec_IDF = tfidfer.transform(test_vec_data)"
   ]
  },
  {
   "cell_type": "code",
   "execution_count": 583,
   "metadata": {},
   "outputs": [
    {
     "name": "stdout",
     "output_type": "stream",
     "text": [
      "Accuracy train:  0.948\n",
      "Accuracy test:  0.78\n"
     ]
    }
   ],
   "source": [
    "algoritmo = BernoulliNB()\n",
    "\n",
    "#Entrenamos al modelo \n",
    "algoritmo.fit(train_vecIDF, y_train)\n",
    "\n",
    "#Realizo una prediccion \n",
    "#Importante: transform SOLO para conjunto de test \n",
    "y_pred_train = algoritmo.predict(train_vecIDF)\n",
    "y_pred_test = algoritmo.predict(tes_vec_IDF)\n",
    "\n",
    "\n",
    "accuracy_train = metrics.accuracy_score(y_train, y_pred_train)\n",
    "accuracy_test = metrics.accuracy_score(y_test, y_pred_test)\n",
    "\n",
    "matriz = confusion_matrix(y_test, y_pred_test)\n",
    "accuracy = metrics.accuracy_score(y_test, y_pred_test)\n",
    "report = classification_report(y_test, y_pred_test)\n",
    "\n",
    "precision = metrics.precision_score(y_test, y_pred_test)\n",
    "recall = metrics.recall_score(y_test, y_pred_test)\n",
    "\n",
    "clasificadoresNB.append(\n",
    "    (\"NB TF/IDF con monograma:\",accuracy, recall,precision, matriz,report, algoritmo, y_pred_test))\n",
    "\n",
    "\n",
    "print(\"Accuracy train: \", accuracy_train)\n",
    "print(\"Accuracy test: \", accuracy_test)\n"
   ]
  },
  {
   "cell_type": "code",
   "execution_count": 584,
   "metadata": {},
   "outputs": [
    {
     "name": "stdout",
     "output_type": "stream",
     "text": [
      "Accuracy train:  0.9613333333333334\n",
      "Accuracy test:  0.772\n"
     ]
    }
   ],
   "source": [
    "algoritmo = MultinomialNB()\n",
    "\n",
    "#Entrenamos al modelo \n",
    "algoritmo.fit(train_vecIDF, y_train)\n",
    "\n",
    "#Realizo una prediccion \n",
    "#Importante: transform SOLO para conjunto de test \n",
    "y_pred_train = algoritmo.predict(train_vecIDF)\n",
    "y_pred_test = algoritmo.predict(tes_vec_IDF)\n",
    "\n",
    "\n",
    "accuracy_train = metrics.accuracy_score(y_train, y_pred_train)\n",
    "accuracy_test = metrics.accuracy_score(y_test, y_pred_test)\n",
    "\n",
    "print(\"Accuracy train: \", accuracy_train)\n",
    "print(\"Accuracy test: \", accuracy_test)\n"
   ]
  },
  {
   "cell_type": "markdown",
   "metadata": {},
   "source": [
    "#### ***Árbol de decisión***"
   ]
  },
  {
   "cell_type": "code",
   "execution_count": 585,
   "metadata": {},
   "outputs": [
    {
     "name": "stdout",
     "output_type": "stream",
     "text": [
      "Accuracy train:  0.968\n",
      "Accuracy test:  0.688\n"
     ]
    }
   ],
   "source": [
    "algoritmo = DecisionTreeClassifier(criterion=\"gini\", \n",
    "                                   splitter=\"best\",\n",
    "                                   min_samples_split=10,\n",
    "                                   max_leaf_nodes=None)\n",
    "#Entrenamos al modelo \n",
    "algoritmo.fit(train_vecIDF, y_train)\n",
    "#Realizo una prediccion \n",
    "#Importante: transform SOLO para conjunto de test \n",
    "y_pred_train = algoritmo.predict(train_vecIDF)\n",
    "y_pred_test = algoritmo.predict(tes_vec_IDF)\n",
    "\n",
    "accuracy_train = metrics.accuracy_score(y_train, y_pred_train)\n",
    "accuracy_test = metrics.accuracy_score(y_test, y_pred_test)\n",
    "\n",
    "matriz = confusion_matrix(y_test, y_pred_test)\n",
    "accuracy = metrics.accuracy_score(y_test, y_pred_test)\n",
    "report = classification_report(y_test, y_pred_test)\n",
    "\n",
    "precision = metrics.precision_score(y_test, y_pred_test)\n",
    "recall = metrics.recall_score(y_test, y_pred_test)\n",
    "\n",
    "clasificadoresAD.append(\n",
    "    (\"AD TF/IDF con monograma:\",accuracy, recall,precision, matriz, report, algoritmo, y_pred_test))\n",
    "\n",
    "print(\"Accuracy train: \", accuracy_train)\n",
    "print(\"Accuracy test: \", accuracy_test)"
   ]
  },
  {
   "cell_type": "code",
   "execution_count": 586,
   "metadata": {},
   "outputs": [
    {
     "name": "stdout",
     "output_type": "stream",
     "text": [
      "Accuracy train:  0.9973333333333333\n",
      "Accuracy test:  0.688\n"
     ]
    }
   ],
   "source": [
    "algoritmo = DecisionTreeClassifier()\n",
    "#Entrenamos al modelo \n",
    "algoritmo.fit(train_vecIDF, y_train)\n",
    "#Realizo una prediccion \n",
    "#Importante: transform SOLO para conjunto de test \n",
    "y_pred_train = algoritmo.predict(train_vecIDF)\n",
    "y_pred_test = algoritmo.predict(tes_vec_IDF)\n",
    "\n",
    "accuracy_train = metrics.accuracy_score(y_train, y_pred_train)\n",
    "accuracy_test = metrics.accuracy_score(y_test, y_pred_test)\n",
    "print(\"Accuracy train: \", accuracy_train)\n",
    "print(\"Accuracy test: \", accuracy_test)"
   ]
  },
  {
   "cell_type": "markdown",
   "metadata": {},
   "source": [
    "---\n",
    "### Bolsa de palabras TF/IDF con bigrama"
   ]
  },
  {
   "cell_type": "markdown",
   "metadata": {},
   "source": [
    "#### ***Clasificador NaiveBayes***"
   ]
  },
  {
   "cell_type": "code",
   "execution_count": 587,
   "metadata": {},
   "outputs": [],
   "source": [
    "vecBi = CountVectorizer(stop_words = \"english\", binary = False, ngram_range = (1,2))\n",
    "train_vec_dataBi = vecBi.fit_transform(X_train)\n",
    "tfidfer = TfidfTransformer()\n",
    "train_vecIDF_Bi = tfidfer.fit_transform(train_vec_dataBi)\n",
    "\n"
   ]
  },
  {
   "cell_type": "code",
   "execution_count": 588,
   "metadata": {},
   "outputs": [],
   "source": [
    "test_vec_data_Bi = vecBi.transform(x_test)\n",
    "tes_vec_IDF_Bi = tfidfer.transform(test_vec_data_Bi)"
   ]
  },
  {
   "cell_type": "code",
   "execution_count": 589,
   "metadata": {},
   "outputs": [
    {
     "name": "stdout",
     "output_type": "stream",
     "text": [
      "Accuracy train:  0.9773333333333334\n",
      "Accuracy test:  0.78\n"
     ]
    }
   ],
   "source": [
    "algoritmo = BernoulliNB()\n",
    "\n",
    "#Entrenamos al modelo \n",
    "algoritmo.fit(train_vecIDF_Bi, y_train)\n",
    "\n",
    "#Realizo una prediccion \n",
    "#Importante: transform SOLO para conjunto de test \n",
    "y_pred_train = algoritmo.predict(train_vecIDF_Bi)\n",
    "y_pred_test = algoritmo.predict(tes_vec_IDF_Bi)\n",
    "\n",
    "\n",
    "accuracy_train = metrics.accuracy_score(y_train, y_pred_train)\n",
    "accuracy_test = metrics.accuracy_score(y_test, y_pred_test)\n",
    "\n",
    "matriz = confusion_matrix(y_test, y_pred_test)\n",
    "accuracy = metrics.accuracy_score(y_test, y_pred_test)\n",
    "report = classification_report(y_test, y_pred_test)\n",
    "\n",
    "precision = metrics.precision_score(y_test, y_pred_test)\n",
    "recall = metrics.recall_score(y_test, y_pred_test)\n",
    "\n",
    "clasificadoresNB.append(\n",
    "    (\"NB TF/IDF con bigrama:\",accuracy, recall,precision, matriz, report, algoritmo, y_pred_test))\n",
    "\n",
    "\n",
    "print(\"Accuracy train: \", accuracy_train)\n",
    "print(\"Accuracy test: \", accuracy_test)"
   ]
  },
  {
   "cell_type": "code",
   "execution_count": 590,
   "metadata": {},
   "outputs": [
    {
     "name": "stdout",
     "output_type": "stream",
     "text": [
      "Accuracy train:  0.9893333333333333\n",
      "Accuracy test:  0.784\n"
     ]
    }
   ],
   "source": [
    "algoritmo = MultinomialNB()\n",
    "\n",
    "#Entrenamos al modelo \n",
    "algoritmo.fit(train_vecIDF_Bi, y_train)\n",
    "\n",
    "#Realizo una prediccion \n",
    "#Importante: transform SOLO para conjunto de test \n",
    "y_pred_train = algoritmo.predict(train_vecIDF_Bi)\n",
    "y_pred_test = algoritmo.predict(tes_vec_IDF_Bi)\n",
    "\n",
    "\n",
    "accuracy_train = metrics.accuracy_score(y_train, y_pred_train)\n",
    "accuracy_test = metrics.accuracy_score(y_test, y_pred_test)\n",
    "\n",
    "print(\"Accuracy train: \", accuracy_train)\n",
    "print(\"Accuracy test: \", accuracy_test)"
   ]
  },
  {
   "cell_type": "markdown",
   "metadata": {},
   "source": [
    "#### ***Árbol de decisión***"
   ]
  },
  {
   "cell_type": "code",
   "execution_count": 591,
   "metadata": {},
   "outputs": [
    {
     "name": "stdout",
     "output_type": "stream",
     "text": [
      "Accuracy train:  0.9693333333333334\n",
      "Accuracy test:  0.66\n"
     ]
    }
   ],
   "source": [
    "algoritmo = DecisionTreeClassifier(criterion=\"gini\", \n",
    "                                   splitter=\"best\",\n",
    "                                   min_samples_split=10,\n",
    "                                   max_leaf_nodes=None)\n",
    "#Entrenamos al modelo \n",
    "algoritmo.fit(train_vecIDF_Bi, y_train)\n",
    "#Realizo una prediccion \n",
    "#Importante: transform SOLO para conjunto de test \n",
    "y_pred_train = algoritmo.predict(train_vecIDF_Bi)\n",
    "y_pred_test = algoritmo.predict(tes_vec_IDF_Bi)\n",
    "\n",
    "accuracy_train = metrics.accuracy_score(y_train, y_pred_train)\n",
    "accuracy_test = metrics.accuracy_score(y_test, y_pred_test)\n",
    "\n",
    "matriz = confusion_matrix(y_test, y_pred_test)\n",
    "accuracy = metrics.accuracy_score(y_test, y_pred_test)\n",
    "report = classification_report(y_test, y_pred_test)\n",
    "\n",
    "precision = metrics.precision_score(y_test, y_pred_test)\n",
    "recall = metrics.recall_score(y_test, y_pred_test)\n",
    "\n",
    "clasificadoresAD.append(\n",
    "    (\"AD TF/IDF con bigrama:\",accuracy, recall,precision, matriz, report, algoritmo, y_pred_test))\n",
    "\n",
    "print(\"Accuracy train: \", accuracy_train)\n",
    "print(\"Accuracy test: \", accuracy_test)"
   ]
  },
  {
   "cell_type": "code",
   "execution_count": 592,
   "metadata": {},
   "outputs": [
    {
     "name": "stdout",
     "output_type": "stream",
     "text": [
      "Accuracy train:  0.9973333333333333\n",
      "Accuracy test:  0.68\n"
     ]
    }
   ],
   "source": [
    "algoritmo = DecisionTreeClassifier()\n",
    "#Entrenamos al modelo \n",
    "algoritmo.fit(train_vecIDF_Bi, y_train)\n",
    "#Realizo una prediccion \n",
    "#Importante: transform SOLO para conjunto de test \n",
    "y_pred_train = algoritmo.predict(train_vecIDF_Bi)\n",
    "y_pred_test = algoritmo.predict(tes_vec_IDF_Bi)\n",
    "\n",
    "accuracy_train = metrics.accuracy_score(y_train, y_pred_train)\n",
    "accuracy_test = metrics.accuracy_score(y_test, y_pred_test)\n",
    "print(\"Accuracy train: \", accuracy_train)\n",
    "print(\"Accuracy test: \", accuracy_test)"
   ]
  },
  {
   "cell_type": "markdown",
   "metadata": {},
   "source": [
    "-----\n",
    "### **Análisis de los resultados**\n",
    "---"
   ]
  },
  {
   "cell_type": "markdown",
   "metadata": {},
   "source": [
    "### ¿Hay un clasificador que sea superior al otro? ¿por qué crees que sucede?\n",
    "\n",
    "Ambos clasificadores reducen la exactitud en el test, esto quiere decir que hay un sobre apredizage del algoritmo. De todso modos, el clasificador Naïve Bayes proporciona mejores resultados que el Árbol de Decisión debido a que el primero hace uso de probabilidad mediante el Teorema de Bayes proporcionando mejores resultados mientras que el otro se basa en generar un arbol mediante nodos que son los que oreguntan por los valores de una varaible tomando un camino aparentemente bueno pero que en etapas posteriores puede que no sea el mejor.\n",
    "También Naïve Bayes eleva los resultados en el porcentaje de acierto en test. \n",
    "\n",
    "\n"
   ]
  },
  {
   "cell_type": "markdown",
   "metadata": {},
   "source": [
    "## RESULTADOS"
   ]
  },
  {
   "cell_type": "code",
   "execution_count": 593,
   "metadata": {},
   "outputs": [
    {
     "data": {
      "text/plain": [
       "4"
      ]
     },
     "execution_count": 593,
     "metadata": {},
     "output_type": "execute_result"
    }
   ],
   "source": [
    "len(clasificadoresAD)"
   ]
  },
  {
   "cell_type": "code",
   "execution_count": 594,
   "metadata": {},
   "outputs": [],
   "source": [
    "for i in range (len(clasificadoresNB)): \n",
    "    #print(clasificadoresNB[i][0], clasificadoresNB[i][1])\n",
    "    df_NB = df_NB.append({\"Nombre\":clasificadoresNB[i][0] ,\"Exactitud\":clasificadoresNB[i][1], \"Recall\": clasificadoresNB[i][2], \"Especificidad\": clasificadoresNB[i][3]}, ignore_index=True)\n",
    "\n",
    "#print(\"-------------------------------\")\n",
    "\n",
    "for j in range (len(clasificadoresAD)): \n",
    "   #print(clasificadoresAD[j][0], clasificadoresAD[j][1])\n",
    "    df_AD = df_AD.append({\"Nombre\":clasificadoresAD[j][0] ,\"Exactitud\":clasificadoresAD[j][1], \"Recall\": clasificadoresAD[i][2], \"Especificidad\": clasificadoresAD[i][3]}, ignore_index=True)\n"
   ]
  },
  {
   "cell_type": "markdown",
   "metadata": {},
   "source": [
    "#### __Naïve Bayes__"
   ]
  },
  {
   "cell_type": "code",
   "execution_count": 595,
   "metadata": {},
   "outputs": [
    {
     "data": {
      "text/html": [
       "<div>\n",
       "<style scoped>\n",
       "    .dataframe tbody tr th:only-of-type {\n",
       "        vertical-align: middle;\n",
       "    }\n",
       "\n",
       "    .dataframe tbody tr th {\n",
       "        vertical-align: top;\n",
       "    }\n",
       "\n",
       "    .dataframe thead th {\n",
       "        text-align: right;\n",
       "    }\n",
       "</style>\n",
       "<table border=\"1\" class=\"dataframe\">\n",
       "  <thead>\n",
       "    <tr style=\"text-align: right;\">\n",
       "      <th></th>\n",
       "      <th>Nombre</th>\n",
       "      <th>Exactitud</th>\n",
       "      <th>Recall</th>\n",
       "      <th>Especificidad</th>\n",
       "    </tr>\n",
       "  </thead>\n",
       "  <tbody>\n",
       "    <tr>\n",
       "      <td>0</td>\n",
       "      <td>NB binario con monograma:</td>\n",
       "      <td>0.78</td>\n",
       "      <td>0.852459</td>\n",
       "      <td>0.737589</td>\n",
       "    </tr>\n",
       "    <tr>\n",
       "      <td>1</td>\n",
       "      <td>NB binario con bigrama:</td>\n",
       "      <td>0.78</td>\n",
       "      <td>0.885246</td>\n",
       "      <td>0.724832</td>\n",
       "    </tr>\n",
       "    <tr>\n",
       "      <td>2</td>\n",
       "      <td>NB TF/IDF con monograma:</td>\n",
       "      <td>0.78</td>\n",
       "      <td>0.852459</td>\n",
       "      <td>0.737589</td>\n",
       "    </tr>\n",
       "    <tr>\n",
       "      <td>3</td>\n",
       "      <td>NB TF/IDF con bigrama:</td>\n",
       "      <td>0.78</td>\n",
       "      <td>0.885246</td>\n",
       "      <td>0.724832</td>\n",
       "    </tr>\n",
       "  </tbody>\n",
       "</table>\n",
       "</div>"
      ],
      "text/plain": [
       "                      Nombre  Exactitud    Recall  Especificidad\n",
       "0  NB binario con monograma:       0.78  0.852459       0.737589\n",
       "1    NB binario con bigrama:       0.78  0.885246       0.724832\n",
       "2   NB TF/IDF con monograma:       0.78  0.852459       0.737589\n",
       "3     NB TF/IDF con bigrama:       0.78  0.885246       0.724832"
      ]
     },
     "execution_count": 595,
     "metadata": {},
     "output_type": "execute_result"
    }
   ],
   "source": [
    "df_NB"
   ]
  },
  {
   "cell_type": "code",
   "execution_count": 596,
   "metadata": {},
   "outputs": [],
   "source": [
    "#for i in range (len(reportNB)):\n",
    "   # print(\"Reporte medias clasificación,\", reportNB[i][2])\n",
    "   # print(reportNB[i][1])\n",
    "   # print(\"Matriz de confusión\")\n",
    "   # print(reportNB[i][0])\n",
    "   # print(\"----------------------------------------------------------\")"
   ]
  },
  {
   "cell_type": "markdown",
   "metadata": {},
   "source": [
    "#### __Árbol de decisión__"
   ]
  },
  {
   "cell_type": "code",
   "execution_count": 597,
   "metadata": {},
   "outputs": [
    {
     "data": {
      "text/html": [
       "<div>\n",
       "<style scoped>\n",
       "    .dataframe tbody tr th:only-of-type {\n",
       "        vertical-align: middle;\n",
       "    }\n",
       "\n",
       "    .dataframe tbody tr th {\n",
       "        vertical-align: top;\n",
       "    }\n",
       "\n",
       "    .dataframe thead th {\n",
       "        text-align: right;\n",
       "    }\n",
       "</style>\n",
       "<table border=\"1\" class=\"dataframe\">\n",
       "  <thead>\n",
       "    <tr style=\"text-align: right;\">\n",
       "      <th></th>\n",
       "      <th>Nombre</th>\n",
       "      <th>Exactitud</th>\n",
       "      <th>Recall</th>\n",
       "      <th>Especificidad</th>\n",
       "    </tr>\n",
       "  </thead>\n",
       "  <tbody>\n",
       "    <tr>\n",
       "      <td>0</td>\n",
       "      <td>AD binario con monograma:</td>\n",
       "      <td>0.688</td>\n",
       "      <td>0.639344</td>\n",
       "      <td>0.655462</td>\n",
       "    </tr>\n",
       "    <tr>\n",
       "      <td>1</td>\n",
       "      <td>AD binario con bigrama:</td>\n",
       "      <td>0.716</td>\n",
       "      <td>0.639344</td>\n",
       "      <td>0.655462</td>\n",
       "    </tr>\n",
       "    <tr>\n",
       "      <td>2</td>\n",
       "      <td>AD TF/IDF con monograma:</td>\n",
       "      <td>0.688</td>\n",
       "      <td>0.639344</td>\n",
       "      <td>0.655462</td>\n",
       "    </tr>\n",
       "    <tr>\n",
       "      <td>3</td>\n",
       "      <td>AD TF/IDF con bigrama:</td>\n",
       "      <td>0.660</td>\n",
       "      <td>0.639344</td>\n",
       "      <td>0.655462</td>\n",
       "    </tr>\n",
       "  </tbody>\n",
       "</table>\n",
       "</div>"
      ],
      "text/plain": [
       "                      Nombre  Exactitud    Recall  Especificidad\n",
       "0  AD binario con monograma:      0.688  0.639344       0.655462\n",
       "1    AD binario con bigrama:      0.716  0.639344       0.655462\n",
       "2   AD TF/IDF con monograma:      0.688  0.639344       0.655462\n",
       "3     AD TF/IDF con bigrama:      0.660  0.639344       0.655462"
      ]
     },
     "execution_count": 597,
     "metadata": {},
     "output_type": "execute_result"
    }
   ],
   "source": [
    "df_AD"
   ]
  },
  {
   "cell_type": "code",
   "execution_count": 598,
   "metadata": {},
   "outputs": [],
   "source": [
    "#for i in range (len(reportAD)):\n",
    " #   print(\"Reporte medias clasificación,\", reportAD[i][2])\n",
    " #  print(reportAD[i][1])\n",
    " #   print(\"Matriz de confusión\")\n",
    " #   print(reportAD[i][0])\n",
    " #   print(\"----------------------------------------------------------\")"
   ]
  },
  {
   "cell_type": "code",
   "execution_count": 599,
   "metadata": {},
   "outputs": [],
   "source": [
    "import numpy as np\n",
    "import matplotlib.pyplot as plt"
   ]
  },
  {
   "cell_type": "code",
   "execution_count": 600,
   "metadata": {},
   "outputs": [
    {
     "data": {
      "text/plain": [
       "<matplotlib.legend.Legend at 0x1a245faf10>"
      ]
     },
     "execution_count": 600,
     "metadata": {},
     "output_type": "execute_result"
    },
    {
     "data": {
      "image/png": "[encoded data removed]",
      "text/plain": [
       "<Figure size 432x288 with 1 Axes>"
      ]
     },
     "metadata": {
      "needs_background": "light"
     },
     "output_type": "display_data"
    }
   ],
   "source": [
    "#Recall \n",
    "datos = [list(df_NB[\"Recall\"]), list(df_AD[\"Recall\"])]\n",
    "\n",
    "X = np.arange(4)\n",
    "plt.bar(X + 0.00, datos[0], color = \"b\", width = 0.25, label = \"NB\")\n",
    "plt.bar(X + 0.25, datos[1], color = \"g\", width = 0.25, label = \"AD\")\n",
    "plt.xticks(X+0.38, [\"Binaria mono\",\"Binaria bi\",\"TF/IDF mono\" ,\"TF/IDF bi\"])\n",
    "plt.title(\"Tasa de verdaderos positivos o Recall\")\n",
    "plt.xlabel('Bolsa de palabras')\n",
    "plt.legend(loc=\"lower right\")"
   ]
  },
  {
   "cell_type": "code",
   "execution_count": 601,
   "metadata": {},
   "outputs": [
    {
     "data": {
      "text/plain": [
       "<matplotlib.legend.Legend at 0x1a24c42d50>"
      ]
     },
     "execution_count": 601,
     "metadata": {},
     "output_type": "execute_result"
    },
    {
     "data": {
      "image/png": "[encoded data removed]",
      "text/plain": [
       "<Figure size 432x288 with 1 Axes>"
      ]
     },
     "metadata": {
      "needs_background": "light"
     },
     "output_type": "display_data"
    }
   ],
   "source": [
    "# tasa de verdaderos negativos o specificity\n",
    "datos = [list(df_NB[\"Especificidad\"]), list(df_AD[\"Especificidad\"])]\n",
    "\n",
    "X = np.arange(4)\n",
    "plt.bar(X + 0.00, datos[0], color = \"b\", width = 0.25, label = \"NB\")\n",
    "plt.bar(X + 0.25, datos[1], color = \"g\", width = 0.25, label = \"AD\")\n",
    "plt.xticks(X+0.38, [\"Binaria mono\",\"Binaria bi\",\"TF/IDF mono\" ,\"TF/IDF bi\"])\n",
    "plt.title(\"Tasa de verdaderos negativos o Specificity\")\n",
    "plt.xlabel('Bolsa de palabras')\n",
    "plt.legend(loc=\"lower right\")"
   ]
  },
  {
   "cell_type": "markdown",
   "metadata": {},
   "source": [
    "-----\n",
    "### Análisis de los resultados\n",
    "---"
   ]
  },
  {
   "cell_type": "markdown",
   "metadata": {},
   "source": [
    "- #### ¿Hay un clasificador que sea superior al otro? ¿por qué crees que sucede?\n",
    "\n",
    "Si, el clasificador Naïve Bayes proporciona mejores resultados que el Árbol de Decisión debido a que el primero hace uso de probabilidad mediante el Teorema de Bayes proporcionando mejores resultados mientras que el otro se basa en generar un arbol mediante los nodos que son los que oreguntan por los valores de una varaible tomando un camino aparentemente bueno pero que en etapas posteriores no es el mejor. \n"
   ]
  },
  {
   "cell_type": "markdown",
   "metadata": {},
   "source": [
    "- #### Para cada clasificador, ¿tiene un efecto positivo el añadir “complejidad” a la vectorización? Es decir, añadir bigramas y añadir tf-idf. ¿Por qué crees que sucede este efecto positivo o la falta del mismo?\n",
    "\n",
    "En lineas geberales presentan valores similares, por lo que no mejoran mucho los resultaods. Puede ser debido a que son corpus pequeños y de jerga local, además el diccionario es inducido por lo que se agregan todos los terminos produciendo ruido. \n",
    "Podemos observar esa similitud en el digrama de exactitudes de las 4 bolsas de palabras con los dos clasificadores haciendo una comparación. Se puede ver como las barras son practicamente de una altura similar en las 4 bolsas de palabras. "
   ]
  },
  {
   "cell_type": "code",
   "execution_count": 602,
   "metadata": {},
   "outputs": [
    {
     "data": {
      "text/plain": [
       "<matplotlib.legend.Legend at 0x1a24d6c590>"
      ]
     },
     "execution_count": 602,
     "metadata": {},
     "output_type": "execute_result"
    },
    {
     "data": {
      "image/png": "[encoded data removed]",
      "text/plain": [
       "<Figure size 432x288 with 1 Axes>"
      ]
     },
     "metadata": {
      "needs_background": "light"
     },
     "output_type": "display_data"
    }
   ],
   "source": [
    "#Exactitud \n",
    "exNB= list(df_NB[\"Exactitud\"])\n",
    "exAD = list(df_AD[\"Exactitud\"])\n",
    "\n",
    "datos = [exNB, exAD]\n",
    "\n",
    "X = np.arange(4)\n",
    "plt.bar(X + 0.00, datos[0], color = \"b\", width = 0.25, label = \"NB\")\n",
    "plt.bar(X + 0.25, datos[1], color = \"g\", width = 0.25, label = \"AD\")\n",
    "plt.xticks(X+0.38, [\"Binaria mono\",\"Binaria bi\",\"TF/IDF mono\" ,\"TF/IDF bi\"])\n",
    "plt.title(\"Exactitud\")\n",
    "plt.xlabel('Bolsa de palabras')\n",
    "plt.legend(loc=\"lower right\")"
   ]
  },
  {
   "cell_type": "markdown",
   "metadata": {},
   "source": [
    "#### __Selecciona el mejor árbol de decisión y obtén las 25 variables con más poder discriminante__ "
   ]
  },
  {
   "cell_type": "code",
   "execution_count": 603,
   "metadata": {},
   "outputs": [],
   "source": [
    "def print_top20_features_in_trees(vectorizer, clf):\n",
    "    \"\"\"Prints features with the highest coefficient values\"\"\"\n",
    "    feature_names = vectorizer.get_feature_names()\n",
    "    \n",
    "    top20 = np.argsort(clf.feature_importances_)[-20:]\n",
    "    reversed_top = top20[::-1]\n",
    "    print(\"Top 20 features in the tree\\n\")\n",
    "    print(\"%s\" % ( \" / \".join(feature_names[j] for j in reversed_top)))"
   ]
  },
  {
   "cell_type": "code",
   "execution_count": 604,
   "metadata": {},
   "outputs": [
    {
     "data": {
      "text/html": [
       "<div>\n",
       "<style scoped>\n",
       "    .dataframe tbody tr th:only-of-type {\n",
       "        vertical-align: middle;\n",
       "    }\n",
       "\n",
       "    .dataframe tbody tr th {\n",
       "        vertical-align: top;\n",
       "    }\n",
       "\n",
       "    .dataframe thead th {\n",
       "        text-align: right;\n",
       "    }\n",
       "</style>\n",
       "<table border=\"1\" class=\"dataframe\">\n",
       "  <thead>\n",
       "    <tr style=\"text-align: right;\">\n",
       "      <th></th>\n",
       "      <th>Nombre</th>\n",
       "      <th>Exactitud</th>\n",
       "      <th>Recall</th>\n",
       "      <th>Especificidad</th>\n",
       "    </tr>\n",
       "  </thead>\n",
       "  <tbody>\n",
       "    <tr>\n",
       "      <td>0</td>\n",
       "      <td>AD binario con monograma:</td>\n",
       "      <td>0.688</td>\n",
       "      <td>0.639344</td>\n",
       "      <td>0.655462</td>\n",
       "    </tr>\n",
       "    <tr>\n",
       "      <td>1</td>\n",
       "      <td>AD binario con bigrama:</td>\n",
       "      <td>0.716</td>\n",
       "      <td>0.639344</td>\n",
       "      <td>0.655462</td>\n",
       "    </tr>\n",
       "    <tr>\n",
       "      <td>2</td>\n",
       "      <td>AD TF/IDF con monograma:</td>\n",
       "      <td>0.688</td>\n",
       "      <td>0.639344</td>\n",
       "      <td>0.655462</td>\n",
       "    </tr>\n",
       "    <tr>\n",
       "      <td>3</td>\n",
       "      <td>AD TF/IDF con bigrama:</td>\n",
       "      <td>0.660</td>\n",
       "      <td>0.639344</td>\n",
       "      <td>0.655462</td>\n",
       "    </tr>\n",
       "  </tbody>\n",
       "</table>\n",
       "</div>"
      ],
      "text/plain": [
       "                      Nombre  Exactitud    Recall  Especificidad\n",
       "0  AD binario con monograma:      0.688  0.639344       0.655462\n",
       "1    AD binario con bigrama:      0.716  0.639344       0.655462\n",
       "2   AD TF/IDF con monograma:      0.688  0.639344       0.655462\n",
       "3     AD TF/IDF con bigrama:      0.660  0.639344       0.655462"
      ]
     },
     "execution_count": 604,
     "metadata": {},
     "output_type": "execute_result"
    }
   ],
   "source": [
    "df_AD"
   ]
  },
  {
   "cell_type": "markdown",
   "metadata": {},
   "source": [
    "Podemos ver como los mejores resultados nos los proporcionan los arboles 0 y 1. Elegimos el binario con bigrama"
   ]
  },
  {
   "cell_type": "code",
   "execution_count": 610,
   "metadata": {},
   "outputs": [
    {
     "name": "stdout",
     "output_type": "stream",
     "text": [
      "AD binario con bigrama:\n",
      "DecisionTreeClassifier(ccp_alpha=0.0, class_weight=None, criterion='gini',\n",
      "                       max_depth=None, max_features=None, max_leaf_nodes=None,\n",
      "                       min_impurity_decrease=0.0, min_impurity_split=None,\n",
      "                       min_samples_leaf=1, min_samples_split=10,\n",
      "                       min_weight_fraction_leaf=0.0, presort='deprecated',\n",
      "                       random_state=None, splitter='best')\n"
     ]
    }
   ],
   "source": [
    "print(clasificadoresAD[1][0])\n",
    "print(clasificadoresAD[1][6])"
   ]
  },
  {
   "cell_type": "code",
   "execution_count": 611,
   "metadata": {},
   "outputs": [
    {
     "name": "stdout",
     "output_type": "stream",
     "text": [
      "              precision    recall  f1-score   support\n",
      "\n",
      "           0       0.68      0.84      0.75       128\n",
      "           1       0.77      0.59      0.67       122\n",
      "\n",
      "    accuracy                           0.72       250\n",
      "   macro avg       0.73      0.71      0.71       250\n",
      "weighted avg       0.73      0.72      0.71       250\n",
      "\n"
     ]
    }
   ],
   "source": [
    "print(clasificadoresAD[1][5])"
   ]
  },
  {
   "cell_type": "code",
   "execution_count": 612,
   "metadata": {},
   "outputs": [
    {
     "name": "stdout",
     "output_type": "stream",
     "text": [
      "Matriz de confusión\n",
      "[[107  21]\n",
      " [ 50  72]]\n"
     ]
    }
   ],
   "source": [
    "print(\"Matriz de confusión\")\n",
    "print(clasificadoresAD[1][4])"
   ]
  },
  {
   "cell_type": "code",
   "execution_count": 613,
   "metadata": {},
   "outputs": [
    {
     "name": "stdout",
     "output_type": "stream",
     "text": [
      "Top 20 features in the tree\n",
      "\n",
      "great / good / delicious / nice / amazing / awesome / love / excellent / friendly / fantastic / best / vegas / perfect / loved / place / restaurant / fun / don / restaurants / tender\n"
     ]
    }
   ],
   "source": [
    "print_top20_features_in_trees(vecBB,clasificadoresAD[1][6])"
   ]
  },
  {
   "cell_type": "markdown",
   "metadata": {},
   "source": [
    "- #### ¿Predominan más las palabras de uno u otro sentimiento? ¿por qué? ¿hay ruido?\n",
    "\n"
   ]
  },
  {
   "cell_type": "markdown",
   "metadata": {},
   "source": [
    "Predominan las palabras positivas"
   ]
  },
  {
   "cell_type": "markdown",
   "metadata": {},
   "source": [
    "####  __Selecciona el mejor clasificador naive bayes y obtén las 25 variables con más presencia en cada clase:__"
   ]
  },
  {
   "cell_type": "code",
   "execution_count": 614,
   "metadata": {},
   "outputs": [],
   "source": [
    "def print_top20_features_per_class_in_NB(vectorizer, clf, class_labels):\n",
    "    \"\"\"Prints features with the highest coefficient values, per class\"\"\"\n",
    "    feature_names = vectorizer.get_feature_names()\n",
    "    print(\"Top 20 features per class\\n\")\n",
    "    for i, class_label in enumerate(class_labels):\n",
    "        top20 = np.argsort(clf.feature_log_prob_[i])[-20:]\n",
    "        reversed_top = top20[::-1]\n",
    "        \n",
    "        print(\"%s: %s\" % (class_label,\n",
    "              \" / \".join(feature_names[j] for j in reversed_top)),'\\n')\n",
    "        \n",
    "        #Descomentar para ver el índice de los términos en el diccionario\n",
    "        #print(\"%s \" % (\" / \".join(str(j) for j in reversed_top)),'\\n')"
   ]
  },
  {
   "cell_type": "code",
   "execution_count": 615,
   "metadata": {},
   "outputs": [
    {
     "data": {
      "text/html": [
       "<div>\n",
       "<style scoped>\n",
       "    .dataframe tbody tr th:only-of-type {\n",
       "        vertical-align: middle;\n",
       "    }\n",
       "\n",
       "    .dataframe tbody tr th {\n",
       "        vertical-align: top;\n",
       "    }\n",
       "\n",
       "    .dataframe thead th {\n",
       "        text-align: right;\n",
       "    }\n",
       "</style>\n",
       "<table border=\"1\" class=\"dataframe\">\n",
       "  <thead>\n",
       "    <tr style=\"text-align: right;\">\n",
       "      <th></th>\n",
       "      <th>Nombre</th>\n",
       "      <th>Exactitud</th>\n",
       "      <th>Recall</th>\n",
       "      <th>Especificidad</th>\n",
       "    </tr>\n",
       "  </thead>\n",
       "  <tbody>\n",
       "    <tr>\n",
       "      <td>0</td>\n",
       "      <td>NB binario con monograma:</td>\n",
       "      <td>0.78</td>\n",
       "      <td>0.852459</td>\n",
       "      <td>0.737589</td>\n",
       "    </tr>\n",
       "    <tr>\n",
       "      <td>1</td>\n",
       "      <td>NB binario con bigrama:</td>\n",
       "      <td>0.78</td>\n",
       "      <td>0.885246</td>\n",
       "      <td>0.724832</td>\n",
       "    </tr>\n",
       "    <tr>\n",
       "      <td>2</td>\n",
       "      <td>NB TF/IDF con monograma:</td>\n",
       "      <td>0.78</td>\n",
       "      <td>0.852459</td>\n",
       "      <td>0.737589</td>\n",
       "    </tr>\n",
       "    <tr>\n",
       "      <td>3</td>\n",
       "      <td>NB TF/IDF con bigrama:</td>\n",
       "      <td>0.78</td>\n",
       "      <td>0.885246</td>\n",
       "      <td>0.724832</td>\n",
       "    </tr>\n",
       "  </tbody>\n",
       "</table>\n",
       "</div>"
      ],
      "text/plain": [
       "                      Nombre  Exactitud    Recall  Especificidad\n",
       "0  NB binario con monograma:       0.78  0.852459       0.737589\n",
       "1    NB binario con bigrama:       0.78  0.885246       0.724832\n",
       "2   NB TF/IDF con monograma:       0.78  0.852459       0.737589\n",
       "3     NB TF/IDF con bigrama:       0.78  0.885246       0.724832"
      ]
     },
     "execution_count": 615,
     "metadata": {},
     "output_type": "execute_result"
    }
   ],
   "source": [
    "df_NB"
   ]
  },
  {
   "cell_type": "code",
   "execution_count": 616,
   "metadata": {},
   "outputs": [
    {
     "name": "stdout",
     "output_type": "stream",
     "text": [
      "NB binario con monograma:\n",
      "BernoulliNB(alpha=1.0, binarize=0.0, class_prior=None, fit_prior=True)\n"
     ]
    }
   ],
   "source": [
    "print(clasificadoresNB[0][0])\n",
    "print(clasificadoresNB[0][6])"
   ]
  },
  {
   "cell_type": "code",
   "execution_count": 617,
   "metadata": {},
   "outputs": [
    {
     "name": "stdout",
     "output_type": "stream",
     "text": [
      "BernoulliNB(alpha=1.0, binarize=0.0, class_prior=None, fit_prior=True)\n"
     ]
    }
   ],
   "source": [
    "print(clasificadoresNB[0][6])"
   ]
  },
  {
   "cell_type": "code",
   "execution_count": 618,
   "metadata": {},
   "outputs": [
    {
     "name": "stdout",
     "output_type": "stream",
     "text": [
      "Matriz de confusión\n",
      "[[102  26]\n",
      " [ 52  70]]\n"
     ]
    }
   ],
   "source": [
    "print(\"Matriz de confusión\")\n",
    "print(clasificadoresAD[0][4])"
   ]
  },
  {
   "cell_type": "code",
   "execution_count": 619,
   "metadata": {},
   "outputs": [
    {
     "name": "stdout",
     "output_type": "stream",
     "text": [
      "Top 20 features per class\n",
      "\n",
      "Negativos: food / place / service / like / don / time / good / bad / really / did / minutes / came / won / disappointed / wasn / bland / got / just / better / going \n",
      "\n",
      "Pisitivos: great / good / food / place / service / delicious / best / really / nice / friendly / amazing / time / just / love / like / restaurant / vegas / awesome / pretty / staff \n",
      "\n"
     ]
    }
   ],
   "source": [
    "print_top20_features_per_class_in_NB(vecBM,clasificadoresNB[0][6],target_names)       \n"
   ]
  },
  {
   "cell_type": "markdown",
   "metadata": {},
   "source": [
    "- ##### ¿Tienen sentido las palabras seleccionadas? ¿hay ruido (palabras sin sentimiento o de sentimiento opuesto al esperado)? ¿por qué crees que suceden estos fenómenos?"
   ]
  },
  {
   "cell_type": "markdown",
   "metadata": {},
   "source": [
    "No tienen sentido muchas de las palabras seleccionadas ya que no aparton nada de significado como \"g\", \"ve\" además de los verbos que tampoco ayudan en la clasificación. Por otro lado el ruido tambien se puede observar en la clasificacion de las palabras, es decir, aparecen palabras con significado positivo donde las palabras Negativas.\n",
    "\n",
    "Esto se debe a que el diccionario se optiemne mediante el aprendizage de los mismos textos. Se induce a partir del corpus"
   ]
  },
  {
   "cell_type": "markdown",
   "metadata": {},
   "source": [
    "### __Conclusiones generales apartado A__"
   ]
  },
  {
   "cell_type": "markdown",
   "metadata": {},
   "source": [
    "Primero partimos por el analis de los modelos de clasificación, en ambos modelos se puede apreciar como la precisión en la predicción de los datos de test es mucho menor que en la de entrenamiento (entorno a un 0.2/0.3) esto hace que nuestros modelos no sean precisos debido a que han aprendido mas de la cuenta (sobre aprendizaje). En este caso dado que no usamos un diccionario previo que este bien estructurado, es decir, que contegan palabras que nos puedan dar baste información como lo son los adjetivos sino que usamos un diccionario vacio el cual se va generando solo (induciendo), esto hace que se agregen palabras que carecen de significado haciedno que el analisis quede confuso.\n",
    "\n",
    "Por ultimo, lo que si se puede apreciar es que el clasificador Naïve Bayes proporciona mejores resultados respecto a la precion del test, hemos usado el Modelo de Bernoulli débido a que son textos cortos y nos sirve para clasificar contenido especifico como es este caso (opinión positiva o negatoiva). Además lo hemos escogido ya que los otros tres tipos de Naïve Bayes hacen mas incapie en las frecuencias debido a que som comentarios de las personas por lo que hacen uso de jerga local además de carecer de un buen diccionario que descarte palabras. \n"
   ]
  },
  {
   "cell_type": "markdown",
   "metadata": {},
   "source": [
    "-------\n",
    "## APARTADO b \n",
    "--------"
   ]
  },
  {
   "cell_type": "markdown",
   "metadata": {},
   "source": [
    "### 1. Analiza la precisión y la exhaustividad de cada clasificador en cada una de las clases (opiniones positivas y negativas)."
   ]
  },
  {
   "cell_type": "markdown",
   "metadata": {},
   "source": [
    "- #### Para cada clasificador, ¿tiene un comportamiento homogéneo a la hora de clasificar ambas clases? "
   ]
  },
  {
   "cell_type": "markdown",
   "metadata": {},
   "source": [
    "#### Arbol de decisión "
   ]
  },
  {
   "cell_type": "code",
   "execution_count": 625,
   "metadata": {},
   "outputs": [
    {
     "data": {
      "text/html": [
       "<div>\n",
       "<style scoped>\n",
       "    .dataframe tbody tr th:only-of-type {\n",
       "        vertical-align: middle;\n",
       "    }\n",
       "\n",
       "    .dataframe tbody tr th {\n",
       "        vertical-align: top;\n",
       "    }\n",
       "\n",
       "    .dataframe thead th {\n",
       "        text-align: right;\n",
       "    }\n",
       "</style>\n",
       "<table border=\"1\" class=\"dataframe\">\n",
       "  <thead>\n",
       "    <tr style=\"text-align: right;\">\n",
       "      <th></th>\n",
       "      <th>Nombre</th>\n",
       "      <th>Exactitud</th>\n",
       "      <th>Recall</th>\n",
       "      <th>Especificidad</th>\n",
       "    </tr>\n",
       "  </thead>\n",
       "  <tbody>\n",
       "    <tr>\n",
       "      <td>1</td>\n",
       "      <td>AD binario con bigrama:</td>\n",
       "      <td>0.716</td>\n",
       "      <td>0.639344</td>\n",
       "      <td>0.655462</td>\n",
       "    </tr>\n",
       "  </tbody>\n",
       "</table>\n",
       "</div>"
      ],
      "text/plain": [
       "                    Nombre  Exactitud    Recall  Especificidad\n",
       "1  AD binario con bigrama:      0.716  0.639344       0.655462"
      ]
     },
     "execution_count": 625,
     "metadata": {},
     "output_type": "execute_result"
    }
   ],
   "source": [
    "df_AD[1:2]"
   ]
  },
  {
   "cell_type": "code",
   "execution_count": 626,
   "metadata": {},
   "outputs": [
    {
     "name": "stdout",
     "output_type": "stream",
     "text": [
      "              precision    recall  f1-score   support\n",
      "\n",
      "           0       0.68      0.84      0.75       128\n",
      "           1       0.77      0.59      0.67       122\n",
      "\n",
      "    accuracy                           0.72       250\n",
      "   macro avg       0.73      0.71      0.71       250\n",
      "weighted avg       0.73      0.72      0.71       250\n",
      "\n"
     ]
    }
   ],
   "source": [
    "print(clasificadoresAD[1][5])"
   ]
  },
  {
   "cell_type": "markdown",
   "metadata": {},
   "source": [
    "En este caso no hay homogeniedad a la hora de elegir una de las dos clases, esto lo sabemos gracias a la precisión (precision) también conocida como tasa de verdaderos negativos y a la exhaustividad (recall) también llamada \"tasa de verdaderos positivos\". Como se puede observar la precisión para ambas clases distan en 0.11 asi que no estan proximas al igual que para el recall que distan en 0.25. "
   ]
  },
  {
   "cell_type": "markdown",
   "metadata": {},
   "source": [
    "#### Naïve Bayes "
   ]
  },
  {
   "cell_type": "code",
   "execution_count": 628,
   "metadata": {},
   "outputs": [
    {
     "data": {
      "text/html": [
       "<div>\n",
       "<style scoped>\n",
       "    .dataframe tbody tr th:only-of-type {\n",
       "        vertical-align: middle;\n",
       "    }\n",
       "\n",
       "    .dataframe tbody tr th {\n",
       "        vertical-align: top;\n",
       "    }\n",
       "\n",
       "    .dataframe thead th {\n",
       "        text-align: right;\n",
       "    }\n",
       "</style>\n",
       "<table border=\"1\" class=\"dataframe\">\n",
       "  <thead>\n",
       "    <tr style=\"text-align: right;\">\n",
       "      <th></th>\n",
       "      <th>Nombre</th>\n",
       "      <th>Exactitud</th>\n",
       "      <th>Recall</th>\n",
       "      <th>Especificidad</th>\n",
       "    </tr>\n",
       "  </thead>\n",
       "  <tbody>\n",
       "    <tr>\n",
       "      <td>0</td>\n",
       "      <td>NB binario con monograma:</td>\n",
       "      <td>0.78</td>\n",
       "      <td>0.852459</td>\n",
       "      <td>0.737589</td>\n",
       "    </tr>\n",
       "  </tbody>\n",
       "</table>\n",
       "</div>"
      ],
      "text/plain": [
       "                      Nombre  Exactitud    Recall  Especificidad\n",
       "0  NB binario con monograma:       0.78  0.852459       0.737589"
      ]
     },
     "execution_count": 628,
     "metadata": {},
     "output_type": "execute_result"
    }
   ],
   "source": [
    "df_NB[0:1]"
   ]
  },
  {
   "cell_type": "code",
   "execution_count": 627,
   "metadata": {},
   "outputs": [
    {
     "name": "stdout",
     "output_type": "stream",
     "text": [
      "              precision    recall  f1-score   support\n",
      "\n",
      "           0       0.83      0.71      0.77       128\n",
      "           1       0.74      0.85      0.79       122\n",
      "\n",
      "    accuracy                           0.78       250\n",
      "   macro avg       0.79      0.78      0.78       250\n",
      "weighted avg       0.79      0.78      0.78       250\n",
      "\n"
     ]
    }
   ],
   "source": [
    "print(clasificadoresNB[0][5])"
   ]
  },
  {
   "cell_type": "markdown",
   "metadata": {},
   "source": [
    "Para el clasificador Naïve Bayes hay un poco más de homogeniedad pero igualmente los valores de la precisión y el recoll no son similares para ambas clases."
   ]
  },
  {
   "cell_type": "markdown",
   "metadata": {},
   "source": [
    "- #### ¿Cuáles son las fortalezas y debilidades de cada uno de los clasificadores? "
   ]
  },
  {
   "cell_type": "markdown",
   "metadata": {},
   "source": [
    "__Naïve Bayes__: \n",
    "Por un lado tiene menos coste computacional ya que es mas escalable, es decir, al analaizar textos mas grandes su comportamiento siguie siendo el mismo depende del tipo de N-Grama que usemos bien monogramo que la probabilidad dependa de la palabra anterior o de bigramas que la palabra depende de las dos palabras anteriores.\n",
    "Es más sencillo de entender dado que se basa en la regla de Bayes. \n",
    "Si todos los atributos son independientes puede proporcionar mejores resultados que otros clasificadores. \n",
    "\n",
    "Uno de sus puntos debiles es que asume que todos los atributos son independientes\n",
    "esto no suele ser lo comun en la realidad haciedno que sea menos preciso. \n",
    "\n",
    "__Árboles de Decisión__: \n",
    "Son fáciles de interpretar puesto que se pueden dibujar el grafo, pueden manejar grandes catidades de datos. ¿¿¿¿¿Es capaz de ignorar datos faltantes debido a que puede tomar otras ramas más prometedoras. ????\n",
    "\n",
    "Por el contrario, la complejidad depende de la profundidad del arbol, es decir, O(profundidad), no tiene una heristica como tal sino que depende del nodo mas prometedor pudiendo equivocarse de camino y darse cuenta en ramas inferiores. "
   ]
  },
  {
   "cell_type": "markdown",
   "metadata": {},
   "source": [
    "- #### ¿Hay algún clasificador que sea mejor que el otro en todo?  "
   ]
  },
  {
   "cell_type": "markdown",
   "metadata": {},
   "source": [
    "El clasificador Naïve Bayes es mejor para tratar problemas relacionados conla clasificación de textos dado que maneje muy bien grandes cantidades de datos, además de que es rápido"
   ]
  },
  {
   "cell_type": "markdown",
   "metadata": {},
   "source": [
    "- #### ¿Coinciden ambos clasificadores a la hora de clasificar mejor una clase que la otra? "
   ]
  },
  {
   "cell_type": "markdown",
   "metadata": {},
   "source": [
    "Si, ambos tienden a elegir palabras de carcter positivo"
   ]
  },
  {
   "cell_type": "markdown",
   "metadata": {},
   "source": [
    "### 2. Pinta los 8 primeros niveles del árbol de decisión y comenta lo que ves. "
   ]
  },
  {
   "cell_type": "code",
   "execution_count": 640,
   "metadata": {},
   "outputs": [],
   "source": [
    "algoritmo8 = DecisionTreeClassifier(criterion=\"gini\", \n",
    "                                   splitter=\"best\",\n",
    "                                   min_samples_split=10,\n",
    "                                   max_leaf_nodes=8)\n",
    "\n",
    "algoritmo8.fit(train_vec_data_bb, y_train)\n",
    "\n",
    "y_pred_train = algoritmo8.predict(train_vec_data_bb)\n",
    "y_pred_test = algoritmo8.predict(test_vec_data_bb)\n",
    "\n",
    "accuracy_train = metrics.accuracy_score(y_train, y_pred_train)\n",
    "accuracy_test = metrics.accuracy_score(y_test, y_pred_test)"
   ]
  },
  {
   "cell_type": "code",
   "execution_count": 644,
   "metadata": {},
   "outputs": [
    {
     "data": {
      "image/png": "[encoded data removed]",
      "text/plain": [
       "<Figure size 1080x1080 with 1 Axes>"
      ]
     },
     "metadata": {
      "needs_background": "light"
     },
     "output_type": "display_data"
    }
   ],
   "source": [
    "# Pintando árboles con sckit-learn\n",
    "\n",
    "from sklearn.tree import plot_tree\n",
    "import matplotlib.pyplot as plt\n",
    "\n",
    "# Vamos a mostrar el árbol de decisión generado usando plot_tree\n",
    "plt.figure(figsize=(15,15))\n",
    "plot_tree(algoritmo8, filled=True, class_names=target_names, rounded=True)\n",
    "plt.show()"
   ]
  },
  {
   "cell_type": "markdown",
   "metadata": {},
   "source": [
    "- #### ¿Qué estructura tiene el árbol? "
   ]
  },
  {
   "cell_type": "code",
   "execution_count": null,
   "metadata": {},
   "outputs": [],
   "source": []
  },
  {
   "cell_type": "markdown",
   "metadata": {},
   "source": [
    "- #### ¿Cómo interpretas los niveles que has pintado? ¿tienen algún sentido con respecto a la tasa de aciertos, o la precisión y exhaustividad del clasificador? "
   ]
  },
  {
   "cell_type": "markdown",
   "metadata": {},
   "source": [
    "- #### ¿Hay nodos impuros? "
   ]
  },
  {
   "cell_type": "code",
   "execution_count": null,
   "metadata": {},
   "outputs": [],
   "source": []
  },
  {
   "cell_type": "markdown",
   "metadata": {},
   "source": [
    "### 3.Por cada clasificador identifica 2 críticas que hayan sido falsas positivas (malas críticas calificadas como buenas) y 2 críticas que han sido falsas negativas (buenas críticas clasificadas como malas). Analiza tanto su texto original, como el vector de palabras resultante (solamente los términos activos)."
   ]
  },
  {
   "cell_type": "markdown",
   "metadata": {},
   "source": [
    "- #### ¿Por qué crees que ha fallado el clasificador en cada uno de los casos? "
   ]
  },
  {
   "cell_type": "code",
   "execution_count": null,
   "metadata": {},
   "outputs": [],
   "source": []
  },
  {
   "cell_type": "markdown",
   "metadata": {},
   "source": [
    "- #### ¿Se te ocurre alguna idea sobre cómo mejorar el clasificador de sentimiento?"
   ]
  },
  {
   "cell_type": "markdown",
   "metadata": {},
   "source": [
    "# Parte 2. Recuperación de la información"
   ]
  },
  {
   "cell_type": "markdown",
   "metadata": {},
   "source": [
    "----\n",
    "## APARTADO B\n",
    "----"
   ]
  },
  {
   "cell_type": "code",
   "execution_count": null,
   "metadata": {},
   "outputs": [],
   "source": []
  }
 ],
 "metadata": {
  "kernelspec": {
   "display_name": "Python 3",
   "language": "python",
   "name": "python3"
  },
  "language_info": {
   "codemirror_mode": {
    "name": "ipython",
    "version": 3
   },
   "file_extension": ".py",
   "mimetype": "text/x-python",
   "name": "python",
   "nbconvert_exporter": "python",
   "pygments_lexer": "ipython3",
   "version": "3.7.4"
  }
 },
 "nbformat": 4,
 "nbformat_minor": 4
}
